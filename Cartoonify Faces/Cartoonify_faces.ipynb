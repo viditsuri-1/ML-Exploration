{
 "cells": [
  {
   "cell_type": "code",
   "execution_count": 26,
   "metadata": {},
   "outputs": [],
   "source": [
    "import cv2\n",
    "import os"
   ]
  },
  {
   "cell_type": "code",
   "execution_count": 27,
   "metadata": {},
   "outputs": [],
   "source": [
    "cascPathface = os.path.dirname(cv2.__file__) + \"/data/haarcascade_frontalface_alt2.xml\"\n",
    "cascPatheyes = os.path.dirname(cv2.__file__) + \"/data/haarcascade_eye_tree_eyeglasses.xml\"\n",
    "\n",
    "faceCascade = cv2.CascadeClassifier(cascPathface)\n",
    "eyeCascade = cv2.CascadeClassifier(cascPatheyes)\n",
    "\n",
    "mask_image = cv2.imread('spiderman.png')"
   ]
  },
  {
   "cell_type": "code",
   "execution_count": null,
   "metadata": {},
   "outputs": [],
   "source": [
    "video_capture = cv2.VideoCapture(0)\n",
    "\n",
    "while True:\n",
    "    # Capture frame-by-frame\n",
    "    ret, frame = video_capture.read()\n",
    "    gray = cv2.cvtColor(frame, cv2.COLOR_BGR2GRAY)\n",
    "    faces = faceCascade.detectMultiScale(gray,\n",
    "                                         scaleFactor=1.1,\n",
    "                                         minNeighbors=5,\n",
    "                                         minSize=(60, 60),\n",
    "                                         flags=cv2.CASCADE_SCALE_IMAGE)\n",
    "    \n",
    "    for (x, y, w, h) in faces:\n",
    "        cv2.rectangle(frame, (x, y), (x + w, y + h), (0, 255, 0), 2)\n",
    "        \n",
    "        faceROI = frame[y:y+h, x:x+w]\n",
    "        eyes = eyeCascade.detectMultiScale(faceROI)\n",
    "        \n",
    "        for (x2, y2, w2, h2) in eyes:\n",
    "            eye_center = (x + x2 + w2 // 2, y + y2 + h2 // 2)\n",
    "            radius = int(round((w2 + h2) * 0.25))\n",
    "            frame = cv2.circle(frame, eye_center, radius, (255, 0, 0), 4)\n",
    "\n",
    "        # Calculate scaling factor and resize the mask image\n",
    "        scale_factor = max(w / mask_image.shape[1], h / mask_image.shape[0])\n",
    "        mask_image_resized = cv2.resize(mask_image, None, fx=scale_factor, fy=scale_factor)\n",
    "        mask_h, mask_w, _ = mask_image_resized.shape\n",
    "        \n",
    "        # Adjust the mask position to align with the face region\n",
    "        mask_x1 = max(x - int((mask_w - w) / 2), 0)\n",
    "        mask_x2 = min(mask_x1 + mask_w, frame.shape[1])\n",
    "        mask_y1 = max(y - int((mask_h - h) / 2), 0)\n",
    "        mask_y2 = min(mask_y1 + mask_h, frame.shape[0])\n",
    "\n",
    "        # Mask region within frame boundaries\n",
    "        mask_image_resized = mask_image_resized[(mask_y2 - mask_y1) - h:y + (mask_y2 - mask_y1), \n",
    "                                                (mask_x2 - mask_x1) - w:x + (mask_x2 - mask_x1)]\n",
    "        \n",
    "        # Apply the resized mask image\n",
    "        frame[y:y+h, x:x+w] = cv2.addWeighted(frame[y:y+h, x:x+w], 1, mask_image_resized, 1, 0)\n",
    "        \n",
    "        # Display the resulting frame\n",
    "        cv2.imshow(\"Filter Window\", frame)\n",
    "    \n",
    "    if cv2.waitKey(1) & 0xFF == ord('q'):\n",
    "        break"
   ]
  },
  {
   "cell_type": "code",
   "execution_count": null,
   "metadata": {},
   "outputs": [],
   "source": [
    "video_capture.release()\n",
    "cv2.destroyAllWindows()"
   ]
  },
  {
   "cell_type": "code",
   "execution_count": null,
   "metadata": {},
   "outputs": [],
   "source": []
  },
  {
   "cell_type": "code",
   "execution_count": null,
   "metadata": {},
   "outputs": [],
   "source": []
  },
  {
   "cell_type": "code",
   "execution_count": null,
   "metadata": {},
   "outputs": [],
   "source": []
  },
  {
   "cell_type": "code",
   "execution_count": null,
   "metadata": {},
   "outputs": [],
   "source": []
  },
  {
   "cell_type": "code",
   "execution_count": null,
   "metadata": {},
   "outputs": [],
   "source": []
  },
  {
   "cell_type": "code",
   "execution_count": null,
   "metadata": {},
   "outputs": [],
   "source": []
  }
 ],
 "metadata": {
  "kernelspec": {
   "display_name": "Python 3 (ipykernel)",
   "language": "python",
   "name": "python3"
  },
  "language_info": {
   "codemirror_mode": {
    "name": "ipython",
    "version": 3
   },
   "file_extension": ".py",
   "mimetype": "text/x-python",
   "name": "python",
   "nbconvert_exporter": "python",
   "pygments_lexer": "ipython3",
   "version": "3.11.5"
  }
 },
 "nbformat": 4,
 "nbformat_minor": 4
}
