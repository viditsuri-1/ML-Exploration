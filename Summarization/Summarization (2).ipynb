{
 "cells": [
  {
   "cell_type": "markdown",
   "metadata": {},
   "source": [
    "# Summarization\n",
    "## This notebook outlines the concepts behind Text Summarization"
   ]
  },
  {
   "cell_type": "markdown",
   "metadata": {},
   "source": [
    "## Summarization\n",
    "- concept of capturing very important gist of a long piece of text\n",
    "\n",
    "### Types of Summarization\n",
    "- 1. **Extractive Summarization**\n",
    "    - Select sentences from the corpus that best represent the text\n",
    "    - Arrange them to form a summary\n",
    "- 2. **Abstractive Summarization**\n",
    "    - Captures the very important sentences from the text\n",
    "    - Paraphrases them to form a summary"
   ]
  },
  {
   "cell_type": "markdown",
   "metadata": {},
   "source": [
    "## Summarization Libraries\n",
    "- Sumy\n",
    "- Gensim\n",
    "- Summa\n",
    "- BERT **\n",
    "    - BART **\n",
    "    - PEGASUS **\n",
    "    - T5 **\n",
    "\n",
    "** Will be seen in DL-1\n",
    "\n",
    "\n",
    "## 1. Sumy :\n",
    "    1. Luhn – Heurestic method\n",
    "    2. Latent Semantic Analysis\n",
    "    4. LexRank – Unsupervised approach inspired by algorithms PageRank and HITS\n",
    "    5. TextRank - Graph-based summarization technique with keyword extractions in from document\n",
    "\n",
    "Documentation Reference [sumy](https://github.com/miso-belica/sumy)"
   ]
  },
  {
   "cell_type": "markdown",
   "metadata": {},
   "source": [
    "## Task: Take a piece of text from wiki page and summarize them using Sumy\n",
    "### Steps\n",
    "- Install the necessary libraries\n",
    "- Import the libraries\n",
    "- Scrape the text from a pre-defined webpage\n",
    "- Summarize"
   ]
  },
  {
   "cell_type": "markdown",
   "metadata": {},
   "source": [
    "### Install Sumy"
   ]
  },
  {
   "cell_type": "code",
   "execution_count": 177,
   "metadata": {
    "scrolled": true
   },
   "outputs": [
    {
     "name": "stdout",
     "output_type": "stream",
     "text": [
      "Requirement already satisfied: sumy in c:\\users\\vidit\\anaconda3\\lib\\site-packages (0.11.0)\n",
      "Requirement already satisfied: docopt<0.7,>=0.6.1 in c:\\users\\vidit\\anaconda3\\lib\\site-packages (from sumy) (0.6.2)\n",
      "Requirement already satisfied: breadability>=0.1.20 in c:\\users\\vidit\\anaconda3\\lib\\site-packages (from sumy) (0.1.20)\n",
      "Requirement already satisfied: requests>=2.7.0 in c:\\users\\vidit\\anaconda3\\lib\\site-packages (from sumy) (2.31.0)\n",
      "Requirement already satisfied: pycountry>=18.2.23 in c:\\users\\vidit\\anaconda3\\lib\\site-packages (from sumy) (23.12.11)\n",
      "Requirement already satisfied: nltk>=3.0.2 in c:\\users\\vidit\\anaconda3\\lib\\site-packages (from sumy) (3.8.1)\n",
      "Requirement already satisfied: chardet in c:\\users\\vidit\\anaconda3\\lib\\site-packages (from breadability>=0.1.20->sumy) (4.0.0)\n",
      "Requirement already satisfied: lxml>=2.0 in c:\\users\\vidit\\anaconda3\\lib\\site-packages (from breadability>=0.1.20->sumy) (4.9.3)\n",
      "Requirement already satisfied: click in c:\\users\\vidit\\anaconda3\\lib\\site-packages (from nltk>=3.0.2->sumy) (8.0.4)\n",
      "Requirement already satisfied: joblib in c:\\users\\vidit\\anaconda3\\lib\\site-packages (from nltk>=3.0.2->sumy) (1.2.0)\n",
      "Requirement already satisfied: regex>=2021.8.3 in c:\\users\\vidit\\anaconda3\\lib\\site-packages (from nltk>=3.0.2->sumy) (2022.7.9)\n",
      "Requirement already satisfied: tqdm in c:\\users\\vidit\\anaconda3\\lib\\site-packages (from nltk>=3.0.2->sumy) (4.65.0)\n",
      "Requirement already satisfied: charset-normalizer<4,>=2 in c:\\users\\vidit\\anaconda3\\lib\\site-packages (from requests>=2.7.0->sumy) (2.0.4)\n",
      "Requirement already satisfied: idna<4,>=2.5 in c:\\users\\vidit\\anaconda3\\lib\\site-packages (from requests>=2.7.0->sumy) (3.4)\n",
      "Requirement already satisfied: urllib3<3,>=1.21.1 in c:\\users\\vidit\\anaconda3\\lib\\site-packages (from requests>=2.7.0->sumy) (1.26.16)\n",
      "Requirement already satisfied: certifi>=2017.4.17 in c:\\users\\vidit\\anaconda3\\lib\\site-packages (from requests>=2.7.0->sumy) (2023.11.17)\n",
      "Requirement already satisfied: colorama in c:\\users\\vidit\\anaconda3\\lib\\site-packages (from click->nltk>=3.0.2->sumy) (0.4.6)\n"
     ]
    }
   ],
   "source": [
    "! pip install sumy"
   ]
  },
  {
   "cell_type": "markdown",
   "metadata": {},
   "source": [
    "### Import the libraries\n",
    "- HtmlParser\n",
    "- Tokenizer\n",
    "- TextRankSummarizer"
   ]
  },
  {
   "cell_type": "code",
   "execution_count": 178,
   "metadata": {},
   "outputs": [],
   "source": [
    "from sumy.parsers.html import HtmlParser\n",
    "from sumy.nlp.tokenizers import Tokenizer\n",
    "from sumy.summarizers.text_rank import TextRankSummarizer\n",
    "\n",
    "from bs4 import BeautifulSoup\n",
    "import requests\n",
    "import nltk"
   ]
  },
  {
   "cell_type": "markdown",
   "metadata": {},
   "source": [
    "### Scrape the text"
   ]
  },
  {
   "cell_type": "code",
   "execution_count": 179,
   "metadata": {},
   "outputs": [],
   "source": [
    "url = \"https://medium.com/@subashgandyer/papa-what-is-a-neural-network-c5e5cc427c7\""
   ]
  },
  {
   "cell_type": "code",
   "execution_count": 180,
   "metadata": {},
   "outputs": [
    {
     "data": {
      "text/plain": [
       "'Sign up\\nSign in\\nSign up\\nSign in\\nSubash Gandyer\\nFollow\\n--\\n1\\nListen\\nShare\\nIt was a cozy Sunday afternoon in the month of February 2018. I just finished my huge customary Sunday lunch spread with family and resting along. Everyone in the family was taking a quick nap for a pre-planned evening outing. Well not everyone, actually.\\nMy 4-year-old angel came running to me, asked me to play with her for a while. As I was lazy and not in a position to move after the big spread, I evaded the chance to play with her by telling her “Papa’s got some work baby. Got to code some stuff.” I thought that would be the end of the conversation. No! It wasn’t. As my daughter was very inquisitive, she asked me “Papa, what stuff?” I said, “I need to code something for my work.” She didn’t leave. She again asked, “What is code something?” I wanted to end this conversation, as I was half past asleep. “Just some stuff baby. You wouldn’t understand. Way beyond your age.” Tanishi never takes NO for an answer. “Papa, tell me what stuff means and something means.” Cannot help evade a cute curious face, I said, “I am working on Neural Network.” Before I finish the statement, “Papa, What is a Meural Metark?” I gave up my stubbornness of avoiding her. With a smile, I said slowly, “Its Neu — ral Net — work”\\nShe asked, “Papa, What is Meu-ral Met-ark?”\\nAt the back of my head, thoughts of me taking days to comprehend what a NN (short for Neural Network) is, how it would work, where it is used, how it is simulating our human brain’s inner workings were going through. It took me days and weeks to understand fully and how can I make a 4-year-old understand what a Neural Network is. I never thought about teaching a complex concept to a kid before. It was way beyond their age. It was not a mere color or a shape or a number to teach. This was going to be interesting and challenging. I saw an opportunity here as a teacher (teaching professional college adults) to simplify the complex problem to a simpler understandable concept for a kid who doesn’t know anything apart from ABC, 1 to 20, Colors and Shapes. WOW! This was mind-boggling. I gave a couple of lectures to make my adult students understand what a Neural Network is when I taught them a mini-Machine Learning course. I rolled up my sleeves. Took up the challenge. Sat down beside my kid with pencil, drawing sheet and my laptop.\\nThinking of ways of what would be the best way to start teaching her. One simple methodology: I thought of starting with an easy-to-follow definition.\\n“Neural Network is a collection (a network) of neurons whose job is to learn a new thing or a new place or a new process or a new concept.”\\nIt would be stupid on my part to start with a definition of Neural Network like how we used to teach adults in college. No, it’s not right for a kid. Then, I thought of a way to start with her favorite hobby of drawing and coloring objects. Gave her a paper, ask her to draw a circle. She did. She didn’t stop there. She drew a face inside the circle. She did with great pride and smile. I drew a circle below. Asked her to draw a dog out of it. She drew a face on the circle, and then she drew one big ellipse next to head. Beneath the ellipse, she drew four legs downwards. She said, “That’s the dog daddy.” I was super impressed as her daddy. I said, “Good Job!” and asked her, “Where’s the tail, baby?” She smiled and drew a tail. That’s it. There’s a dog.\\nI knew she never learnt to draw a lion. I took this opportunity to make her learn a new thing. After all, neural network inside our brain helps us to learn new things in our life. I said, “Baby, we would learn how to draw a lion now.” She’s bustling with energy said “Yayyyy! Lion!” and made “Grrrrrrrrr!!!” I tested her by asking her to try drawing a lion. She stumbled. She never came across a lion before. I told her, there would be a circle face, ellipse body, four legs, a tail and so on. What I was actually doing here was teaching her neural network (brain) the features of a lion like exactly how Machine Learning Engineers would train the machine to learn new features. After telling her the features of a lion, asked her “Can you draw these for me?” She happily drew almost a similar figure to that of a dog she drew before.\\nI said, “Very good”. But they look similar right? Now, we need to know the difference between a dog and a lion. What’s the difference? Lion is big. Dog is small. One big difference is the mane (the beard) just like your papa has. A big beard is the main difference between a lion and a dog. Now I took the pencil and drew a beard in the face. I told her this is a lion. A dog will have features like face, body, legs, and tail. A lion will have features like face, body, legs, tail and a beard. She was little confused, rightly so.\\nTried a different approach to teach her with visuals. I spend some time in collecting pictures of dogs and lions from Google images. Printed it and showed her a set of dogs and then a set of lions. I asked her what these pictures look like to you? Was it a dog or a lion? She kept mixing the answers first. After rewarding her for correct classifications with nice adjectives and correcting her for wrong classifications, her detection accuracy improved a lot after sometime. She slowly got used to it. She got trained. Her neural network got aligned with classifying Dogs and Lions after some training. If you’ve noticed, this is how ML people make their machines learn through Reinforcement Learning. This was how I trained my daughter to classify dogs and lions. She was so happy that she learnt a new thing by doing her favorite pastime of drawing and coloring.\\nShe was happy and there was the neural network functioning concept that still remained to be taught to her. I asked her “What happened now baby? Did you learn something new today? Do you know what is the difference between a lion and a dog?” She said, “Yes.” I said, “This is called Learning. You just learnt a new thing today. How you learnt it is because of Neural Network inside your brain.” Now, a neural network is a collection of neurons that keeps switching on and off based on things you see, feel, hear and think just like switching on light bulb at our home.\\n“Your brain is here inside our head. Your brain has billions of neurons inside. Every neuron has a purpose of seeing a feature. You can think of a feature as a simpler form of an object. For example, a face object can be seen by neurons as a circle (face) with two smaller circles (two eyes), a line (nose) and a curved line (mouth). These are features in a face object. Neurons will look for these patterns (circle, line, curved line, smaller circles and so on). Every neuron is waiting for your eyes to see something new, for your nose to smell something new, for your ears to hear something new, for your tongue to taste something new. When something new is heard, or smelled, or seen, or tasted, the neurons will group together to send signals and forms connections with already seen, heard, tasted or smelled neurons. This is what is called as ‘Forming Logical Connections’ with the past. Once it is established, your brain will say, ‘Hey, this is dog. This is lion and so on.’ Every neuron would’ve seen, or heard, or smelled, or tasted certain features. When you see a new object, your brain will ask the neurons, ‘Hey, anybody experienced this before?’ The neurons will say, ‘Yes, I have seen this.’ Certain other neurons will say, ‘No, I have not seen this.’ The neurons that have seen this before, will group together and form logical connections from the past and gives us an object from our memory. For example, when I showed you a lion picture, your brain asked the neurons who had seen it before. The neurons grouped together with features like face, body, legs, tail and a beard forms a lion. Your brain looks for these features. Once all the features are there, the neurons will send a signal that the picture you are looking at is a lion and not a dog. This is what happens inside your brain, darling. This is also how all our learning happens.”\\n“In short, brain consists of billions of neurons. Every neuron will tune itself to pick up certain features like legs, tail, face, beard, and so on. When a picture is shown to you, your neurons will group together and tries to signal what that object is by forming logical connections between the past and the present. Ultimately, the neurons in your brain tell that it is a lion and not a dog. This is how your brain identifies things. This complex working of the neurons inside the brain works super fast in the order of milliseconds (very fast). In a few milliseconds, your brain identifies whether the picture is a lion or a dog. This is what a neural network is and this is how it works in identifying things. The same principle is applied for a song that you hear, a cartoon that you watch, a rhyme that you sing, an animal that you draw, a food that you taste, a flower that you smell and so on. Neurons work together in finding patterns and once a pattern is identified, it signals the brain that it is a thing, place, song, taste, smell and so on.”\\nIt was the time to test her understanding. I asked her simple questions to reiterate what she learnt just now. “Do you understand now, baby? Shall I ask you some questions? If you answer it correctly, I will take you out to the ice-cream parlor and you can have how much ever you want. “ The conversation went like this.\\nMe: Where is your brain?\\nTanishi: Its here (showing her head)\\nMe: Correct! Where are the neurons located?\\nTanishi: Here (showing her head)\\nMe: Good! Who is responsible for identifying things, objects inside our brain?\\nTanishi: Hmmmm. Don’t know.\\nMe: I will give a clue. It starts with ’N’ and ends with a rhyming sound of ‘ons’\\nTanishi: Neurons\\nMe: Good job, baby. Every neuron looks for something. What is a neuron looking for? I will give you a hint. Is it features?\\nTanishi: Yes.\\nMe: Tell me what neurons are looking for?\\nTanishi: Features.\\nMe: Great! When I ask you to draw a dog, what are the features there?\\nTanishi: Help me. I don’t know.\\nMe: Okay, when I ask you to draw a dog, what is the first thing you draw?\\nTanishi: Circle.\\nMe: Good. Circle represents what?\\nTanishi: Face\\nMe: Yeah, baby. Then what you draw next?\\nTanishi: I draw eyes, nose, and mouth.\\nMe: Good. That’s right. So, the face has got eyes, nose and mouth as features. Now tell me, what are the features in a face?\\nTanishi: Eyes, nose, mouth\\nMe: Brilliant! After the face, what do you draw for completing a dog?\\nTanishi: Body\\nMe: What shape is the body?\\nTanishi: Ellipse\\nMe: Nice. This is also a feature that our neurons are looking for. What’s next?\\nTanishi: Legs\\nMe: How many legs does a dog have?\\nTanishi: 1,2,3,4. 4 legs\\nMe: Good. Anything else to draw in a dog?\\nTanishi: That’s it.\\nMe: Hey how about a tail? Dogs have tail?\\nTanishi: Yes.\\nMe: So, for a dog, the features are face, body, legs and tail. Do you understand what are the features now for a dog?\\nTanishi: Yes!!!\\nMe: What are they?\\nTanishi: Face, body, legs and tail\\nMe: Amazing baby. If I ask you to draw a lion, what are the features? Same features as a dog but with an extra feature. Can you tell me what that extra feature is for a lion? It starts with ‘B’\\nTanishi: Beard. (Holding my beard, she smiled and said) Beard like you\\nMe: Yes, darling. Good job. So, neurons are inside our brain waiting for features. To identify an object, it looks for features. Once the features are seen and a logical connection is established, neurons signals your brain that it is a lion. Who sends signal to the brain?\\nTanishi: Neurons\\nMe: Now, these neurons are working together as friends. They are like your friends Daisy, Rose, Isabelle and Hayami. All neurons work together like your friends and identify lion and dog. So, this group of neuron friends is called as Neural Network. Tell me, what is a neural network?\\nTanishi: Neuron friends\\nMe: Good. Neural network is a group of neuron friends identifying lions and dogs. Do you understand Neural Network now?\\nTanishi: Yes papa.\\nMe: Brilliant job baby. Come, let’s go, and get some ice creams for my lovely angel.\\nPhew! That was a challenging and a learning experience for me as well. That was how I ended my Sunday afternoon with my brilliant daughter who can teach other kids what a Meural Metark is. And I hope she will not come to me running asking “Papa, what is Meural Metark?” again. And I have a strong feeling; she would ask me another stunning question sooner or later. Fingers crossed and I am prepared to take up the challenges coming my way in the future.\\n--\\n--\\n1\\nCS Teacher to ...\\nHelp\\nStatus\\nAbout\\nCareers\\nBlog\\nPrivacy\\nTerms\\nText to speech\\nTeams'"
      ]
     },
     "execution_count": 180,
     "metadata": {},
     "output_type": "execute_result"
    }
   ],
   "source": [
    "def get_page(url):\n",
    "    response = requests.get(url)\n",
    "    soup = BeautifulSoup(response.content, 'html.parser')\n",
    "    return soup\n",
    "\n",
    "def collect_text(soup):\n",
    "    paragraphs = soup.find_all('p')\n",
    "    text = '\\n'.join([p.text for p in paragraphs])\n",
    "    return text\n",
    "\n",
    "soup = get_page(url)\n",
    "text = collect_text(soup)\n",
    "\n",
    "text"
   ]
  },
  {
   "cell_type": "markdown",
   "metadata": {},
   "source": [
    "### Summarize - TextRankSummarizer"
   ]
  },
  {
   "cell_type": "code",
   "execution_count": 181,
   "metadata": {},
   "outputs": [],
   "source": [
    "import nltk\n",
    "#nltk.download('punkt')\n",
    "\n",
    "text_rank_summary = TextRankSummarizer()\n",
    "\n",
    "def summarize_with_sumy(text, summarizer, num_sentences):\n",
    "    parser = HtmlParser.from_string(text, url, Tokenizer(\"english\"))\n",
    "    summary = summarizer(parser.document, num_sentences)\n",
    "    return \"\\n\".join([str(sentence) for sentence in summary])\n"
   ]
  },
  {
   "cell_type": "code",
   "execution_count": 186,
   "metadata": {},
   "outputs": [
    {
     "name": "stdout",
     "output_type": "stream",
     "text": [
      "With a smile, I said slowly, “Its Neu — ral Net — work”\n",
      "She asked, “Papa, What is Meu-ral Met-ark?”\n",
      "At the back of my head, thoughts of me taking days to comprehend what a NN (short for Neural Network) is, how it would work, where it is used, how it is simulating our human brain’s inner workings were going through.\n",
      "“Neural Network is a collection (a network) of neurons whose job is to learn a new thing or a new place or a new process or a new concept.”\n",
      "It would be stupid on my part to start with a definition of Neural Network like how we used to teach adults in college.\n",
      "After telling her the features of a lion, asked her “Can you draw these for me?” She happily drew almost a similar figure to that of a dog she drew before.\n",
      "When you see a new object, your brain will ask the neurons, ‘Hey, anybody experienced this before?’ The neurons will say, ‘Yes, I have seen this.’ Certain other neurons will say, ‘No, I have not seen this.’ The neurons that have seen this before, will group together and form logical connections from the past and gives us an object from our memory.\n",
      "The same principle is applied for a song that you hear, a cartoon that you watch, a rhyme that you sing, an animal that you draw, a food that you taste, a flower that you smell and so on.\n"
     ]
    }
   ],
   "source": [
    "text_rank_summary = summarize_with_sumy(text, text_rank_summarizer, 5)\n",
    "print(text_rank_summary)"
   ]
  },
  {
   "cell_type": "markdown",
   "metadata": {},
   "source": [
    "### Try different Summarizers\n",
    "- LexRankSummarizer\n",
    "- LuhnSummarizer\n",
    "- LsaSummarizer"
   ]
  },
  {
   "cell_type": "markdown",
   "metadata": {},
   "source": [
    "### Import the summarizers"
   ]
  },
  {
   "cell_type": "code",
   "execution_count": 187,
   "metadata": {},
   "outputs": [],
   "source": [
    "from sumy.summarizers.lex_rank import LexRankSummarizer\n",
    "from sumy.summarizers.luhn import LuhnSummarizer\n",
    "from sumy.summarizers.lsa import LsaSummarizer"
   ]
  },
  {
   "cell_type": "markdown",
   "metadata": {},
   "source": [
    "### Create Summarizers"
   ]
  },
  {
   "cell_type": "code",
   "execution_count": 188,
   "metadata": {},
   "outputs": [],
   "source": [
    "lex_rank_summarizer = LexRankSummarizer()\n",
    "luhn_summarizer = LuhnSummarizer()\n",
    "lsa_summarizer = LsaSummarizer()"
   ]
  },
  {
   "cell_type": "code",
   "execution_count": 189,
   "metadata": {},
   "outputs": [],
   "source": [
    "from nltk.tokenize import sent_tokenize\n",
    "\n",
    "def preprocess_text(text):\n",
    "    sentences = sent_tokenize(text)\n",
    "    cleaned_text = ' '.join(sentences)\n",
    "    return cleaned_text\n",
    "\n",
    "cleaned_text = preprocess_text(text)"
   ]
  },
  {
   "cell_type": "markdown",
   "metadata": {},
   "source": [
    "### LexRankSummarizer"
   ]
  },
  {
   "cell_type": "code",
   "execution_count": 190,
   "metadata": {},
   "outputs": [
    {
     "data": {
      "text/plain": [
       "'I said, “Good Job!” and asked her, “Where’s the tail, baby?” She smiled and drew a tail.\\nAfter telling her the features of a lion, asked her “Can you draw these for me?” She happily drew almost a similar figure to that of a dog she drew before.\\nWas it a dog or a lion?\\nUltimately, the neurons in your brain tell that it is a lion and not a dog.\\nTanishi: That’s it.'"
      ]
     },
     "execution_count": 190,
     "metadata": {},
     "output_type": "execute_result"
    }
   ],
   "source": [
    "lex_rank_summary = summarize_with_sumy(cleaned_text, lex_rank_summarizer, 5)\n",
    "lex_rank_summary"
   ]
  },
  {
   "cell_type": "markdown",
   "metadata": {},
   "source": [
    "### LuhnSummarizer"
   ]
  },
  {
   "cell_type": "code",
   "execution_count": 191,
   "metadata": {},
   "outputs": [
    {
     "name": "stdout",
     "output_type": "stream",
     "text": [
      "With a smile, I said slowly, “Its Neu — ral Net — work”\n",
      "She asked, “Papa, What is Meu-ral Met-ark?”\n",
      "At the back of my head, thoughts of me taking days to comprehend what a NN (short for Neural Network) is, how it would work, where it is used, how it is simulating our human brain’s inner workings were going through.\n",
      "“Neural Network is a collection (a network) of neurons whose job is to learn a new thing or a new place or a new process or a new concept.”\n",
      "It would be stupid on my part to start with a definition of Neural Network like how we used to teach adults in college.\n",
      "How you learnt it is because of Neural Network inside your brain.” Now, a neural network is a collection of neurons that keeps switching on and off based on things you see, feel, hear and think just like switching on light bulb at our home.\n",
      "Every neuron is waiting for your eyes to see something new, for your nose to smell something new, for your ears to hear something new, for your tongue to taste something new.\n",
      "When you see a new object, your brain will ask the neurons, ‘Hey, anybody experienced this before?’ The neurons will say, ‘Yes, I have seen this.’ Certain other neurons will say, ‘No, I have not seen this.’ The neurons that have seen this before, will group together and form logical connections from the past and gives us an object from our memory.\n"
     ]
    }
   ],
   "source": [
    "luhn_summary = summarize_with_sumy(cleaned_text, luhn_summarizer, 5)\n",
    "print(luhn_summary)"
   ]
  },
  {
   "cell_type": "markdown",
   "metadata": {},
   "source": [
    "### LsaSummarizer"
   ]
  },
  {
   "cell_type": "code",
   "execution_count": 192,
   "metadata": {},
   "outputs": [
    {
     "name": "stdout",
     "output_type": "stream",
     "text": [
      "If you’ve noticed, this is how ML people make their machines learn through Reinforcement Learning.\n",
      "For example, when I showed you a lion picture, your brain asked the neurons who had seen it before.\n",
      "Every neuron will tune itself to pick up certain features like legs, tail, face, beard, and so on.\n",
      "And I hope she will not come to me running asking “Papa, what is Meural Metark?” again.\n",
      "And I have a strong feeling; she would ask me another stunning question sooner or later.\n"
     ]
    }
   ],
   "source": [
    "lsa_summary = summarize_with_sumy(cleaned_text, lsa_summarizer, 5)\n",
    "print(lsa_summary)"
   ]
  },
  {
   "cell_type": "markdown",
   "metadata": {},
   "source": [
    "## 2. Gensim"
   ]
  },
  {
   "cell_type": "markdown",
   "metadata": {},
   "source": [
    "## Task: Take a piece of text from wiki page and summarize them using Gensim\n",
    "### Steps\n",
    "- Install the necessary libraries\n",
    "- Import the libraries\n",
    "- Scrape the text from a pre-defined webpage\n",
    "- Summarize"
   ]
  },
  {
   "cell_type": "markdown",
   "metadata": {},
   "source": [
    "### Install the library"
   ]
  },
  {
   "cell_type": "code",
   "execution_count": 27,
   "metadata": {},
   "outputs": [
    {
     "name": "stdout",
     "output_type": "stream",
     "text": [
      "Collecting gensim==3.6.0\n",
      "  Downloading gensim-3.6.0.tar.gz (23.1 MB)\n",
      "     ---------------------------------------- 0.0/23.1 MB ? eta -:--:--\n",
      "     --------------------------------------- 0.0/23.1 MB 660.6 kB/s eta 0:00:35\n",
      "      --------------------------------------- 0.4/23.1 MB 4.5 MB/s eta 0:00:06\n",
      "     - -------------------------------------- 1.1/23.1 MB 8.5 MB/s eta 0:00:03\n",
      "     --- ------------------------------------ 1.9/23.1 MB 10.9 MB/s eta 0:00:02\n",
      "     ---- ----------------------------------- 2.6/23.1 MB 11.9 MB/s eta 0:00:02\n",
      "     ------ --------------------------------- 3.7/23.1 MB 13.9 MB/s eta 0:00:02\n",
      "     -------- ------------------------------- 4.7/23.1 MB 15.1 MB/s eta 0:00:02\n",
      "     ---------- ----------------------------- 5.9/23.1 MB 16.3 MB/s eta 0:00:02\n",
      "     ------------ --------------------------- 7.0/23.1 MB 17.3 MB/s eta 0:00:01\n",
      "     -------------- ------------------------- 8.1/23.1 MB 18.6 MB/s eta 0:00:01\n",
      "     --------------- ------------------------ 8.9/23.1 MB 18.4 MB/s eta 0:00:01\n",
      "     ---------------- ----------------------- 9.8/23.1 MB 18.4 MB/s eta 0:00:01\n",
      "     ------------------ -------------------- 11.2/23.1 MB 21.1 MB/s eta 0:00:01\n",
      "     ------------------- ------------------- 11.5/23.1 MB 19.2 MB/s eta 0:00:01\n",
      "     -------------------- ------------------ 12.4/23.1 MB 18.7 MB/s eta 0:00:01\n",
      "     ---------------------- ---------------- 13.5/23.1 MB 19.3 MB/s eta 0:00:01\n",
      "     ----------------------- --------------- 14.1/23.1 MB 18.7 MB/s eta 0:00:01\n",
      "     ------------------------ -------------- 14.8/23.1 MB 17.7 MB/s eta 0:00:01\n",
      "     -------------------------- ------------ 15.9/23.1 MB 17.7 MB/s eta 0:00:01\n",
      "     ---------------------------- ---------- 16.7/23.1 MB 17.3 MB/s eta 0:00:01\n",
      "     ----------------------------- --------- 17.6/23.1 MB 17.3 MB/s eta 0:00:01\n",
      "     ------------------------------- ------- 18.6/23.1 MB 16.8 MB/s eta 0:00:01\n",
      "     -------------------------------- ------ 19.4/23.1 MB 16.8 MB/s eta 0:00:01\n",
      "     --------------------------------- ----- 20.0/23.1 MB 16.8 MB/s eta 0:00:01\n",
      "     ---------------------------------- ---- 20.7/23.1 MB 16.0 MB/s eta 0:00:01\n",
      "     ------------------------------------ -- 21.7/23.1 MB 17.7 MB/s eta 0:00:01\n",
      "     ------------------------------------- - 22.5/23.1 MB 17.7 MB/s eta 0:00:01\n",
      "     --------------------------------------  23.1/23.1 MB 18.2 MB/s eta 0:00:01\n",
      "     --------------------------------------  23.1/23.1 MB 18.2 MB/s eta 0:00:01\n",
      "     --------------------------------------  23.1/23.1 MB 18.2 MB/s eta 0:00:01\n",
      "     --------------------------------------- 23.1/23.1 MB 14.9 MB/s eta 0:00:00\n",
      "  Preparing metadata (setup.py): started\n",
      "  Preparing metadata (setup.py): finished with status 'done'\n",
      "Requirement already satisfied: numpy>=1.11.3 in c:\\users\\vidit\\anaconda3\\lib\\site-packages (from gensim==3.6.0) (1.24.3)\n",
      "Requirement already satisfied: scipy>=0.18.1 in c:\\users\\vidit\\anaconda3\\lib\\site-packages (from gensim==3.6.0) (1.11.1)\n",
      "Requirement already satisfied: six>=1.5.0 in c:\\users\\vidit\\anaconda3\\lib\\site-packages (from gensim==3.6.0) (1.16.0)\n",
      "Requirement already satisfied: smart_open>=1.2.1 in c:\\users\\vidit\\anaconda3\\lib\\site-packages (from gensim==3.6.0) (5.2.1)\n",
      "Building wheels for collected packages: gensim\n",
      "  Building wheel for gensim (setup.py): started\n",
      "  Building wheel for gensim (setup.py): finished with status 'done'\n",
      "  Created wheel for gensim: filename=gensim-3.6.0-cp311-cp311-win_amd64.whl size=23429741 sha256=9610f26d2896b7de8c18877d3afb7a87de7ae7b90b573115b1efbaff76b08886\n",
      "  Stored in directory: c:\\users\\vidit\\appdata\\local\\pip\\cache\\wheels\\6b\\84\\4d\\ea7977f42f89ebaa24f5702cc2d5013300934c7641d48c1521\n",
      "Successfully built gensim\n",
      "Installing collected packages: gensim\n",
      "  Attempting uninstall: gensim\n",
      "    Found existing installation: gensim 4.3.0\n",
      "    Uninstalling gensim-4.3.0:\n",
      "      Successfully uninstalled gensim-4.3.0\n",
      "Successfully installed gensim-3.6.0\n"
     ]
    }
   ],
   "source": [
    "!pip install gensim==3.6.0"
   ]
  },
  {
   "cell_type": "markdown",
   "metadata": {},
   "source": [
    "### Import the library"
   ]
  },
  {
   "cell_type": "code",
   "execution_count": 193,
   "metadata": {},
   "outputs": [],
   "source": [
    "from gensim.summarization import summarize"
   ]
  },
  {
   "cell_type": "markdown",
   "metadata": {},
   "source": [
    "### Scrape the text\n",
    "- Use beautifulSoup to extract text (from Task1 of ML-1)"
   ]
  },
  {
   "cell_type": "code",
   "execution_count": 194,
   "metadata": {},
   "outputs": [],
   "source": [
    "from bs4 import BeautifulSoup\n",
    "import requests\n",
    "\n",
    "def get_text_from_url(url):\n",
    "    response = requests.get(url)\n",
    "    soup = BeautifulSoup(response.content, \"html.parser\")\n",
    "    paragraphs = soup.find_all('p')\n",
    "    text = ' '.join([para.text for para in paragraphs])\n",
    "    return text\n",
    "\n",
    "url = \"https://medium.com/@subashgandyer/papa-what-is-a-neural-network-c5e5cc427c7\"\n",
    "text = get_text_from_url(url)"
   ]
  },
  {
   "cell_type": "code",
   "execution_count": 195,
   "metadata": {},
   "outputs": [
    {
     "data": {
      "text/plain": [
       "'Sign up Sign in Sign up Sign in Subash Gandyer Follow -- 1 Listen Share It was a cozy Sunday afternoon in the month of February 2018. I just finished my huge customary Sunday lunch spread with family and resting along. Everyone in the family was taking a quick nap for a pre-planned evening outing. Well not everyone, actually. My 4-year-old angel came running to me, asked me to play with her for a while. As I was lazy and not in a position to move after the big spread, I evaded the chance to play with her by telling her “Papa’s got some work baby. Got to code some stuff.” I thought that would be the end of the conversation. No! It wasn’t. As my daughter was very inquisitive, she asked me “Papa, what stuff?” I said, “I need to code something for my work.” She didn’t leave. She again asked, “What is code something?” I wanted to end this conversation, as I was half past asleep. “Just some stuff baby. You wouldn’t understand. Way beyond your age.” Tanishi never takes NO for an answer. “Papa, tell me what stuff means and something means.” Cannot help evade a cute curious face, I said, “I am working on Neural Network.” Before I finish the statement, “Papa, What is a Meural Metark?” I gave up my stubbornness of avoiding her. With a smile, I said slowly, “Its Neu — ral Net — work” She asked, “Papa, What is Meu-ral Met-ark?” At the back of my head, thoughts of me taking days to comprehend what a NN (short for Neural Network) is, how it would work, where it is used, how it is simulating our human brain’s inner workings were going through. It took me days and weeks to understand fully and how can I make a 4-year-old understand what a Neural Network is. I never thought about teaching a complex concept to a kid before. It was way beyond their age. It was not a mere color or a shape or a number to teach. This was going to be interesting and challenging. I saw an opportunity here as a teacher (teaching professional college adults) to simplify the complex problem to a simpler understandable concept for a kid who doesn’t know anything apart from ABC, 1 to 20, Colors and Shapes. WOW! This was mind-boggling. I gave a couple of lectures to make my adult students understand what a Neural Network is when I taught them a mini-Machine Learning course. I rolled up my sleeves. Took up the challenge. Sat down beside my kid with pencil, drawing sheet and my laptop. Thinking of ways of what would be the best way to start teaching her. One simple methodology: I thought of starting with an easy-to-follow definition. “Neural Network is a collection (a network) of neurons whose job is to learn a new thing or a new place or a new process or a new concept.” It would be stupid on my part to start with a definition of Neural Network like how we used to teach adults in college. No, it’s not right for a kid. Then, I thought of a way to start with her favorite hobby of drawing and coloring objects. Gave her a paper, ask her to draw a circle. She did. She didn’t stop there. She drew a face inside the circle. She did with great pride and smile. I drew a circle below. Asked her to draw a dog out of it. She drew a face on the circle, and then she drew one big ellipse next to head. Beneath the ellipse, she drew four legs downwards. She said, “That’s the dog daddy.” I was super impressed as her daddy. I said, “Good Job!” and asked her, “Where’s the tail, baby?” She smiled and drew a tail. That’s it. There’s a dog. I knew she never learnt to draw a lion. I took this opportunity to make her learn a new thing. After all, neural network inside our brain helps us to learn new things in our life. I said, “Baby, we would learn how to draw a lion now.” She’s bustling with energy said “Yayyyy! Lion!” and made “Grrrrrrrrr!!!” I tested her by asking her to try drawing a lion. She stumbled. She never came across a lion before. I told her, there would be a circle face, ellipse body, four legs, a tail and so on. What I was actually doing here was teaching her neural network (brain) the features of a lion like exactly how Machine Learning Engineers would train the machine to learn new features. After telling her the features of a lion, asked her “Can you draw these for me?” She happily drew almost a similar figure to that of a dog she drew before. I said, “Very good”. But they look similar right? Now, we need to know the difference between a dog and a lion. What’s the difference? Lion is big. Dog is small. One big difference is the mane (the beard) just like your papa has. A big beard is the main difference between a lion and a dog. Now I took the pencil and drew a beard in the face. I told her this is a lion. A dog will have features like face, body, legs, and tail. A lion will have features like face, body, legs, tail and a beard. She was little confused, rightly so. Tried a different approach to teach her with visuals. I spend some time in collecting pictures of dogs and lions from Google images. Printed it and showed her a set of dogs and then a set of lions. I asked her what these pictures look like to you? Was it a dog or a lion? She kept mixing the answers first. After rewarding her for correct classifications with nice adjectives and correcting her for wrong classifications, her detection accuracy improved a lot after sometime. She slowly got used to it. She got trained. Her neural network got aligned with classifying Dogs and Lions after some training. If you’ve noticed, this is how ML people make their machines learn through Reinforcement Learning. This was how I trained my daughter to classify dogs and lions. She was so happy that she learnt a new thing by doing her favorite pastime of drawing and coloring. She was happy and there was the neural network functioning concept that still remained to be taught to her. I asked her “What happened now baby? Did you learn something new today? Do you know what is the difference between a lion and a dog?” She said, “Yes.” I said, “This is called Learning. You just learnt a new thing today. How you learnt it is because of Neural Network inside your brain.” Now, a neural network is a collection of neurons that keeps switching on and off based on things you see, feel, hear and think just like switching on light bulb at our home. “Your brain is here inside our head. Your brain has billions of neurons inside. Every neuron has a purpose of seeing a feature. You can think of a feature as a simpler form of an object. For example, a face object can be seen by neurons as a circle (face) with two smaller circles (two eyes), a line (nose) and a curved line (mouth). These are features in a face object. Neurons will look for these patterns (circle, line, curved line, smaller circles and so on). Every neuron is waiting for your eyes to see something new, for your nose to smell something new, for your ears to hear something new, for your tongue to taste something new. When something new is heard, or smelled, or seen, or tasted, the neurons will group together to send signals and forms connections with already seen, heard, tasted or smelled neurons. This is what is called as ‘Forming Logical Connections’ with the past. Once it is established, your brain will say, ‘Hey, this is dog. This is lion and so on.’ Every neuron would’ve seen, or heard, or smelled, or tasted certain features. When you see a new object, your brain will ask the neurons, ‘Hey, anybody experienced this before?’ The neurons will say, ‘Yes, I have seen this.’ Certain other neurons will say, ‘No, I have not seen this.’ The neurons that have seen this before, will group together and form logical connections from the past and gives us an object from our memory. For example, when I showed you a lion picture, your brain asked the neurons who had seen it before. The neurons grouped together with features like face, body, legs, tail and a beard forms a lion. Your brain looks for these features. Once all the features are there, the neurons will send a signal that the picture you are looking at is a lion and not a dog. This is what happens inside your brain, darling. This is also how all our learning happens.” “In short, brain consists of billions of neurons. Every neuron will tune itself to pick up certain features like legs, tail, face, beard, and so on. When a picture is shown to you, your neurons will group together and tries to signal what that object is by forming logical connections between the past and the present. Ultimately, the neurons in your brain tell that it is a lion and not a dog. This is how your brain identifies things. This complex working of the neurons inside the brain works super fast in the order of milliseconds (very fast). In a few milliseconds, your brain identifies whether the picture is a lion or a dog. This is what a neural network is and this is how it works in identifying things. The same principle is applied for a song that you hear, a cartoon that you watch, a rhyme that you sing, an animal that you draw, a food that you taste, a flower that you smell and so on. Neurons work together in finding patterns and once a pattern is identified, it signals the brain that it is a thing, place, song, taste, smell and so on.” It was the time to test her understanding. I asked her simple questions to reiterate what she learnt just now. “Do you understand now, baby? Shall I ask you some questions? If you answer it correctly, I will take you out to the ice-cream parlor and you can have how much ever you want. “ The conversation went like this. Me: Where is your brain? Tanishi: Its here (showing her head) Me: Correct! Where are the neurons located? Tanishi: Here (showing her head) Me: Good! Who is responsible for identifying things, objects inside our brain? Tanishi: Hmmmm. Don’t know. Me: I will give a clue. It starts with ’N’ and ends with a rhyming sound of ‘ons’ Tanishi: Neurons Me: Good job, baby. Every neuron looks for something. What is a neuron looking for? I will give you a hint. Is it features? Tanishi: Yes. Me: Tell me what neurons are looking for? Tanishi: Features. Me: Great! When I ask you to draw a dog, what are the features there? Tanishi: Help me. I don’t know. Me: Okay, when I ask you to draw a dog, what is the first thing you draw? Tanishi: Circle. Me: Good. Circle represents what? Tanishi: Face Me: Yeah, baby. Then what you draw next? Tanishi: I draw eyes, nose, and mouth. Me: Good. That’s right. So, the face has got eyes, nose and mouth as features. Now tell me, what are the features in a face? Tanishi: Eyes, nose, mouth Me: Brilliant! After the face, what do you draw for completing a dog? Tanishi: Body Me: What shape is the body? Tanishi: Ellipse Me: Nice. This is also a feature that our neurons are looking for. What’s next? Tanishi: Legs Me: How many legs does a dog have? Tanishi: 1,2,3,4. 4 legs Me: Good. Anything else to draw in a dog? Tanishi: That’s it. Me: Hey how about a tail? Dogs have tail? Tanishi: Yes. Me: So, for a dog, the features are face, body, legs and tail. Do you understand what are the features now for a dog? Tanishi: Yes!!! Me: What are they? Tanishi: Face, body, legs and tail Me: Amazing baby. If I ask you to draw a lion, what are the features? Same features as a dog but with an extra feature. Can you tell me what that extra feature is for a lion? It starts with ‘B’ Tanishi: Beard. (Holding my beard, she smiled and said) Beard like you Me: Yes, darling. Good job. So, neurons are inside our brain waiting for features. To identify an object, it looks for features. Once the features are seen and a logical connection is established, neurons signals your brain that it is a lion. Who sends signal to the brain? Tanishi: Neurons Me: Now, these neurons are working together as friends. They are like your friends Daisy, Rose, Isabelle and Hayami. All neurons work together like your friends and identify lion and dog. So, this group of neuron friends is called as Neural Network. Tell me, what is a neural network? Tanishi: Neuron friends Me: Good. Neural network is a group of neuron friends identifying lions and dogs. Do you understand Neural Network now? Tanishi: Yes papa. Me: Brilliant job baby. Come, let’s go, and get some ice creams for my lovely angel. Phew! That was a challenging and a learning experience for me as well. That was how I ended my Sunday afternoon with my brilliant daughter who can teach other kids what a Meural Metark is. And I hope she will not come to me running asking “Papa, what is Meural Metark?” again. And I have a strong feeling; she would ask me another stunning question sooner or later. Fingers crossed and I am prepared to take up the challenges coming my way in the future. -- -- 1 CS Teacher to ... Help Status About Careers Blog Privacy Terms Text to speech Teams'"
      ]
     },
     "execution_count": 195,
     "metadata": {},
     "output_type": "execute_result"
    }
   ],
   "source": [
    "text"
   ]
  },
  {
   "cell_type": "markdown",
   "metadata": {},
   "source": [
    "### Summarize\n",
    "- **word_count**: maximum amount of words we want in the summary\n",
    "- **ratio**: fraction of sentences in the original text should be returned as output"
   ]
  },
  {
   "cell_type": "code",
   "execution_count": 204,
   "metadata": {},
   "outputs": [
    {
     "name": "stdout",
     "output_type": "stream",
     "text": [
      "Summary with word count limit:\n",
      "What I was actually doing here was teaching her neural network (brain) the features of a lion like exactly how Machine Learning Engineers would train the machine to learn new features.\n",
      "After telling her the features of a lion, asked her “Can you draw these for me?” She happily drew almost a similar figure to that of a dog she drew before.\n",
      "The neurons grouped together with features like face, body, legs, tail and a beard forms a lion.\n",
      "Once all the features are there, the neurons will send a signal that the picture you are looking at is a lion and not a dog.\n",
      "\n",
      "Summary with ratio limit:\n",
      "As I was lazy and not in a position to move after the big spread, I evaded the chance to play with her by telling her “Papa’s got some work baby.\n",
      "As my daughter was very inquisitive, she asked me “Papa, what stuff?” I said, “I need to code something for my work.” She didn’t leave.\n",
      "Way beyond your age.” Tanishi never takes NO for an answer.\n",
      "“Papa, tell me what stuff means and something means.” Cannot help evade a cute curious face, I said, “I am working on Neural Network.” Before I finish the statement, “Papa, What is a Meural Metark?” I gave up my stubbornness of avoiding her.\n",
      "With a smile, I said slowly, “Its Neu — ral Net — work” She asked, “Papa, What is Meu-ral Met-ark?” At the back of my head, thoughts of me taking days to comprehend what a NN (short for Neural Network) is, how it would work, where it is used, how it is simulating our human brain’s inner workings were going through.\n",
      "I saw an opportunity here as a teacher (teaching professional college adults) to simplify the complex problem to a simpler understandable concept for a kid who doesn’t know anything apart from ABC, 1 to 20, Colors and Shapes.\n",
      "I gave a couple of lectures to make my adult students understand what a Neural Network is when I taught them a mini-Machine Learning course.\n",
      "“Neural Network is a collection (a network) of neurons whose job is to learn a new thing or a new place or a new process or a new concept.” It would be stupid on my part to start with a definition of Neural Network like how we used to teach adults in college.\n",
      "Then, I thought of a way to start with her favorite hobby of drawing and coloring objects.\n",
      "Gave her a paper, ask her to draw a circle.\n",
      "Asked her to draw a dog out of it.\n",
      "She drew a face on the circle, and then she drew one big ellipse next to head.\n",
      "I said, “Good Job!” and asked her, “Where’s the tail, baby?” She smiled and drew a tail.\n",
      "After all, neural network inside our brain helps us to learn new things in our life.\n",
      "I said, “Baby, we would learn how to draw a lion now.” She’s bustling with energy said “Yayyyy!\n",
      "I told her, there would be a circle face, ellipse body, four legs, a tail and so on.\n",
      "What I was actually doing here was teaching her neural network (brain) the features of a lion like exactly how Machine Learning Engineers would train the machine to learn new features.\n",
      "After telling her the features of a lion, asked her “Can you draw these for me?” She happily drew almost a similar figure to that of a dog she drew before.\n",
      "Now, we need to know the difference between a dog and a lion.\n",
      "A big beard is the main difference between a lion and a dog.\n",
      "A dog will have features like face, body, legs, and tail.\n",
      "A lion will have features like face, body, legs, tail and a beard.\n",
      "I spend some time in collecting pictures of dogs and lions from Google images.\n",
      "Printed it and showed her a set of dogs and then a set of lions.\n",
      "I asked her what these pictures look like to you?\n",
      "Was it a dog or a lion?\n",
      "Her neural network got aligned with classifying Dogs and Lions after some training.\n",
      "This was how I trained my daughter to classify dogs and lions.\n",
      "She was so happy that she learnt a new thing by doing her favorite pastime of drawing and coloring.\n",
      "Do you know what is the difference between a lion and a dog?” She said, “Yes.” I said, “This is called Learning.\n",
      "How you learnt it is because of Neural Network inside your brain.” Now, a neural network is a collection of neurons that keeps switching on and off based on things you see, feel, hear and think just like switching on light bulb at our home.\n",
      "Your brain has billions of neurons inside.\n",
      "For example, a face object can be seen by neurons as a circle (face) with two smaller circles (two eyes), a line (nose) and a curved line (mouth).\n",
      "These are features in a face object.\n",
      "This is lion and so on.’ Every neuron would’ve seen, or heard, or smelled, or tasted certain features.\n",
      "When you see a new object, your brain will ask the neurons, ‘Hey, anybody experienced this before?’ The neurons will say, ‘Yes, I have seen this.’ Certain other neurons will say, ‘No, I have not seen this.’ The neurons that have seen this before, will group together and form logical connections from the past and gives us an object from our memory.\n",
      "For example, when I showed you a lion picture, your brain asked the neurons who had seen it before.\n",
      "The neurons grouped together with features like face, body, legs, tail and a beard forms a lion.\n",
      "Your brain looks for these features.\n",
      "Once all the features are there, the neurons will send a signal that the picture you are looking at is a lion and not a dog.\n",
      "This is also how all our learning happens.” “In short, brain consists of billions of neurons.\n",
      "Every neuron will tune itself to pick up certain features like legs, tail, face, beard, and so on.\n",
      "When a picture is shown to you, your neurons will group together and tries to signal what that object is by forming logical connections between the past and the present.\n",
      "Ultimately, the neurons in your brain tell that it is a lion and not a dog.\n",
      "This complex working of the neurons inside the brain works super fast in the order of milliseconds (very fast).\n",
      "In a few milliseconds, your brain identifies whether the picture is a lion or a dog.\n",
      "This is what a neural network is and this is how it works in identifying things.\n",
      "Neurons work together in finding patterns and once a pattern is identified, it signals the brain that it is a thing, place, song, taste, smell and so on.” It was the time to test her understanding.\n",
      "Tanishi: Here (showing her head) Me: Good!\n",
      "Who is responsible for identifying things, objects inside our brain?\n",
      "It starts with ’N’ and ends with a rhyming sound of ‘ons’ Tanishi: Neurons Me: Good job, baby.\n",
      "Tanishi: Yes. Me: Tell me what neurons are looking for?\n",
      "Tanishi: Features.\n",
      "When I ask you to draw a dog, what are the features there?\n",
      "Me: Okay, when I ask you to draw a dog, what is the first thing you draw?\n",
      "Tanishi: Face Me: Yeah, baby.\n",
      "Tanishi: I draw eyes, nose, and mouth.\n",
      "So, the face has got eyes, nose and mouth as features.\n",
      "Now tell me, what are the features in a face?\n",
      "Tanishi: Eyes, nose, mouth Me: Brilliant!\n",
      "After the face, what do you draw for completing a dog?\n",
      "This is also a feature that our neurons are looking for.\n",
      "Tanishi: Legs Me: How many legs does a dog have?\n",
      "Anything else to draw in a dog?\n",
      "Tanishi: Yes. Me: So, for a dog, the features are face, body, legs and tail.\n",
      "Do you understand what are the features now for a dog?\n",
      "Tanishi: Face, body, legs and tail Me: Amazing baby.\n",
      "If I ask you to draw a lion, what are the features?\n",
      "Can you tell me what that extra feature is for a lion?\n",
      "So, neurons are inside our brain waiting for features.\n",
      "To identify an object, it looks for features.\n",
      "Once the features are seen and a logical connection is established, neurons signals your brain that it is a lion.\n",
      "All neurons work together like your friends and identify lion and dog.\n",
      "So, this group of neuron friends is called as Neural Network.\n",
      "Tell me, what is a neural network?\n",
      "Tanishi: Neuron friends Me: Good.\n",
      "Neural network is a group of neuron friends identifying lions and dogs.\n",
      "Do you understand Neural Network now?\n"
     ]
    }
   ],
   "source": [
    "summary_word_count = summarize(text, word_count=100)\n",
    "summary_ratio = summarize(text, ratio=0.4)\n",
    "\n",
    "print(\"Summary with word count limit:\")\n",
    "print(summary_word_count)\n",
    "\n",
    "print(\"\\nSummary with ratio limit:\")\n",
    "print(summary_ratio)"
   ]
  },
  {
   "cell_type": "markdown",
   "metadata": {},
   "source": [
    "## 3. Summa"
   ]
  },
  {
   "cell_type": "markdown",
   "metadata": {},
   "source": [
    "## Task: Take a piece of text from wiki page and summarize them using Gensim\n",
    "### Steps\n",
    "- Install the necessary libraries\n",
    "- Import the libraries\n",
    "- Scrape the text from a pre-defined webpage\n",
    "- Summarize"
   ]
  },
  {
   "cell_type": "markdown",
   "metadata": {},
   "source": [
    "### Install the library"
   ]
  },
  {
   "cell_type": "code",
   "execution_count": 152,
   "metadata": {},
   "outputs": [
    {
     "name": "stdout",
     "output_type": "stream",
     "text": [
      "Requirement already satisfied: summa in c:\\users\\vidit\\anaconda3\\lib\\site-packages (1.2.0)\n",
      "Requirement already satisfied: scipy>=0.19 in c:\\users\\vidit\\anaconda3\\lib\\site-packages (from summa) (1.11.1)\n",
      "Requirement already satisfied: numpy<1.28.0,>=1.21.6 in c:\\users\\vidit\\anaconda3\\lib\\site-packages (from scipy>=0.19->summa) (1.24.3)\n"
     ]
    }
   ],
   "source": [
    "!pip install summa"
   ]
  },
  {
   "cell_type": "markdown",
   "metadata": {},
   "source": [
    "### Import the library"
   ]
  },
  {
   "cell_type": "code",
   "execution_count": 210,
   "metadata": {},
   "outputs": [],
   "source": [
    "from summa import summarizer"
   ]
  },
  {
   "cell_type": "markdown",
   "metadata": {},
   "source": [
    "### Scrape the text\n",
    "- Use beautifulSoup to extract text (from Task1 of ML-1)"
   ]
  },
  {
   "cell_type": "markdown",
   "metadata": {},
   "source": [
    "### Summarize"
   ]
  },
  {
   "cell_type": "code",
   "execution_count": 223,
   "metadata": {},
   "outputs": [
    {
     "data": {
      "text/plain": [
       "'“Papa, tell me what stuff means and something means.” Cannot help evade a cute curious face, I said, “I am working on Neural Network.” Before I finish the statement, “Papa, What is a Meural Metark?” I gave up my stubbornness of avoiding her.\\nWith a smile, I said slowly, “Its Neu — ral Net — work” She asked, “Papa, What is Meu-ral Met-ark?” At the back of my head, thoughts of me taking days to comprehend what a NN (short for Neural Network) is, how it would work, where it is used, how it is simulating our human brain’s inner workings were going through.\\n“Neural Network is a collection (a network) of neurons whose job is to learn a new thing or a new place or a new process or a new concept.” It would be stupid on my part to start with a definition of Neural Network like how we used to teach adults in college.\\nAsked her to draw a dog out of it.\\nAfter all, neural network inside our brain helps us to learn new things in our life.\\nWhat I was actually doing here was teaching her neural network (brain) the features of a lion like exactly how Machine Learning Engineers would train the machine to learn new features.\\nAfter telling her the features of a lion, asked her “Can you draw these for me?” She happily drew almost a similar figure to that of a dog she drew before.\\nA dog will have features like face, body, legs, and tail.\\nA lion will have features like face, body, legs, tail and a beard.\\nWas it a dog or a lion?\\nHer neural network got aligned with classifying Dogs and Lions after some training.\\nDo you know what is the difference between a lion and a dog?” She said, “Yes.” I said, “This is called Learning.\\nHow you learnt it is because of Neural Network inside your brain.” Now, a neural network is a collection of neurons that keeps switching on and off based on things you see, feel, hear and think just like switching on light bulb at our home.\\nThis is lion and so on.’ Every neuron would’ve seen, or heard, or smelled, or tasted certain features.\\nWhen you see a new object, your brain will ask the neurons, ‘Hey, anybody experienced this before?’ The neurons will say, ‘Yes, I have seen this.’ Certain other neurons will say, ‘No, I have not seen this.’ The neurons that have seen this before, will group together and form logical connections from the past and gives us an object from our memory.\\nFor example, when I showed you a lion picture, your brain asked the neurons who had seen it before.\\nThe neurons grouped together with features like face, body, legs, tail and a beard forms a lion.\\nOnce all the features are there, the neurons will send a signal that the picture you are looking at is a lion and not a dog.\\nEvery neuron will tune itself to pick up certain features like legs, tail, face, beard, and so on.\\nUltimately, the neurons in your brain tell that it is a lion and not a dog.\\nIn a few milliseconds, your brain identifies whether the picture is a lion or a dog.\\nNeurons work together in finding patterns and once a pattern is identified, it signals the brain that it is a thing, place, song, taste, smell and so on.” It was the time to test her understanding.\\nIt starts with ’N’ and ends with a rhyming sound of ‘ons’ Tanishi: Neurons Me: Good job, baby.\\nTanishi: Yes. Me: Tell me what neurons are looking for?\\nTanishi: Features.\\nWhen I ask you to draw a dog, what are the features there?\\nMe: Okay, when I ask you to draw a dog, what is the first thing you draw?\\nThis is also a feature that our neurons are looking for.\\nTanishi: Legs Me: How many legs does a dog have?\\nTanishi: 1,2,3,4.\\nTanishi: Yes. Me: So, for a dog, the features are face, body, legs and tail.\\nDo you understand what are the features now for a dog?\\nTanishi: Face, body, legs and tail Me: Amazing baby.\\nIf I ask you to draw a lion, what are the features?\\nSo, neurons are inside our brain waiting for features.\\nOnce the features are seen and a logical connection is established, neurons signals your brain that it is a lion.\\nAll neurons work together like your friends and identify lion and dog.\\nTanishi: Neuron friends Me: Good.\\nNeural network is a group of neuron friends identifying lions and dogs.'"
      ]
     },
     "execution_count": 223,
     "metadata": {},
     "output_type": "execute_result"
    }
   ],
   "source": [
    "from bs4 import BeautifulSoup\n",
    "import requests\n",
    "\n",
    "def get_text_from_url(url):\n",
    "    response = requests.get(url)\n",
    "    soup = BeautifulSoup(response.content, \"html.parser\")\n",
    "    paragraphs = soup.find_all('p')\n",
    "    text = ' '.join([para.text for para in paragraphs])\n",
    "    return text\n",
    "\n",
    "url = \"https://medium.com/@subashgandyer/papa-what-is-a-neural-network-c5e5cc427c7\"\n",
    "text = get_text_from_url(url)\n",
    "\n",
    "\n",
    "suma_summary = summarizer.summarize(text)\n",
    "suma_summary"
   ]
  },
  {
   "cell_type": "markdown",
   "metadata": {},
   "source": [
    "## ASSIGNMENT: Take the same medium article (the one I wrote) we used for Task 1 of ML-1 and extract the text and summarize them using all the above methods and provide the best summary with a note saying why the chosen library is the best\n",
    "url = https://medium.com/@subashgandyer/papa-what-is-a-neural-network-c5e5cc427c7\n",
    "\n",
    "### Submit 2 files\n",
    "- (notebook) .ipynb\n",
    "- (summary) .txt"
   ]
  },
  {
   "cell_type": "code",
   "execution_count": 224,
   "metadata": {},
   "outputs": [],
   "source": [
    "selected_summary = suma_summary\n",
    "with open(\"Vidit_Task5_Summarization.txt\", \"w\") as file:\n",
    "    file.write(selected_summary)"
   ]
  },
  {
   "cell_type": "code",
   "execution_count": 225,
   "metadata": {},
   "outputs": [
    {
     "name": "stdout",
     "output_type": "stream",
     "text": [
      "Justification for choosing Summa:\n",
      " \n",
      "\n",
      "I selected Summa's summary because it discusses different types of neural networks and uses a comparison for better understanding. The summary captures the main points of the article in a short and clear way. It strikes a good balance between being short and easy to understand, making it the best choice for explaining the key ideas of the article.\n",
      "\n"
     ]
    }
   ],
   "source": [
    "justification = \"\"\"\n",
    "\n",
    "I selected Summa's summary because it discusses different types of neural networks and uses a comparison for better understanding. The summary captures the main points of the article in a short and clear way. It strikes a good balance between being short and easy to understand, making it the best choice for explaining the key ideas of the article.\n",
    "\"\"\"\n",
    "print(\"Justification for choosing Summa:\\n\", justification)\n",
    "\n",
    "with open(\"Vidit_Task5_Summarization.txt\", \"a\") as file:\n",
    "    file.write(\"/n/n\")\n",
    "    file.write(justification)"
   ]
  }
 ],
 "metadata": {
  "kernelspec": {
   "display_name": "Python 3 (ipykernel)",
   "language": "python",
   "name": "python3"
  },
  "language_info": {
   "codemirror_mode": {
    "name": "ipython",
    "version": 3
   },
   "file_extension": ".py",
   "mimetype": "text/x-python",
   "name": "python",
   "nbconvert_exporter": "python",
   "pygments_lexer": "ipython3",
   "version": "3.11.5"
  }
 },
 "nbformat": 4,
 "nbformat_minor": 4
}
