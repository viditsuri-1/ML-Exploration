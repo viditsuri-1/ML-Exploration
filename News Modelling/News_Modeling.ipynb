{
 "cells": [
  {
   "cell_type": "markdown",
   "metadata": {
    "id": "Dp-zFFan5Mp3"
   },
   "source": [
    "# News Modeling\n",
    "\n",
    "Topic modeling involves **extracting features from document terms** and using\n",
    "mathematical structures and frameworks like matrix factorization and SVD to generate **clusters or groups of terms** that are distinguishable from each other and these clusters of words form topics or concepts\n",
    "\n",
    "Topic modeling is a method for **unsupervised classification** of documents, similar to clustering on numeric data\n",
    "\n",
    "These concepts can be used to interpret the main **themes** of a corpus and also make **semantic connections among words that co-occur together** frequently in various documents\n",
    "\n",
    "Topic modeling can help in the following areas:\n",
    "- discovering the **hidden themes** in the collection\n",
    "- **classifying** the documents into the discovered themes\n",
    "- using the classification to **organize/summarize/search** the documents\n",
    "\n",
    "Frameworks and algorithms to build topic models:\n",
    "- Latent semantic indexing\n",
    "- Latent Dirichlet allocation\n",
    "- Non-negative matrix factorization"
   ]
  },
  {
   "cell_type": "markdown",
   "metadata": {
    "id": "s7D_QjV45Mp6"
   },
   "source": [
    "## Latent Dirichlet Allocation (LDA)\n",
    "The latent Dirichlet allocation (LDA) technique is a **generative probabilistic model** where each **document is assumed to have a combination of topics** similar to a probabilistic latent semantic indexing model\n",
    "\n",
    "In simple words, the idea behind LDA is that of two folds:\n",
    "- each **document** can be described by a **distribution of topics**\n",
    "- each **topic** can be described by a **distribution of words**"
   ]
  },
  {
   "cell_type": "markdown",
   "metadata": {
    "id": "7Z2VRrro5Mp6"
   },
   "source": [
    "### LDA Algorithm\n",
    "\n",
    "- 1. For each document, **randomly initialize each word to one of the K topics** (k is chosen beforehand)\n",
    "- 2. For each document D, go through each word w and compute:\n",
    "    - **P(T |D)** , which is a proportion of words in D assigned to topic T\n",
    "    - **P(W |T )** , which is a proportion of assignments to topic T over all documents having the word W\n",
    "- **Reassign word W with topic T** with probability P(T |D)´ P(W |T ) considering all other words and their topic assignments\n",
    "\n",
    "![LDA](https://raw.githubusercontent.com/subashgandyer/datasets/main/images/LDA.png)"
   ]
  },
  {
   "cell_type": "markdown",
   "metadata": {
    "id": "2uECw8aL5Mp6"
   },
   "source": [
    "### Steps\n",
    "- Install the necessary library\n",
    "- Import the necessary libraries\n",
    "- Download the dataset\n",
    "- Load the dataset\n",
    "- Pre-process the dataset\n",
    "    - Stop words removal\n",
    "    - Email removal\n",
    "    - Non-alphabetic words removal\n",
    "    - Tokenize\n",
    "    - Lowercase\n",
    "    - BiGrams & TriGrams\n",
    "    - Lemmatization\n",
    "- Create a dictionary for the document\n",
    "- Filter low frequency words\n",
    "- Create an Index to word dictionary\n",
    "- Train the Topic Model\n",
    "- Predict on the dataset\n",
    "- Evaluate the Topic Model\n",
    "    - Model Perplexity\n",
    "    - Topic Coherence\n",
    "- Visualize the topics"
   ]
  },
  {
   "cell_type": "markdown",
   "metadata": {
    "id": "gS_rWgo65Mp7"
   },
   "source": [
    "### Install the necessary library"
   ]
  },
  {
   "cell_type": "code",
   "execution_count": 1,
   "metadata": {
    "colab": {
     "base_uri": "https://localhost:8080/"
    },
    "id": "nKavlYJ65Mp7",
    "outputId": "c2801ae7-6af4-469b-c4bc-7a9180fd831e"
   },
   "outputs": [
    {
     "name": "stdout",
     "output_type": "stream",
     "text": [
      "Requirement already satisfied: pyLDAvis in c:\\users\\vidit\\anaconda3\\lib\\site-packages (3.4.1)\n",
      "Requirement already satisfied: gensim in c:\\users\\vidit\\anaconda3\\lib\\site-packages (3.6.0)\n",
      "Requirement already satisfied: spacy in c:\\users\\vidit\\anaconda3\\lib\\site-packages (3.7.4)\n",
      "Requirement already satisfied: numpy>=1.24.2 in c:\\users\\vidit\\anaconda3\\lib\\site-packages (from pyLDAvis) (1.24.3)\n",
      "Requirement already satisfied: scipy in c:\\users\\vidit\\anaconda3\\lib\\site-packages (from pyLDAvis) (1.11.1)\n",
      "Requirement already satisfied: pandas>=2.0.0 in c:\\users\\vidit\\anaconda3\\lib\\site-packages (from pyLDAvis) (2.0.3)\n",
      "Requirement already satisfied: joblib>=1.2.0 in c:\\users\\vidit\\anaconda3\\lib\\site-packages (from pyLDAvis) (1.2.0)\n",
      "Requirement already satisfied: jinja2 in c:\\users\\vidit\\anaconda3\\lib\\site-packages (from pyLDAvis) (3.1.2)\n",
      "Requirement already satisfied: numexpr in c:\\users\\vidit\\anaconda3\\lib\\site-packages (from pyLDAvis) (2.8.4)\n",
      "Requirement already satisfied: funcy in c:\\users\\vidit\\anaconda3\\lib\\site-packages (from pyLDAvis) (2.0)\n",
      "Requirement already satisfied: scikit-learn>=1.0.0 in c:\\users\\vidit\\anaconda3\\lib\\site-packages (from pyLDAvis) (1.3.0)\n",
      "Requirement already satisfied: setuptools in c:\\users\\vidit\\anaconda3\\lib\\site-packages (from pyLDAvis) (68.0.0)\n",
      "Requirement already satisfied: six>=1.5.0 in c:\\users\\vidit\\anaconda3\\lib\\site-packages (from gensim) (1.16.0)\n",
      "Requirement already satisfied: smart-open>=1.2.1 in c:\\users\\vidit\\anaconda3\\lib\\site-packages (from gensim) (5.2.1)\n",
      "Requirement already satisfied: spacy-legacy<3.1.0,>=3.0.11 in c:\\users\\vidit\\anaconda3\\lib\\site-packages (from spacy) (3.0.12)\n",
      "Requirement already satisfied: spacy-loggers<2.0.0,>=1.0.0 in c:\\users\\vidit\\anaconda3\\lib\\site-packages (from spacy) (1.0.5)\n",
      "Requirement already satisfied: murmurhash<1.1.0,>=0.28.0 in c:\\users\\vidit\\anaconda3\\lib\\site-packages (from spacy) (1.0.10)\n",
      "Requirement already satisfied: cymem<2.1.0,>=2.0.2 in c:\\users\\vidit\\anaconda3\\lib\\site-packages (from spacy) (2.0.8)\n",
      "Requirement already satisfied: preshed<3.1.0,>=3.0.2 in c:\\users\\vidit\\anaconda3\\lib\\site-packages (from spacy) (3.0.9)\n",
      "Requirement already satisfied: thinc<8.3.0,>=8.2.2 in c:\\users\\vidit\\anaconda3\\lib\\site-packages (from spacy) (8.2.3)\n",
      "Requirement already satisfied: wasabi<1.2.0,>=0.9.1 in c:\\users\\vidit\\anaconda3\\lib\\site-packages (from spacy) (1.1.2)\n",
      "Requirement already satisfied: srsly<3.0.0,>=2.4.3 in c:\\users\\vidit\\anaconda3\\lib\\site-packages (from spacy) (2.4.8)\n",
      "Requirement already satisfied: catalogue<2.1.0,>=2.0.6 in c:\\users\\vidit\\anaconda3\\lib\\site-packages (from spacy) (2.0.10)\n",
      "Requirement already satisfied: weasel<0.4.0,>=0.1.0 in c:\\users\\vidit\\anaconda3\\lib\\site-packages (from spacy) (0.3.4)\n",
      "Requirement already satisfied: typer<0.10.0,>=0.3.0 in c:\\users\\vidit\\anaconda3\\lib\\site-packages (from spacy) (0.9.4)\n",
      "Requirement already satisfied: tqdm<5.0.0,>=4.38.0 in c:\\users\\vidit\\anaconda3\\lib\\site-packages (from spacy) (4.65.0)\n",
      "Requirement already satisfied: requests<3.0.0,>=2.13.0 in c:\\users\\vidit\\anaconda3\\lib\\site-packages (from spacy) (2.31.0)\n",
      "Requirement already satisfied: pydantic!=1.8,!=1.8.1,<3.0.0,>=1.7.4 in c:\\users\\vidit\\anaconda3\\lib\\site-packages (from spacy) (1.10.8)\n",
      "Requirement already satisfied: packaging>=20.0 in c:\\users\\vidit\\anaconda3\\lib\\site-packages (from spacy) (23.1)\n",
      "Requirement already satisfied: langcodes<4.0.0,>=3.2.0 in c:\\users\\vidit\\anaconda3\\lib\\site-packages (from spacy) (3.3.0)\n",
      "Requirement already satisfied: python-dateutil>=2.8.2 in c:\\users\\vidit\\anaconda3\\lib\\site-packages (from pandas>=2.0.0->pyLDAvis) (2.8.2)\n",
      "Requirement already satisfied: pytz>=2020.1 in c:\\users\\vidit\\anaconda3\\lib\\site-packages (from pandas>=2.0.0->pyLDAvis) (2023.3.post1)\n",
      "Requirement already satisfied: tzdata>=2022.1 in c:\\users\\vidit\\anaconda3\\lib\\site-packages (from pandas>=2.0.0->pyLDAvis) (2023.3)\n",
      "Requirement already satisfied: typing-extensions>=4.2.0 in c:\\users\\vidit\\anaconda3\\lib\\site-packages (from pydantic!=1.8,!=1.8.1,<3.0.0,>=1.7.4->spacy) (4.7.1)\n",
      "Requirement already satisfied: charset-normalizer<4,>=2 in c:\\users\\vidit\\anaconda3\\lib\\site-packages (from requests<3.0.0,>=2.13.0->spacy) (2.0.4)\n",
      "Requirement already satisfied: idna<4,>=2.5 in c:\\users\\vidit\\anaconda3\\lib\\site-packages (from requests<3.0.0,>=2.13.0->spacy) (3.4)\n",
      "Requirement already satisfied: urllib3<3,>=1.21.1 in c:\\users\\vidit\\anaconda3\\lib\\site-packages (from requests<3.0.0,>=2.13.0->spacy) (1.26.16)\n",
      "Requirement already satisfied: certifi>=2017.4.17 in c:\\users\\vidit\\anaconda3\\lib\\site-packages (from requests<3.0.0,>=2.13.0->spacy) (2023.11.17)\n",
      "Requirement already satisfied: threadpoolctl>=2.0.0 in c:\\users\\vidit\\anaconda3\\lib\\site-packages (from scikit-learn>=1.0.0->pyLDAvis) (2.2.0)\n",
      "Requirement already satisfied: blis<0.8.0,>=0.7.8 in c:\\users\\vidit\\anaconda3\\lib\\site-packages (from thinc<8.3.0,>=8.2.2->spacy) (0.7.11)\n",
      "Requirement already satisfied: confection<1.0.0,>=0.0.1 in c:\\users\\vidit\\anaconda3\\lib\\site-packages (from thinc<8.3.0,>=8.2.2->spacy) (0.1.4)\n",
      "Requirement already satisfied: colorama in c:\\users\\vidit\\anaconda3\\lib\\site-packages (from tqdm<5.0.0,>=4.38.0->spacy) (0.4.6)\n",
      "Requirement already satisfied: click<9.0.0,>=7.1.1 in c:\\users\\vidit\\anaconda3\\lib\\site-packages (from typer<0.10.0,>=0.3.0->spacy) (8.0.4)\n",
      "Requirement already satisfied: cloudpathlib<0.17.0,>=0.7.0 in c:\\users\\vidit\\anaconda3\\lib\\site-packages (from weasel<0.4.0,>=0.1.0->spacy) (0.16.0)\n",
      "Requirement already satisfied: MarkupSafe>=2.0 in c:\\users\\vidit\\anaconda3\\lib\\site-packages (from jinja2->pyLDAvis) (2.1.1)\n",
      "Requirement already satisfied: gensim==3.6.0 in c:\\users\\vidit\\anaconda3\\lib\\site-packages (3.6.0)\n",
      "Requirement already satisfied: numpy>=1.11.3 in c:\\users\\vidit\\anaconda3\\lib\\site-packages (from gensim==3.6.0) (1.24.3)\n",
      "Requirement already satisfied: scipy>=0.18.1 in c:\\users\\vidit\\anaconda3\\lib\\site-packages (from gensim==3.6.0) (1.11.1)\n",
      "Requirement already satisfied: six>=1.5.0 in c:\\users\\vidit\\anaconda3\\lib\\site-packages (from gensim==3.6.0) (1.16.0)\n",
      "Requirement already satisfied: smart-open>=1.2.1 in c:\\users\\vidit\\anaconda3\\lib\\site-packages (from gensim==3.6.0) (5.2.1)\n"
     ]
    }
   ],
   "source": [
    "!pip install pyLDAvis gensim spacy\n",
    "!pip install gensim==3.6.0"
   ]
  },
  {
   "cell_type": "markdown",
   "metadata": {
    "id": "2ApNCHQu5Mp8"
   },
   "source": [
    "### Import the libraries"
   ]
  },
  {
   "cell_type": "code",
   "execution_count": 2,
   "metadata": {
    "id": "34lzKl4Y5Mp8"
   },
   "outputs": [
    {
     "name": "stderr",
     "output_type": "stream",
     "text": [
      "C:\\Users\\vidit\\anaconda3\\Lib\\site-packages\\gensim\\utils.py:1212: UserWarning: detected Windows; aliasing chunkize to chunkize_serial\n",
      "  warnings.warn(\"detected Windows; aliasing chunkize to chunkize_serial\")\n"
     ]
    }
   ],
   "source": [
    "import pandas as pd\n",
    "import numpy as np\n",
    "import json\n",
    "import re\n",
    "import requests\n",
    "from gensim import corpora, models\n",
    "from nltk.corpus import stopwords\n",
    "from nltk.tokenize import word_tokenize"
   ]
  },
  {
   "cell_type": "markdown",
   "metadata": {
    "id": "TjHaRj3Z5Mp8"
   },
   "source": [
    "### Download the dataset\n",
    "Dataset: https://raw.githubusercontent.com/subashgandyer/datasets/main/newsgroups.json\n",
    "\n",
    "#### 20-Newsgroups dataset\n",
    "- 11K newsgroups posts\n",
    "- 20 news topics"
   ]
  },
  {
   "cell_type": "markdown",
   "metadata": {
    "id": "vYb0bOsQ5Mp8"
   },
   "source": [
    "### Load the dataset"
   ]
  },
  {
   "cell_type": "code",
   "execution_count": 11,
   "metadata": {
    "id": "7T5vz0Bb5Mp9"
   },
   "outputs": [],
   "source": [
    "def load_data(data_url):\n",
    "    response = requests.get(data_url)\n",
    "    if response.status_code == 200:\n",
    "        data = json.loads(response.text)\n",
    "        return data\n",
    "    else:\n",
    "        print(\"Failed to load data.\")\n",
    "        return None\n",
    "\n",
    "data_url = 'https://raw.githubusercontent.com/subashgandyer/datasets/main/newsgroups.json'\n",
    "data = load_data(data_url)"
   ]
  },
  {
   "cell_type": "code",
   "execution_count": 12,
   "metadata": {
    "id": "hlNOAouQ5Mp9"
   },
   "outputs": [],
   "source": [
    "df = pd.DataFrame(data)"
   ]
  },
  {
   "cell_type": "markdown",
   "metadata": {
    "id": "hmUUsgRi5Mp9"
   },
   "source": [
    "### Preprocess the data"
   ]
  },
  {
   "cell_type": "markdown",
   "metadata": {
    "id": "WkP7TM7Q5Mp9"
   },
   "source": [
    "### Tokenize\n",
    "- Create **sent_to_words()**\n",
    "    - Use **gensim.utils.simple_preprocess**\n",
    "    - Use **generator** instead of an usual function"
   ]
  },
  {
   "cell_type": "code",
   "execution_count": 13,
   "metadata": {
    "colab": {
     "base_uri": "https://localhost:8080/"
    },
    "id": "G0z6pBtL5Mp9",
    "outputId": "23532a0c-7e2c-479e-88ce-2f94101c2565"
   },
   "outputs": [
    {
     "name": "stderr",
     "output_type": "stream",
     "text": [
      "[nltk_data] Downloading package stopwords to\n",
      "[nltk_data]     C:\\Users\\vidit\\AppData\\Roaming\\nltk_data...\n",
      "[nltk_data]   Package stopwords is already up-to-date!\n",
      "[nltk_data] Downloading package punkt to\n",
      "[nltk_data]     C:\\Users\\vidit\\AppData\\Roaming\\nltk_data...\n",
      "[nltk_data]   Package punkt is already up-to-date!\n"
     ]
    }
   ],
   "source": [
    "import nltk\n",
    "nltk.download('stopwords')\n",
    "nltk.download('punkt')\n",
    "\n",
    "def preprocess_text(text):\n",
    "    stop_words = set(stopwords.words('english'))\n",
    "    text = re.sub(r'\\S*@\\S*\\s?', '', text)\n",
    "    text = re.sub(r'\\s+', ' ', text)\n",
    "    text = re.sub(r'\\W', ' ', str(text))\n",
    "    text = re.sub(r'\\d+', '', text)\n",
    "    text = text.lower()\n",
    "    tokens = word_tokenize(text)\n",
    "    tokens = [word for word in tokens if word not in stop_words]\n",
    "    return tokens\n",
    "\n",
    "df['Processed_data'] = df['content'].apply(preprocess_text)"
   ]
  },
  {
   "cell_type": "markdown",
   "metadata": {
    "id": "nTxDUYdc5Mp9"
   },
   "source": [
    "### Stop words Removal\n",
    "- Extend the stop words corpus with the following words\n",
    "    - from\n",
    "    - subject\n",
    "    - re\n",
    "    - edu\n",
    "    - use"
   ]
  },
  {
   "cell_type": "code",
   "execution_count": 16,
   "metadata": {
    "id": "s0mT-lA75Mp9"
   },
   "outputs": [],
   "source": [
    "dictionary = corpora.Dictionary(df['Processed_data'])\n",
    "corpus = [dictionary.doc2bow(text) for text in df['Processed_data']]"
   ]
  },
  {
   "cell_type": "markdown",
   "metadata": {
    "id": "qWiOVM1V5Mp9"
   },
   "source": [
    "### Build a News Topic Model\n",
    "\n",
    "#### LdaModel\n",
    "- **num_topics** : this is the number of topics you need to define beforehand\n",
    "- **chunksize** : the number of documents to be used in each training chunk\n",
    "- **alpha** : this is the hyperparameters that affect the sparsity of the topics\n",
    "- **passess** : total number of training assess"
   ]
  },
  {
   "cell_type": "code",
   "execution_count": 17,
   "metadata": {
    "id": "lu003sK75Mp9"
   },
   "outputs": [],
   "source": [
    "num_topics = 10\n",
    "lda_model = models.LdaModel(corpus=corpus,\n",
    "                            id2word=dictionary,\n",
    "                            num_topics=num_topics,\n",
    "                            random_state=42,\n",
    "                            update_every=1,\n",
    "                            chunksize=100,\n",
    "                            passes=5,\n",
    "                            alpha='auto',\n",
    "                            per_word_topics=True)"
   ]
  },
  {
   "cell_type": "markdown",
   "metadata": {
    "id": "1bm54WD25Mp9"
   },
   "source": [
    "### Print the Keyword in the 10 topics"
   ]
  },
  {
   "cell_type": "code",
   "execution_count": 20,
   "metadata": {
    "colab": {
     "base_uri": "https://localhost:8080/"
    },
    "id": "Zpov155m5Mp9",
    "outputId": "ededaa35-d1be-48e1-9c00-4087543bbc53"
   },
   "outputs": [
    {
     "name": "stdout",
     "output_type": "stream",
     "text": [
      "(0, '0.054*\"r\" + 0.042*\"p\" + 0.041*\"w\" + 0.041*\"_\" + 0.036*\"g\" + 0.034*\"u\" + 0.030*\"q\" + 0.022*\"c\" + 0.020*\"e\" + 0.019*\"x\"')\n",
      "(1, '0.007*\"government\" + 0.006*\"state\" + 0.006*\"people\" + 0.005*\"gun\" + 0.004*\"mr\" + 0.004*\"states\" + 0.004*\"us\" + 0.004*\"american\" + 0.004*\"national\" + 0.004*\"president\"')\n",
      "(2, '0.009*\"writes\" + 0.008*\"article\" + 0.007*\"organization\" + 0.007*\"lines\" + 0.007*\"subject\" + 0.006*\"year\" + 0.006*\"like\" + 0.005*\"go\" + 0.005*\"good\" + 0.005*\"would\"')\n",
      "(3, '0.357*\"ax\" + 0.028*\"_o\" + 0.018*\"gv\" + 0.016*\"ei\" + 0.015*\"di\" + 0.010*\"p\" + 0.010*\"el\" + 0.009*\"bf\" + 0.008*\"ql\" + 0.007*\"rlk\"')\n",
      "(4, '0.011*\"use\" + 0.009*\"key\" + 0.007*\"system\" + 0.006*\"one\" + 0.006*\"may\" + 0.006*\"chip\" + 0.006*\"would\" + 0.005*\"public\" + 0.005*\"number\" + 0.004*\"used\"')\n",
      "(5, '0.012*\"people\" + 0.012*\"god\" + 0.010*\"one\" + 0.010*\"would\" + 0.007*\"think\" + 0.007*\"writes\" + 0.007*\"evidence\" + 0.006*\"know\" + 0.006*\"believe\" + 0.006*\"say\"')\n",
      "(6, '0.011*\"car\" + 0.008*\"drive\" + 0.007*\"scsi\" + 0.006*\"gm\" + 0.006*\"ide\" + 0.005*\"power\" + 0.005*\"bike\" + 0.005*\"cars\" + 0.005*\"cd\" + 0.004*\"new\"')\n",
      "(7, '0.023*\"subject\" + 0.023*\"lines\" + 0.022*\"organization\" + 0.014*\"posting\" + 0.013*\"host\" + 0.013*\"nntp\" + 0.011*\"university\" + 0.008*\"edu\" + 0.008*\"article\" + 0.007*\"writes\"')\n",
      "(8, '0.048*\"x\" + 0.008*\"program\" + 0.007*\"space\" + 0.007*\"file\" + 0.006*\"c\" + 0.005*\"list\" + 0.005*\"files\" + 0.005*\"available\" + 0.004*\"source\" + 0.004*\"entry\"')\n",
      "(9, '0.011*\"turkish\" + 0.011*\"soldiers\" + 0.009*\"villages\" + 0.008*\"turks\" + 0.008*\"greek\" + 0.008*\"armenians\" + 0.007*\"armenian\" + 0.006*\"turkey\" + 0.006*\"qs\" + 0.006*\"greece\"')\n"
     ]
    }
   ],
   "source": [
    "topics = lda_model.show_topics(num_topics=num_topics, num_words=10, formatted=True)\n",
    "for topic in topics:\n",
    "    print(topic)"
   ]
  },
  {
   "cell_type": "markdown",
   "metadata": {
    "id": "2_e-rozG5Mp-"
   },
   "source": [
    "## Evaluation of Topic Models\n",
    "- Model Perplexity\n",
    "- Topic Coherence\n",
    "\n",
    "### Model Perplexity\n",
    "\n",
    "Model perplexity is a measurement of **how well** a **probability distribution** or probability model **predicts a sample**"
   ]
  },
  {
   "cell_type": "code",
   "execution_count": 21,
   "metadata": {
    "colab": {
     "base_uri": "https://localhost:8080/"
    },
    "id": "P3M_mXed5Mp-",
    "outputId": "c0947ed7-337b-4adc-f4f9-c0a43c6fc113"
   },
   "outputs": [
    {
     "name": "stdout",
     "output_type": "stream",
     "text": [
      "Model Perplexity: -8.805778755872058\n"
     ]
    }
   ],
   "source": [
    "perplexity = lda_model.log_perplexity(corpus)\n",
    "print(f\"Model Perplexity: {perplexity}\")"
   ]
  },
  {
   "cell_type": "markdown",
   "metadata": {
    "id": "yoNJioLb5Mp-"
   },
   "source": [
    "### Topic Coherence\n",
    "Topic Coherence measures score a single topic by measuring the **degree of semantic similarity** between **high scoring words** in the topic."
   ]
  },
  {
   "cell_type": "code",
   "execution_count": 22,
   "metadata": {
    "colab": {
     "base_uri": "https://localhost:8080/"
    },
    "id": "ZQLe0R-C5Mp-",
    "outputId": "a9084e67-9cf5-41c9-9364-afc97d0b3b74"
   },
   "outputs": [
    {
     "name": "stdout",
     "output_type": "stream",
     "text": [
      "Topic Coherence: 0.6175215557628652\n"
     ]
    }
   ],
   "source": [
    "coherence_model = models.CoherenceModel(model=lda_model, texts=df['Processed_data'], dictionary=dictionary, coherence='c_v')\n",
    "coherence_score = coherence_model.get_coherence()\n",
    "print(f\"Topic Coherence: {coherence_score}\")"
   ]
  },
  {
   "cell_type": "markdown",
   "metadata": {
    "id": "PTviLd9z5Mp-"
   },
   "source": [
    "### Visualize the Topic Model\n",
    "- Use **pyLDAvis**\n",
    "    - designed to help users **interpret the topics** in a topic model that has been fit to a corpus of text data\n",
    "    - extracts information from a fitted LDA topic model to inform an interactive web-based visualization"
   ]
  },
  {
   "cell_type": "code",
   "execution_count": 23,
   "metadata": {
    "colab": {
     "base_uri": "https://localhost:8080/",
     "height": 861
    },
    "id": "k5uMF8yV5Mp-",
    "outputId": "e2c3e2ac-f823-4e54-cbda-9e582529c877"
   },
   "outputs": [
    {
     "data": {
      "text/html": [
       "\n",
       "<link rel=\"stylesheet\" type=\"text/css\" href=\"https://cdn.jsdelivr.net/gh/bmabey/pyLDAvis@3.4.0/pyLDAvis/js/ldavis.v1.0.0.css\">\n",
       "\n",
       "\n",
       "<div id=\"ldavis_el1256022994687416805111418696\" style=\"background-color:white;\"></div>\n",
       "<script type=\"text/javascript\">\n",
       "\n",
       "var ldavis_el1256022994687416805111418696_data = {\"mdsDat\": {\"x\": [-0.17520377572787232, -0.22394106197496647, -0.19215778816308376, -0.151758231739979, -0.061855025884209235, 0.021628655940995157, 0.29394301533678285, 0.0281411966784293, 0.2886854834961547, 0.17251753203774878], \"y\": [0.16368664837737298, -0.004711821585387744, 0.0068988433142859, 0.03947010673845228, -0.19478073287137657, 0.11782390670725315, 0.20124728656200866, -0.1200193016786021, 0.006257254710552134, -0.2158721902745586], \"topics\": [1, 2, 3, 4, 5, 6, 7, 8, 9, 10], \"cluster\": [1, 1, 1, 1, 1, 1, 1, 1, 1, 1], \"Freq\": [18.519304021060748, 18.217097304988517, 15.377408898346332, 10.671494690342213, 10.049752648575653, 9.99660781503108, 5.264372005825908, 5.033717430437705, 4.569436257403988, 2.3008089279878607]}, \"tinfo\": {\"Term\": [\"ax\", \"x\", \"r\", \"w\", \"p\", \"_\", \"g\", \"u\", \"lines\", \"organization\", \"subject\", \"q\", \"c\", \"_o\", \"e\", \"god\", \"host\", \"nntp\", \"posting\", \"k\", \"people\", \"b\", \"v\", \"j\", \"l\", \"gv\", \"use\", \"h\", \"n\", \"university\", \"thanks\", \"card\", \"mac\", \"sale\", \"cpu\", \"video\", \"memory\", \"pc\", \"master\", \"advance\", \"dos\", \"slave\", \"__\", \"disk\", \"newsreader\", \"___\", \"tin\", \"mouse\", \"board\", \"installed\", \"cards\", \"apple\", \"offer\", \"ethernet\", \"monitor\", \"tape\", \"ibm\", \"appreciated\", \"ohio\", \"motherboard\", \"com\", \"mb\", \"host\", \"nntp\", \"edu\", \"posting\", \"lines\", \"organization\", \"distribution\", \"subject\", \"university\", \"anyone\", \"windows\", \"please\", \"computer\", \"problem\", \"reply\", \"usa\", \"mail\", \"software\", \"help\", \"need\", \"drive\", \"article\", \"like\", \"writes\", \"know\", \"get\", \"system\", \"would\", \"one\", \"use\", \"new\", \"c\", \"god\", \"evidence\", \"israel\", \"jesus\", \"faith\", \"christians\", \"bible\", \"senses\", \"christian\", \"claim\", \"religion\", \"truth\", \"lebanese\", \"church\", \"christ\", \"religious\", \"argument\", \"existence\", \"belief\", \"atheism\", \"prove\", \"christianity\", \"jewish\", \"indeed\", \"atheists\", \"authority\", \"nature\", \"explaining\", \"atheist\", \"sin\", \"life\", \"believe\", \"jews\", \"reason\", \"people\", \"say\", \"agree\", \"true\", \"think\", \"us\", \"human\", \"one\", \"come\", \"things\", \"would\", \"fact\", \"many\", \"know\", \"even\", \"writes\", \"way\", \"see\", \"may\", \"article\", \"like\", \"said\", \"subject\", \"well\", \"lines\", \"time\", \"could\", \"organization\", \"team\", \"game\", \"hockey\", \"jim\", \"play\", \"games\", \"health\", \"season\", \"pin\", \"chicago\", \"nhl\", \"teams\", \"patient\", \"player\", \"toronto\", \"wings\", \"die\", \"lots\", \"playing\", \"pittsburgh\", \"players\", \"boston\", \"night\", \"pat\", \"gary\", \"cup\", \"fan\", \"baseball\", \"pain\", \"hit\", \"year\", \"physical\", \"school\", \"la\", \"last\", \"division\", \"vs\", \"go\", \"next\", \"writes\", \"good\", \"article\", \"back\", \"first\", \"left\", \"time\", \"going\", \"like\", \"better\", \"think\", \"get\", \"organization\", \"lines\", \"subject\", \"would\", \"one\", \"years\", \"well\", \"university\", \"see\", \"two\", \"new\", \"key\", \"clipper\", \"encryption\", \"ripem\", \"users\", \"provided\", \"moon\", \"algorithm\", \"pgp\", \"comp\", \"escrow\", \"des\", \"scientific\", \"encrypted\", \"rsa\", \"enforcement\", \"nsa\", \"launch\", \"evil\", \"natural\", \"commercial\", \"msg\", \"standards\", \"contains\", \"messages\", \"denver\", \"announcement\", \"billion\", \"ra\", \"sys\", \"chip\", \"food\", \"use\", \"public\", \"security\", \"science\", \"system\", \"data\", \"technology\", \"provide\", \"development\", \"number\", \"information\", \"may\", \"used\", \"systems\", \"private\", \"one\", \"space\", \"would\", \"two\", \"message\", \"using\", \"could\", \"also\", \"e\", \"bit\", \"order\", \"without\", \"need\", \"time\", \"work\", \"gun\", \"states\", \"president\", \"military\", \"drives\", \"stephanopoulos\", \"guns\", \"police\", \"shall\", \"arms\", \"policy\", \"weapons\", \"united\", \"crime\", \"baker\", \"proof\", \"secret\", \"secure\", \"published\", \"education\", \"tax\", \"rights\", \"organizations\", \"resistance\", \"drugs\", \"citizens\", \"drug\", \"died\", \"weapon\", \"trial\", \"kids\", \"clinton\", \"country\", \"american\", \"federal\", \"members\", \"dangerous\", \"government\", \"war\", \"press\", \"mr\", \"national\", \"state\", \"israeli\", \"force\", \"safety\", \"control\", \"law\", \"people\", \"us\", \"center\", \"years\", \"public\", \"new\", \"right\", \"research\", \"would\", \"said\", \"file\", \"files\", \"entry\", \"color\", \"ftp\", \"sphere\", \"server\", \"league\", \"image\", \"tv\", \"motif\", \"family\", \"mit\", \"entries\", \"format\", \"shuttle\", \"images\", \"xr\", \"pts\", \"directory\", \"copies\", \"detroit\", \"selling\", \"update\", \"mars\", \"pub\", \"xx\", \"echo\", \"bos\", \"imaging\", \"x\", \"program\", \"site\", \"list\", \"sun\", \"space\", \"include\", \"application\", \"available\", \"source\", \"test\", \"faq\", \"window\", \"graphics\", \"c\", \"code\", \"version\", \"information\", \"send\", \"name\", \"set\", \"also\", \"may\", \"n\", \"_\", \"q\", \"z\", \"max\", \"cx\", \"c_\", \"dn\", \"ww\", \"lk\", \"brian\", \"eeg\", \"te\", \"mk\", \"mv\", \"eu\", \"cp\", \"lq\", \"ot\", \"ck\", \"y_\", \"tt\", \"pt\", \"qy\", \"_n\", \"mf\", \"ts\", \"ee\", \"bn\", \"cj\", \"rm\", \"r\", \"g\", \"w\", \"um\", \"u\", \"p\", \"l\", \"h\", \"k\", \"v\", \"mt\", \"j\", \"f\", \"b\", \"n\", \"sg\", \"c\", \"e\", \"em\", \"x\", \"st\", \"car\", \"scsi\", \"gm\", \"ide\", \"bike\", \"cars\", \"cd\", \"engine\", \"dod\", \"seller\", \"cooler\", \"dealer\", \"nj\", \"nye\", \"vehicle\", \"wire\", \"mounting\", \"nec\", \"cable\", \"factory\", \"drum\", \"oil\", \"jumpers\", \"saturn\", \"fuel\", \"cdc\", \"lemon\", \"louis\", \"belt\", \"bay\", \"ground\", \"hot\", \"advice\", \"drive\", \"power\", \"internal\", \"low\", \"speed\", \"high\", \"model\", \"new\", \"light\", \"article\", \"ax\", \"_o\", \"gv\", \"ei\", \"di\", \"bf\", \"ql\", \"rlk\", \"dy\", \"bhj\", \"mw\", \"pit\", \"wt\", \"m_\", \"uy\", \"rl\", \"gp\", \"fij\", \"zei\", \"bj\", \"ge\", \"chz\", \"ey\", \"mh\", \"bb\", \"nei\", \"weekly\", \"mcgill\", \"eq\", \"cluster\", \"kr\", \"el\", \"p\", \"bd\", \"md\", \"f\", \"n\", \"pl\", \"turkish\", \"villages\", \"turks\", \"armenians\", \"armenian\", \"turkey\", \"greece\", \"qs\", \"armenia\", \"ss\", \"shai\", \"guday\", \"planes\", \"argic\", \"mx\", \"village\", \"serdar\", \"greeks\", \"genocide\", \"bombers\", \"regional\", \"rockets\", \"river\", \"youth\", \"mountain\", \"skies\", \"basil\", \"rz\", \"composer\", \"winged\", \"css\", \"soldiers\", \"greek\", \"father\", \"ha\", \"soviet\", \"son\", \"cambridge\", \"p\", \"closed\", \"longer\"], \"Freq\": [30840.0, 10886.0, 6069.0, 4891.0, 5802.0, 4060.0, 4223.0, 4450.0, 11665.0, 11266.0, 12107.0, 3000.0, 4784.0, 2436.0, 4560.0, 4074.0, 4968.0, 4877.0, 5571.0, 2607.0, 5585.0, 2700.0, 2467.0, 2542.0, 2024.0, 1546.0, 4251.0, 2033.0, 2362.0, 5285.0, 1989.6249437194963, 1251.5006628034757, 1025.7139961850644, 869.6511133884208, 820.8988088911144, 776.670952334125, 753.6209608559867, 713.6050019785243, 680.663393142952, 670.8315340276174, 663.4048627422868, 643.7814853957597, 618.8053489983982, 611.0269670783679, 600.0570553919337, 596.8408977396509, 534.0153236916777, 495.9191186952848, 490.81377830622193, 471.61705364051517, 439.61936450371803, 438.79121622219816, 429.442145084588, 418.3925286038549, 411.3695511106907, 400.3408581561423, 398.410805340978, 377.2512992316002, 353.97135250167736, 349.76861395326233, 1331.9336283793568, 866.5530474666084, 4567.791065515719, 4482.965624902033, 2770.2475115805705, 4852.118827476921, 8154.747795880541, 7851.0886496726625, 2417.611356858772, 8214.339301086502, 3825.8701822784137, 1730.0615183370983, 1259.358871639553, 1732.2968348154122, 1640.4220384109587, 1452.8444986987388, 1784.7839480294351, 1352.2383229588665, 1379.6266488331264, 1113.0036094331163, 1252.7712988858273, 1498.0811623100253, 1362.8590885673123, 2660.0148855057682, 2311.500095540861, 2452.1032605799815, 1949.0253243003297, 1865.1950945196452, 1362.2032133651962, 1957.8631938001436, 1839.1763233437462, 1362.3057956336504, 1354.5184174115057, 1350.2986225255977, 4073.140728840052, 2236.531498860799, 1474.2799414005765, 1230.8651376644925, 1064.7294206274305, 1009.1914238731487, 947.4200982537574, 866.8820744521195, 811.8627943226537, 794.8804909400872, 663.6313299942171, 661.560988350488, 631.768939076407, 602.0064415136982, 566.2074262801807, 538.3698342965622, 526.4805561412412, 516.3344685701504, 486.47742955683253, 475.5327250052468, 473.06443633222756, 464.985486967319, 438.25540342967577, 430.72372132672194, 400.9487704005487, 374.38502535753935, 366.1552741701004, 365.9190606939702, 355.9598536607842, 345.0324877149222, 1058.335119025579, 1974.078185266596, 567.0226610929515, 1818.8586621869504, 4294.3666020623095, 1959.1673046879307, 738.1905380438637, 1004.9644880297343, 2522.4749793004657, 1913.306252075965, 653.4590543211788, 3507.0567950773125, 1169.3428793143892, 1207.2151192854283, 3502.7116523884097, 1011.6760901206275, 1511.685040091308, 2068.922360723943, 1461.2233706460572, 2325.271203728369, 1346.7733565409976, 1365.445393143727, 1473.7939799246797, 1866.73707959421, 1648.3265474602317, 1170.1735306703554, 1768.4468061955572, 1204.4504725963318, 1419.65684640975, 1202.7493671728766, 1172.8508036003543, 1264.628568551667, 1406.6260480822189, 1122.9601559489731, 902.8654633274218, 852.8499066269144, 732.1088866564769, 671.7859009549804, 573.4994628232447, 560.0166612861836, 550.4512668517337, 522.3823297311958, 487.9899587911793, 474.1251377273554, 470.2198652035895, 461.62493286725396, 452.6112392570673, 410.61048738114255, 410.4948539710332, 409.9498119546599, 407.5977317220177, 402.50212123554775, 401.60943536563025, 383.732902254967, 379.9140590295494, 376.1536578287091, 349.5575340898415, 337.0795365230583, 335.37832941086793, 324.7057814107555, 320.8401913258871, 304.40669286719344, 1864.2922013552004, 884.0422640615606, 517.3619265927215, 511.00462411585346, 1347.8374950861664, 616.3161383725485, 786.0486782727618, 1590.0558572152383, 924.7740905212577, 2602.4862919935495, 1538.0045305573892, 2229.327914678386, 1080.7483840849416, 1275.792844230809, 650.5659364613982, 1452.2404369769627, 994.6503360783589, 1666.5319616218894, 839.3796452813618, 1385.3166459963686, 1418.105292067619, 2132.9181111357384, 2068.24506482406, 2054.769530513884, 1490.5794867334619, 1303.8816563718508, 805.1703408567363, 955.9931507895742, 947.8774498149838, 839.8667184879317, 823.4842258216541, 814.0663053913863, 1836.404116557771, 812.9058659311435, 716.2378126211009, 713.4643515271619, 428.05968581386986, 422.1036267438197, 415.1720851383949, 406.2254939557369, 378.3522052702502, 368.02997869859, 364.9446099609036, 357.70132491068665, 353.9589961535649, 353.14119152909274, 338.5050127235508, 330.5830933918227, 325.7206228198656, 316.3881171786883, 294.8308351298685, 284.96939774026237, 283.76314530196333, 280.6401750035544, 280.43825720274396, 276.3064016100903, 260.6902834403919, 260.41942553542464, 256.64920641292605, 254.47767523146345, 250.07939510563074, 248.8411473280769, 1158.3444375615677, 337.65221026464445, 2313.876850731737, 1071.2022693478466, 534.3273260940892, 893.1132085603373, 1322.8717905918536, 796.9654313680894, 709.1739735718367, 493.81179688606403, 344.1584296623211, 940.1933650800747, 837.0247220508168, 1254.9886585661243, 899.2325752197512, 590.1995860367102, 412.83698834063915, 1288.6425010956314, 693.1787434717596, 1111.9037186870548, 722.3000849581202, 518.5119642208494, 573.3781067944692, 659.5953657509926, 651.9917343652679, 653.1204379827631, 506.6605996941435, 485.7179612483252, 506.56991495693006, 521.4252759105636, 542.3293041449351, 506.81396151822565, 999.1284761924127, 812.0233550481892, 692.983972293324, 561.8968254544659, 542.4751721657238, 477.1906963852902, 475.06021529608626, 451.33399349085306, 440.15566114661476, 428.1908683928347, 399.44731104750855, 397.1811952491706, 393.50885236385426, 386.8491439646914, 379.6903705250149, 361.1081944702317, 357.82132807911523, 354.0809469357968, 334.8002963096609, 324.9947683626747, 319.9174133592728, 659.7534685555116, 313.730261588415, 303.4340408411044, 300.8111880854694, 295.673747347728, 293.2287218573257, 267.3451791955273, 267.141970125605, 258.51308432552736, 306.7149649298174, 574.6977818906787, 493.446494184648, 753.0014916520338, 380.69022365283575, 410.6172490612142, 367.68309804067064, 1345.40256319072, 574.050137199736, 540.4404748059669, 852.9364384509196, 705.0955774700525, 1080.7055522844869, 643.5316015237809, 495.02895803212647, 513.1887225383658, 513.0523809382397, 657.809385784821, 1066.6064347217327, 765.9975941827888, 544.553740947686, 598.2617280325084, 531.4728114978635, 576.7855402555399, 538.6885338431015, 503.7517719727965, 558.9430814434373, 482.6773191828492, 1253.7799457608467, 917.9950248329269, 725.3666585860021, 663.9705615908973, 638.5875354689225, 632.6135490238519, 593.6788781413918, 587.8671881589333, 567.4636706449182, 514.9384618610546, 471.5327058138951, 471.2277132738116, 397.42294644365273, 349.5055640764295, 349.4554864108063, 344.1232587644157, 330.5788213204397, 299.0841665868897, 282.014120852473, 276.0745669225545, 273.142771197187, 271.04730984272146, 267.5240307460307, 264.74771969023317, 264.6805466214266, 262.1698735207493, 259.05382978035306, 257.68380241135696, 256.24972221423815, 253.5737862249465, 9007.32095487786, 1520.485374771411, 356.41687521763424, 930.030716038631, 683.5342069963339, 1315.5493729617165, 459.5724716962779, 451.8330882299257, 857.6361222093653, 731.4078840204571, 487.11356174812886, 489.654140817614, 570.8651285137831, 633.501059736674, 1150.6609132293715, 545.399481934264, 594.3782075780415, 665.3086614266988, 531.0528350051751, 526.6353652437756, 510.26205606994733, 554.9193802077464, 530.7899437407976, 512.9809283289309, 4059.896574984808, 2999.60302012572, 1445.5425235561477, 1107.5311680858783, 682.2835982224051, 566.6644541286535, 473.7080242091095, 317.96139439254813, 274.4171140472487, 257.5378426588664, 235.69673570976488, 201.23116775830118, 198.57282253107311, 193.6322092972016, 177.60418001890758, 175.44723251376976, 168.64225985237528, 163.71413238222718, 159.0923169153436, 144.6223813477352, 140.50887185219383, 139.26722687231833, 133.35577897221262, 130.0159239632512, 127.05457621229976, 126.95871702167443, 126.078823613181, 123.00387739839941, 122.65884679882487, 119.88692625098022, 5367.080080798939, 3611.3151840398955, 4105.525364576757, 582.3284753722418, 3363.761300573829, 4184.775503975402, 1520.798514583261, 1480.2450317281864, 1822.5028891708027, 1657.6561857742765, 204.67101302151096, 1554.4883683021367, 1230.243429421633, 1573.5876293094334, 1407.5172979247993, 310.7501773316747, 2176.307451302833, 1971.8680787059889, 364.1899172210654, 1878.5559375938058, 245.7461901969805, 1056.0955158781092, 625.0068063089219, 570.5677086362132, 547.9780332722855, 503.5821451217068, 470.23616854854725, 449.86525637092774, 377.4761821762896, 377.4730840867851, 307.3809555800232, 290.3654071110844, 283.6636420240755, 261.2095744636037, 258.2016614928571, 247.68404595073923, 247.31552820417426, 229.6223169145389, 225.046106778173, 219.61929403912504, 215.26574802129252, 209.94781099911836, 208.82141204290008, 208.39358801153392, 205.99728216740493, 197.8935651919597, 196.52836992257366, 193.70395236733881, 184.69304839733218, 177.6194793759624, 172.09062884616137, 306.85124866237925, 230.84719085858006, 293.0997366493694, 729.548650033257, 505.11623052751173, 270.01133526284315, 311.4962806441674, 293.42972744002435, 363.96718418385296, 260.0663130487964, 387.0455167794895, 222.85489445924452, 234.31200564361396, 30839.849154506835, 2435.402787429744, 1545.372054173382, 1397.2972353734206, 1263.4714963869587, 764.1002759128912, 730.7811235116019, 636.3402711765439, 612.0768118844594, 348.6885594045375, 332.2025246410119, 299.3259742172715, 292.37714526670646, 291.50082026926646, 280.49908864623893, 280.7884984719798, 252.1552661949989, 240.12901936945815, 239.2993591200709, 229.7214547364884, 219.27180545127135, 216.43622394421934, 211.29518693145496, 202.40931895356218, 197.84513295460872, 197.64095710475587, 193.52445538264425, 187.53756708005764, 183.26471936823677, 180.05853177559496, 182.45052698626262, 844.1425926765878, 875.905717792399, 219.4528598525625, 274.1887612096027, 320.94959083356787, 330.64523180274534, 246.44386663748134, 492.7651273967917, 411.02445036998876, 330.7019705817854, 327.28047491733827, 294.4762305534996, 261.56493106111566, 239.9437803293398, 242.3206388465928, 212.51057996574573, 211.13537066141652, 201.43583615766036, 196.12161714911718, 162.1740656854238, 159.1305401686979, 159.66567420411155, 156.73233940643067, 155.74417323265573, 154.21979073900428, 130.9080509874757, 126.63843878170242, 119.40923373651515, 116.99639684697988, 110.68419018603194, 108.94922750330409, 108.32324226186303, 101.83265084590518, 101.16994885119318, 100.01958161531007, 99.02333370989228, 98.03608798365111, 146.3811179339438, 472.8734672365813, 329.60777087507955, 239.05104736964506, 121.31693711135343, 144.8403595660374, 166.98597321071978, 180.37354880101543, 156.05325142265562, 125.0678215003922, 125.1029603436052], \"Total\": [30840.0, 10886.0, 6069.0, 4891.0, 5802.0, 4060.0, 4223.0, 4450.0, 11665.0, 11266.0, 12107.0, 3000.0, 4784.0, 2436.0, 4560.0, 4074.0, 4968.0, 4877.0, 5571.0, 2607.0, 5585.0, 2700.0, 2467.0, 2542.0, 2024.0, 1546.0, 4251.0, 2033.0, 2362.0, 5285.0, 1990.5967128437421, 1252.472398036158, 1026.6857517746416, 870.6228748796747, 821.8706761916623, 777.6426602316012, 754.5927517229143, 714.5769035808164, 681.6356837684764, 671.8034259228916, 664.3766197266455, 644.7544832484326, 619.7861274779115, 611.9986994216821, 601.02883535726, 597.8126838811929, 534.9871064006801, 496.8908413660962, 491.7855257935727, 472.5888308022058, 440.5912995903331, 439.7629782937655, 430.41393773370464, 419.36430220945255, 412.34129221947205, 401.3126555991083, 399.382581735181, 378.2230719510361, 354.9431273570598, 350.7403283508461, 1378.4566411819296, 890.8066521520163, 4968.024725394048, 4877.837181663428, 2986.209570453845, 5571.803310334066, 11665.44639932783, 11266.362495829031, 3012.940622089385, 12107.105111416518, 5285.210348916369, 2130.565559801611, 1473.6300026793385, 2173.8881864976524, 2081.181691129728, 1947.9258510257296, 2582.9531873220567, 1822.0456705729657, 1940.5117806765027, 1482.428660286907, 1785.13248557299, 2381.4551848815313, 2093.2831624052787, 7169.510764121559, 6124.967633917955, 7506.201692799851, 4823.815445829265, 4625.075197007981, 2709.715557823569, 8646.661622132304, 8177.250871738123, 4251.814778993284, 3930.3360809966257, 4784.630699435592, 4074.115401362172, 2237.506246011893, 1475.2547152665004, 1231.839790216202, 1065.7041039269582, 1010.1660902014664, 948.39476630571, 867.8570316473464, 812.8375254520611, 795.855299849138, 664.6060302634453, 662.5357226471574, 632.7440214627844, 602.9811564091323, 567.1820940966297, 539.3445335359108, 527.4552993290532, 517.3092362310039, 487.45212977285536, 476.5074333000402, 474.0393274704218, 465.9601608818844, 439.23010997458994, 431.69854820577615, 401.9234283073974, 375.3599311592486, 367.1300297547056, 366.8938501620326, 356.93455229224725, 346.00717063922605, 1091.540140412045, 2146.711196426501, 589.2987515040976, 2102.9572459768974, 5585.977442982506, 2440.4045722962583, 825.6699866027475, 1221.8615686250278, 4374.906125821548, 3184.9522299227806, 741.6903693734171, 8177.250871738123, 1717.6828806136796, 1802.522257872763, 8646.661622132304, 1430.7637689781056, 2866.0679560983535, 4823.815445829265, 2875.067572545471, 7506.201692799851, 2843.155192404378, 3076.321120255896, 3853.7791179813257, 7169.510764121559, 6124.967633917955, 2345.1003400747745, 12107.105111416518, 3312.226288964198, 11665.44639932783, 3974.797823290743, 3375.0634297209954, 11266.362495829031, 1407.5954315013448, 1123.929534588168, 903.8348194836357, 853.8194390689607, 733.0783097033005, 672.7552641026813, 574.4691916394205, 560.9860323875365, 551.421631763169, 523.3517939742338, 488.95929916509266, 475.09452304666945, 471.19008107337004, 462.5942881169266, 453.58063663732287, 411.57988896793086, 411.46444582111224, 410.919484149909, 408.56757821856706, 403.4714755986723, 402.57875754226563, 384.70235982906894, 380.88347454247497, 377.1236608716011, 350.5270215884577, 338.0488872059975, 336.3477922934424, 325.6751107112735, 321.8096572059986, 305.37612800919464, 2213.8876601345223, 986.2892393927257, 552.1623070330957, 553.3326065032156, 1785.0883458028536, 695.609159323465, 939.9815657491938, 2291.764200512274, 1363.092364886139, 7506.201692799851, 3810.1606770834296, 7169.510764121559, 2111.900916479367, 2855.121470825062, 904.6326666619519, 3974.797823290743, 1975.4472074484283, 6124.967633917955, 1528.5911558497396, 4374.906125821548, 4625.075197007981, 11266.362495829031, 11665.44639932783, 12107.105111416518, 8646.661622132304, 8177.250871738123, 1779.791868868959, 3312.226288964198, 5285.210348916369, 3076.321120255896, 2770.0899887854216, 3930.3360809966257, 1837.3727314841117, 813.8744335573631, 717.206369134475, 714.4330290237474, 429.02839546043566, 423.07248786262204, 416.1407304656673, 407.19412079464746, 379.32078800673975, 368.9986860300214, 365.91316443713725, 358.66991108432757, 354.9276783205278, 354.10975387724625, 339.4735918856388, 331.55169932221236, 326.6891939946153, 317.35679411140666, 295.7996869188552, 285.9382040805315, 284.7318021036652, 281.60876804234084, 281.40695626569334, 277.27862080046896, 261.6591035333416, 261.3882586165977, 257.6179930334648, 255.4463279982205, 251.05042858692434, 249.81140944547676, 1324.8215911875052, 365.90226793926666, 4251.814778993284, 1603.5391239583432, 665.7103336329279, 1413.0226090498488, 2709.715557823569, 1418.410115598887, 1218.5446474925561, 691.8039626213359, 391.0378918755083, 2117.709055882066, 1763.5332369660084, 3853.7791179813257, 2162.9991816618012, 1224.196631657546, 555.3237009568671, 8177.250871738123, 2009.5833742873992, 8646.661622132304, 2770.0899887854216, 1066.72115958803, 1769.3833798672958, 3375.0634297209954, 4226.408057726351, 4560.572537627654, 1479.9728140591221, 1136.9746595370805, 1752.2993597486463, 2381.4551848815313, 3974.797823290743, 2176.004871766398, 1000.0953240221044, 812.99028625112, 693.9508246575468, 562.863722523239, 543.4429219329387, 478.15778298535866, 476.02704896929185, 452.3008951138305, 441.12259272111856, 429.1577695642595, 400.4142499991364, 398.14807655598145, 394.47576289793005, 387.8159885342029, 380.65932378364084, 362.0754027855732, 358.7883148320751, 355.047939312878, 335.76740144837015, 325.96172073786045, 320.8842773396045, 661.7497918658977, 314.69726698371113, 304.4010518828436, 301.77805874317073, 296.6406396254447, 294.1955863182671, 268.3123771971954, 268.10884982333914, 259.4799654169467, 308.3480694559567, 586.9350828375391, 506.17173124306623, 792.6745539231829, 387.5590910679104, 422.56870632377604, 375.7370952577856, 1634.3885362049264, 642.5009289619093, 634.9245699965257, 1227.838237171367, 1015.8493976120732, 2049.9400683938934, 906.3554918571275, 616.5234003438727, 684.6883359167762, 755.9426807092985, 1430.9565000161474, 5585.977442982506, 3184.9522299227806, 1128.5325638950749, 1779.791868868959, 1603.5391239583432, 3930.3360809966257, 2521.986153166874, 1441.556062217459, 8646.661622132304, 2345.1003400747745, 1254.7295281458828, 918.944665092106, 726.316240306059, 664.9201864844929, 639.5370929076306, 633.5661267175744, 594.6283870936599, 588.8168693529542, 568.4132650054847, 515.8883668460907, 472.48222649552616, 472.1777737352536, 398.3724905083157, 350.4551375781859, 350.4050567880995, 345.07289482770335, 331.52836064122965, 300.03382259081246, 282.96376166303384, 277.0241426945344, 274.09249205287296, 271.9970937310928, 268.47419265316853, 265.69745193124544, 265.63016193110525, 263.1193755862453, 260.0036593706167, 258.63350164916295, 257.1993648614236, 254.5249347989868, 10886.750008137078, 1678.005106203388, 369.04507294908524, 1150.314995409029, 822.1827211000649, 2009.5833742873992, 543.2920935671648, 532.1618291058487, 1298.4054100923152, 1046.3530885501011, 605.0421591534493, 613.5833315719242, 779.72765871871, 922.6973458571205, 4784.630699435592, 975.2629484981528, 1244.0272645369932, 1763.5332369660084, 1014.9782559799088, 1304.5550037236924, 1254.5253968726604, 4226.408057726351, 3853.7791179813257, 2362.3916240706726, 4060.8920386398095, 3000.5981495201527, 1446.5376017204449, 1108.5270018110857, 683.278786983122, 567.6635759425527, 474.7103620204718, 318.95779935333024, 275.4123831515779, 258.5337235891103, 236.6980569215653, 202.22637032763797, 199.5682437036346, 194.62736389506077, 178.59928553466986, 176.44415869635077, 169.63740704459835, 164.70995770059233, 160.08731017924563, 145.62148576812015, 141.50400783697177, 140.26241047791677, 134.35075178490635, 131.01409291885074, 128.04977871466545, 127.95478737867808, 127.07435674346382, 123.99908366245168, 123.65390139099631, 120.88337782323859, 6069.703965851468, 4223.374605899107, 4891.153402568893, 628.8175215084958, 4450.008621280324, 5802.789868824191, 2024.9872594886665, 2033.1514474359974, 2607.015891651787, 2467.212727644588, 220.30351663399424, 2542.7995973689813, 1978.0700182397088, 2700.254499218233, 2362.3916240706726, 366.68785768499765, 4784.630699435592, 4560.572537627654, 534.7421305570412, 10886.750008137078, 1038.409119928201, 1057.0706764346367, 625.9819228452417, 571.5441697942008, 548.9531893924698, 504.55724172495513, 471.21132460388594, 450.8409780867803, 378.45142333283303, 378.4484092991991, 308.3592165462846, 291.344295621263, 284.6387759561801, 262.18496865030403, 259.178044501548, 248.6593114830626, 248.29068242268377, 230.59808792596527, 226.02128991489656, 220.5944060286514, 216.24102388030536, 210.92455757503555, 209.7965384727672, 209.36905018279333, 206.97251671689608, 198.86888677368412, 197.50750028209998, 194.6795811612576, 185.66840831184476, 178.59538787014117, 173.06602091788662, 326.9338814355844, 241.46763032696944, 370.21950004486087, 2093.2831624052787, 1386.2410107084377, 382.3880283228807, 649.8249349054885, 565.4411407847098, 1273.8702224053884, 524.6216886528659, 3930.3360809966257, 427.73777224709715, 7169.510764121559, 30840.748986175196, 2436.315385281533, 1546.2719211549859, 1398.1976827698732, 1264.3715799005956, 765.0001665598458, 731.68189957216, 637.2486868065158, 612.9800357921112, 349.58850053706743, 333.1037116119198, 300.2269098188279, 293.27781009353913, 292.401041315599, 281.39908523329825, 281.6910206082702, 253.05564852830062, 241.0295916347567, 240.1993249977894, 230.62146961029015, 220.17240093814982, 217.3446886119307, 212.19509255607016, 203.31229457809874, 198.74631160871826, 198.54664854792907, 194.42832235935043, 188.43799579715278, 184.1647483201487, 180.9652745371247, 183.40715974876008, 991.8039721028797, 5802.789868824191, 280.2554797600993, 567.3565466250459, 1978.0700182397088, 2362.3916240706726, 833.6263558968677, 493.7375419009168, 411.99703815030085, 331.6743950063743, 328.25288602279915, 295.4486396792714, 262.5373495627466, 240.91621539585495, 243.31169395649468, 213.4829897264295, 212.1091593258872, 202.40841951283446, 197.0942133974846, 163.14663172223823, 160.1029546482249, 160.64160621355535, 157.70521338525202, 156.71658698719796, 155.19228616392002, 131.88048713946995, 127.6110316935084, 120.38201021088251, 117.96931628922749, 111.6568901425744, 109.92233125535017, 109.29584603448627, 102.80524504499449, 102.14253673794174, 100.99366783917378, 99.99596026644888, 99.00869153595814, 148.44766506133007, 520.241904358663, 371.08196244544837, 284.76716101234217, 128.02141930277216, 199.6352405684209, 275.4849596149344, 399.103756926403, 5802.789868824191, 359.73722258076185, 510.2771469903927], \"Category\": [\"Default\", \"Default\", \"Default\", \"Default\", \"Default\", \"Default\", \"Default\", \"Default\", \"Default\", \"Default\", \"Default\", \"Default\", \"Default\", \"Default\", \"Default\", \"Default\", \"Default\", \"Default\", \"Default\", \"Default\", \"Default\", \"Default\", \"Default\", \"Default\", \"Default\", \"Default\", \"Default\", \"Default\", \"Default\", \"Default\", \"Topic1\", \"Topic1\", \"Topic1\", \"Topic1\", \"Topic1\", \"Topic1\", \"Topic1\", \"Topic1\", \"Topic1\", \"Topic1\", \"Topic1\", \"Topic1\", \"Topic1\", \"Topic1\", \"Topic1\", \"Topic1\", \"Topic1\", \"Topic1\", \"Topic1\", \"Topic1\", \"Topic1\", \"Topic1\", \"Topic1\", \"Topic1\", \"Topic1\", \"Topic1\", \"Topic1\", \"Topic1\", \"Topic1\", \"Topic1\", \"Topic1\", \"Topic1\", \"Topic1\", \"Topic1\", \"Topic1\", \"Topic1\", \"Topic1\", \"Topic1\", \"Topic1\", \"Topic1\", \"Topic1\", \"Topic1\", \"Topic1\", \"Topic1\", \"Topic1\", \"Topic1\", \"Topic1\", \"Topic1\", \"Topic1\", \"Topic1\", \"Topic1\", \"Topic1\", \"Topic1\", \"Topic1\", \"Topic1\", \"Topic1\", \"Topic1\", \"Topic1\", \"Topic1\", \"Topic1\", \"Topic1\", \"Topic1\", \"Topic1\", \"Topic1\", \"Topic2\", \"Topic2\", \"Topic2\", \"Topic2\", \"Topic2\", \"Topic2\", \"Topic2\", \"Topic2\", \"Topic2\", \"Topic2\", \"Topic2\", \"Topic2\", \"Topic2\", \"Topic2\", \"Topic2\", \"Topic2\", \"Topic2\", \"Topic2\", \"Topic2\", \"Topic2\", \"Topic2\", \"Topic2\", \"Topic2\", \"Topic2\", \"Topic2\", \"Topic2\", \"Topic2\", \"Topic2\", \"Topic2\", \"Topic2\", \"Topic2\", \"Topic2\", \"Topic2\", \"Topic2\", \"Topic2\", \"Topic2\", \"Topic2\", \"Topic2\", \"Topic2\", \"Topic2\", \"Topic2\", \"Topic2\", \"Topic2\", \"Topic2\", \"Topic2\", \"Topic2\", \"Topic2\", \"Topic2\", \"Topic2\", \"Topic2\", \"Topic2\", \"Topic2\", \"Topic2\", \"Topic2\", \"Topic2\", \"Topic2\", \"Topic2\", \"Topic2\", \"Topic2\", \"Topic2\", \"Topic2\", \"Topic2\", \"Topic3\", \"Topic3\", \"Topic3\", \"Topic3\", \"Topic3\", \"Topic3\", \"Topic3\", \"Topic3\", \"Topic3\", \"Topic3\", \"Topic3\", \"Topic3\", \"Topic3\", \"Topic3\", \"Topic3\", \"Topic3\", \"Topic3\", \"Topic3\", \"Topic3\", \"Topic3\", \"Topic3\", \"Topic3\", \"Topic3\", \"Topic3\", \"Topic3\", \"Topic3\", \"Topic3\", \"Topic3\", \"Topic3\", \"Topic3\", \"Topic3\", \"Topic3\", \"Topic3\", \"Topic3\", \"Topic3\", \"Topic3\", \"Topic3\", \"Topic3\", \"Topic3\", \"Topic3\", \"Topic3\", \"Topic3\", \"Topic3\", \"Topic3\", \"Topic3\", \"Topic3\", \"Topic3\", \"Topic3\", \"Topic3\", \"Topic3\", \"Topic3\", \"Topic3\", \"Topic3\", \"Topic3\", \"Topic3\", \"Topic3\", \"Topic3\", \"Topic3\", \"Topic3\", \"Topic3\", \"Topic3\", \"Topic3\", \"Topic4\", \"Topic4\", \"Topic4\", \"Topic4\", \"Topic4\", \"Topic4\", \"Topic4\", \"Topic4\", \"Topic4\", \"Topic4\", \"Topic4\", \"Topic4\", \"Topic4\", \"Topic4\", \"Topic4\", \"Topic4\", \"Topic4\", \"Topic4\", \"Topic4\", \"Topic4\", \"Topic4\", \"Topic4\", \"Topic4\", \"Topic4\", \"Topic4\", \"Topic4\", \"Topic4\", \"Topic4\", \"Topic4\", \"Topic4\", \"Topic4\", \"Topic4\", \"Topic4\", \"Topic4\", \"Topic4\", \"Topic4\", \"Topic4\", \"Topic4\", \"Topic4\", \"Topic4\", \"Topic4\", \"Topic4\", \"Topic4\", \"Topic4\", \"Topic4\", \"Topic4\", \"Topic4\", \"Topic4\", \"Topic4\", \"Topic4\", \"Topic4\", \"Topic4\", \"Topic4\", \"Topic4\", \"Topic4\", \"Topic4\", \"Topic4\", \"Topic4\", \"Topic4\", \"Topic4\", \"Topic4\", \"Topic4\", \"Topic5\", \"Topic5\", \"Topic5\", \"Topic5\", \"Topic5\", \"Topic5\", \"Topic5\", \"Topic5\", \"Topic5\", \"Topic5\", \"Topic5\", \"Topic5\", \"Topic5\", \"Topic5\", \"Topic5\", \"Topic5\", \"Topic5\", \"Topic5\", \"Topic5\", \"Topic5\", \"Topic5\", \"Topic5\", \"Topic5\", \"Topic5\", \"Topic5\", \"Topic5\", \"Topic5\", \"Topic5\", \"Topic5\", \"Topic5\", \"Topic5\", \"Topic5\", \"Topic5\", \"Topic5\", \"Topic5\", \"Topic5\", \"Topic5\", \"Topic5\", \"Topic5\", \"Topic5\", \"Topic5\", \"Topic5\", \"Topic5\", \"Topic5\", \"Topic5\", \"Topic5\", \"Topic5\", \"Topic5\", \"Topic5\", \"Topic5\", \"Topic5\", \"Topic5\", \"Topic5\", \"Topic5\", \"Topic5\", \"Topic5\", \"Topic5\", \"Topic5\", \"Topic6\", \"Topic6\", \"Topic6\", \"Topic6\", \"Topic6\", \"Topic6\", \"Topic6\", \"Topic6\", \"Topic6\", \"Topic6\", \"Topic6\", \"Topic6\", \"Topic6\", \"Topic6\", \"Topic6\", \"Topic6\", \"Topic6\", \"Topic6\", \"Topic6\", \"Topic6\", \"Topic6\", \"Topic6\", \"Topic6\", \"Topic6\", \"Topic6\", \"Topic6\", \"Topic6\", \"Topic6\", \"Topic6\", \"Topic6\", \"Topic6\", \"Topic6\", \"Topic6\", \"Topic6\", \"Topic6\", \"Topic6\", \"Topic6\", \"Topic6\", \"Topic6\", \"Topic6\", \"Topic6\", \"Topic6\", \"Topic6\", \"Topic6\", \"Topic6\", \"Topic6\", \"Topic6\", \"Topic6\", \"Topic6\", \"Topic6\", \"Topic6\", \"Topic6\", \"Topic6\", \"Topic6\", \"Topic7\", \"Topic7\", \"Topic7\", \"Topic7\", \"Topic7\", \"Topic7\", \"Topic7\", \"Topic7\", \"Topic7\", \"Topic7\", \"Topic7\", \"Topic7\", \"Topic7\", \"Topic7\", \"Topic7\", \"Topic7\", \"Topic7\", \"Topic7\", \"Topic7\", \"Topic7\", \"Topic7\", \"Topic7\", \"Topic7\", \"Topic7\", \"Topic7\", \"Topic7\", \"Topic7\", \"Topic7\", \"Topic7\", \"Topic7\", \"Topic7\", \"Topic7\", \"Topic7\", \"Topic7\", \"Topic7\", \"Topic7\", \"Topic7\", \"Topic7\", \"Topic7\", \"Topic7\", \"Topic7\", \"Topic7\", \"Topic7\", \"Topic7\", \"Topic7\", \"Topic7\", \"Topic7\", \"Topic7\", \"Topic7\", \"Topic7\", \"Topic7\", \"Topic8\", \"Topic8\", \"Topic8\", \"Topic8\", \"Topic8\", \"Topic8\", \"Topic8\", \"Topic8\", \"Topic8\", \"Topic8\", \"Topic8\", \"Topic8\", \"Topic8\", \"Topic8\", \"Topic8\", \"Topic8\", \"Topic8\", \"Topic8\", \"Topic8\", \"Topic8\", \"Topic8\", \"Topic8\", \"Topic8\", \"Topic8\", \"Topic8\", \"Topic8\", \"Topic8\", \"Topic8\", \"Topic8\", \"Topic8\", \"Topic8\", \"Topic8\", \"Topic8\", \"Topic8\", \"Topic8\", \"Topic8\", \"Topic8\", \"Topic8\", \"Topic8\", \"Topic8\", \"Topic8\", \"Topic8\", \"Topic8\", \"Topic9\", \"Topic9\", \"Topic9\", \"Topic9\", \"Topic9\", \"Topic9\", \"Topic9\", \"Topic9\", \"Topic9\", \"Topic9\", \"Topic9\", \"Topic9\", \"Topic9\", \"Topic9\", \"Topic9\", \"Topic9\", \"Topic9\", \"Topic9\", \"Topic9\", \"Topic9\", \"Topic9\", \"Topic9\", \"Topic9\", \"Topic9\", \"Topic9\", \"Topic9\", \"Topic9\", \"Topic9\", \"Topic9\", \"Topic9\", \"Topic9\", \"Topic9\", \"Topic9\", \"Topic9\", \"Topic9\", \"Topic9\", \"Topic9\", \"Topic9\", \"Topic10\", \"Topic10\", \"Topic10\", \"Topic10\", \"Topic10\", \"Topic10\", \"Topic10\", \"Topic10\", \"Topic10\", \"Topic10\", \"Topic10\", \"Topic10\", \"Topic10\", \"Topic10\", \"Topic10\", \"Topic10\", \"Topic10\", \"Topic10\", \"Topic10\", \"Topic10\", \"Topic10\", \"Topic10\", \"Topic10\", \"Topic10\", \"Topic10\", \"Topic10\", \"Topic10\", \"Topic10\", \"Topic10\", \"Topic10\", \"Topic10\", \"Topic10\", \"Topic10\", \"Topic10\", \"Topic10\", \"Topic10\", \"Topic10\", \"Topic10\", \"Topic10\", \"Topic10\", \"Topic10\"], \"logprob\": [30.0, 29.0, 28.0, 27.0, 26.0, 25.0, 24.0, 23.0, 22.0, 21.0, 20.0, 19.0, 18.0, 17.0, 16.0, 15.0, 14.0, 13.0, 12.0, 11.0, 10.0, 9.0, 8.0, 7.0, 6.0, 5.0, 4.0, 3.0, 2.0, 1.0, -5.1691, -5.6327, -5.8316, -5.9967, -6.0544, -6.1097, -6.1399, -6.1944, -6.2417, -6.2562, -6.2674, -6.2974, -6.337, -6.3496, -6.3677, -6.3731, -6.4843, -6.5583, -6.5687, -6.6086, -6.6788, -6.6807, -6.7023, -6.7283, -6.7453, -6.7724, -6.7773, -6.8318, -6.8955, -6.9075, -5.5704, -6.0002, -4.338, -4.3567, -4.8381, -4.2776, -3.7584, -3.7963, -4.9742, -3.7511, -4.5152, -5.3088, -5.6264, -5.3075, -5.362, -5.4835, -5.2777, -5.5552, -5.5352, -5.7499, -5.6316, -5.4528, -5.5474, -4.8787, -5.0191, -4.9601, -5.1897, -5.2336, -5.5479, -5.1851, -5.2477, -5.5478, -5.5536, -5.5567, -4.4361, -5.0356, -5.4524, -5.6328, -5.7778, -5.8314, -5.8946, -5.9834, -6.049, -6.0701, -6.2506, -6.2537, -6.2998, -6.348, -6.4093, -6.4598, -6.4821, -6.5015, -6.5611, -6.5839, -6.5891, -6.6063, -6.6655, -6.6828, -6.7545, -6.823, -6.8452, -6.8459, -6.8735, -6.9047, -5.7838, -5.1604, -6.4079, -5.2423, -4.3832, -5.168, -6.1441, -5.8356, -4.9153, -5.1917, -6.266, -4.5858, -5.6841, -5.6522, -4.587, -5.8289, -5.4273, -5.1135, -5.4613, -4.9967, -5.5428, -5.5291, -5.4527, -5.2164, -5.3408, -5.6834, -5.2704, -5.6545, -5.4901, -5.6559, -5.6811, -5.6058, -5.3299, -5.5551, -5.7733, -5.8303, -5.9829, -6.0689, -6.2271, -6.2509, -6.2681, -6.3204, -6.3885, -6.4174, -6.4256, -6.4441, -6.4638, -6.5612, -6.5615, -6.5628, -6.5686, -6.5811, -6.5834, -6.6289, -6.6389, -6.6488, -6.7222, -6.7585, -6.7636, -6.7959, -6.8079, -6.8605, -5.0482, -5.7943, -6.3301, -6.3425, -5.3726, -6.1551, -5.9118, -5.2073, -5.7493, -4.7146, -5.2406, -4.8694, -5.5934, -5.4275, -6.101, -5.298, -5.6764, -5.1603, -5.8462, -5.3452, -5.3218, -4.9136, -4.9444, -4.9509, -5.2719, -5.4057, -5.8878, -5.7161, -5.7246, -5.8456, -5.8653, -5.8768, -4.698, -5.5129, -5.6395, -5.6434, -6.1543, -6.1683, -6.1848, -6.2066, -6.2777, -6.3054, -6.3138, -6.3338, -6.3443, -6.3466, -6.389, -6.4127, -6.4275, -6.4565, -6.5271, -6.5611, -6.5654, -6.5764, -6.5772, -6.592, -6.6502, -6.6512, -6.6658, -6.6743, -6.6917, -6.6967, -5.1588, -6.3915, -4.4668, -5.237, -5.9325, -5.4188, -5.026, -5.5327, -5.6494, -6.0114, -6.3724, -5.3674, -5.4837, -5.0786, -5.412, -5.8331, -6.1905, -5.0522, -5.6722, -5.1997, -5.6311, -5.9626, -5.862, -5.7219, -5.7335, -5.7318, -5.9857, -6.0279, -5.9859, -5.9569, -5.9176, -5.9854, -5.2466, -5.454, -5.6125, -5.8222, -5.8573, -5.9856, -5.99, -6.0413, -6.0664, -6.0939, -6.1634, -6.1691, -6.1784, -6.1955, -6.2141, -6.2643, -6.2735, -6.284, -6.34, -6.3697, -6.3854, -5.6616, -6.405, -6.4383, -6.447, -6.4642, -6.4725, -6.5649, -6.5657, -6.5985, -6.4276, -5.7996, -5.9521, -5.5294, -6.2115, -6.1358, -6.2463, -4.949, -5.8008, -5.8611, -5.4048, -5.5952, -5.1681, -5.6865, -5.9489, -5.9128, -5.9131, -5.6646, -5.1812, -5.5123, -5.8535, -5.7595, -5.8778, -5.796, -5.8643, -5.9314, -5.8274, -5.9741, -5.0143, -5.326, -5.5615, -5.6499, -5.6889, -5.6983, -5.7618, -5.7717, -5.807, -5.9041, -5.9922, -5.9928, -6.1632, -6.2917, -6.2918, -6.3072, -6.3473, -6.4475, -6.5062, -6.5275, -6.5382, -6.5459, -6.559, -6.5694, -6.5697, -6.5792, -6.5911, -6.5965, -6.602, -6.6125, -3.0424, -4.8214, -6.2721, -5.313, -5.6209, -4.9662, -6.0179, -6.0349, -5.394, -5.5532, -5.9597, -5.9545, -5.801, -5.6969, -5.1001, -5.8467, -5.7607, -5.6479, -5.8733, -5.8817, -5.9133, -5.8294, -5.8738, -5.9079, -3.198, -3.5007, -4.2307, -4.497, -4.9815, -5.1671, -5.3463, -5.745, -5.8923, -5.9557, -6.0444, -6.2024, -6.2157, -6.2409, -6.3273, -6.3396, -6.3791, -6.4088, -6.4374, -6.5328, -6.5616, -6.5705, -6.6139, -6.6392, -6.6623, -6.663, -6.67, -6.6947, -6.6975, -6.7204, -2.9189, -3.3151, -3.1868, -5.1399, -3.3861, -3.1677, -4.1799, -4.2069, -3.9989, -4.0937, -6.1855, -4.158, -4.3919, -4.1458, -4.2573, -5.7679, -3.8215, -3.9202, -5.6092, -3.9686, -6.0026, -4.4998, -5.0243, -5.1155, -5.1559, -5.2404, -5.3089, -5.3531, -5.5286, -5.5286, -5.734, -5.791, -5.8143, -5.8968, -5.9084, -5.9499, -5.9514, -6.0257, -6.0458, -6.0702, -6.0902, -6.1152, -6.1206, -6.1227, -6.1342, -6.1744, -6.1813, -6.1958, -6.2434, -6.2825, -6.3141, -5.7357, -6.0203, -5.7816, -4.8697, -5.2373, -5.8636, -5.7207, -5.7805, -5.565, -5.9012, -5.5036, -6.0556, -6.0054, -1.0288, -3.5675, -4.0223, -4.123, -4.2237, -4.7266, -4.7712, -4.9096, -4.9485, -5.5111, -5.5596, -5.6638, -5.6873, -5.6903, -5.7288, -5.7277, -5.8353, -5.8842, -5.8876, -5.9285, -5.975, -5.988, -6.0121, -6.055, -6.0778, -6.0789, -6.0999, -6.1313, -6.1544, -6.172, -6.1588, -4.627, -4.5901, -5.9742, -5.7515, -5.594, -5.5643, -5.8582, -4.4792, -4.6605, -4.878, -4.8884, -4.994, -5.1125, -5.1988, -5.1889, -5.3202, -5.3267, -5.3737, -5.4005, -5.5905, -5.6095, -5.6061, -5.6247, -5.631, -5.6408, -5.8047, -5.8379, -5.8966, -5.9171, -5.9725, -5.9883, -5.9941, -6.0559, -6.0624, -6.0738, -6.0838, -6.0939, -5.693, -4.5204, -4.8813, -5.2025, -5.8808, -5.7036, -5.5613, -5.4842, -5.629, -5.8503, -5.8501], \"loglift\": [30.0, 29.0, 28.0, 27.0, 26.0, 25.0, 24.0, 23.0, 22.0, 21.0, 20.0, 19.0, 18.0, 17.0, 16.0, 15.0, 14.0, 13.0, 12.0, 11.0, 10.0, 9.0, 8.0, 7.0, 6.0, 5.0, 4.0, 3.0, 2.0, 1.0, 1.6859, 1.6856, 1.6854, 1.6852, 1.6852, 1.6851, 1.6851, 1.685, 1.6849, 1.6849, 1.6849, 1.6848, 1.6848, 1.6848, 1.6847, 1.6847, 1.6845, 1.6844, 1.6844, 1.6843, 1.6841, 1.6841, 1.6841, 1.684, 1.684, 1.6839, 1.6839, 1.6838, 1.6836, 1.6836, 1.652, 1.6588, 1.6024, 1.6019, 1.6113, 1.5481, 1.3283, 1.3252, 1.4662, 1.2984, 1.3632, 1.4781, 1.5292, 1.4593, 1.4484, 1.3931, 1.3167, 1.3882, 1.3452, 1.3997, 1.3322, 1.2228, 1.2572, 0.6949, 0.7119, 0.5676, 0.7801, 0.7782, 0.9986, 0.201, 0.1943, 0.5482, 0.6211, 0.4213, 1.7026, 1.7024, 1.7021, 1.702, 1.7019, 1.7018, 1.7018, 1.7017, 1.7016, 1.7016, 1.7013, 1.7013, 1.7013, 1.7012, 1.7011, 1.701, 1.701, 1.7009, 1.7008, 1.7008, 1.7008, 1.7007, 1.7006, 1.7005, 1.7004, 1.7002, 1.7002, 1.7001, 1.7001, 1.7, 1.6719, 1.619, 1.6643, 1.5577, 1.4399, 1.4832, 1.5908, 1.5074, 1.1522, 1.1932, 1.5762, 0.8562, 1.3183, 1.3019, 0.7992, 1.3562, 1.0631, 0.8563, 1.026, 0.5309, 0.9556, 0.8906, 0.7416, 0.3572, 0.3902, 1.0076, -0.2209, 0.6912, -0.4034, 0.5074, 0.6458, -0.4842, 1.8716, 1.8714, 1.8712, 1.8711, 1.8709, 1.8708, 1.8706, 1.8705, 1.8705, 1.8704, 1.8703, 1.8702, 1.8702, 1.8702, 1.8701, 1.8699, 1.8699, 1.8699, 1.8699, 1.8699, 1.8699, 1.8697, 1.8697, 1.8697, 1.8695, 1.8694, 1.8694, 1.8693, 1.8693, 1.8691, 1.7004, 1.7628, 1.8072, 1.7927, 1.5913, 1.7512, 1.6934, 1.5067, 1.4843, 0.813, 0.9651, 0.7041, 1.2023, 1.0667, 1.5426, 0.8654, 1.1861, 0.5706, 1.2728, 0.7223, 0.6901, 0.2079, 0.1423, 0.0986, 0.1143, 0.0363, 1.0791, 0.6296, 0.1538, 0.574, 0.6592, 0.2978, 2.2371, 2.2364, 2.2362, 2.2362, 2.2353, 2.2353, 2.2353, 2.2352, 2.235, 2.235, 2.2349, 2.2349, 2.2349, 2.2349, 2.2347, 2.2347, 2.2346, 2.2345, 2.2343, 2.2342, 2.2342, 2.2341, 2.2341, 2.2341, 2.2339, 2.2339, 2.2338, 2.2338, 2.2337, 2.2337, 2.1033, 2.1572, 1.6292, 1.8342, 2.0177, 1.7788, 1.5206, 1.6611, 1.6963, 1.9004, 2.1099, 1.4256, 1.4924, 1.1157, 1.3599, 1.508, 1.9411, 0.3898, 1.1732, 0.1865, 0.8934, 1.5162, 1.1108, 0.6051, 0.3685, 0.2942, 1.1657, 1.3871, 0.9966, 0.7187, 0.2457, 0.7805, 2.2967, 2.2964, 2.2962, 2.2959, 2.2958, 2.2956, 2.2956, 2.2955, 2.2954, 2.2954, 2.2952, 2.2952, 2.2952, 2.2951, 2.2951, 2.2949, 2.2949, 2.2949, 2.2947, 2.2947, 2.2946, 2.2946, 2.2945, 2.2944, 2.2944, 2.2944, 2.2943, 2.294, 2.294, 2.2939, 2.2923, 2.2766, 2.2722, 2.2463, 2.2797, 2.2689, 2.276, 2.103, 2.185, 2.1365, 1.9333, 1.9325, 1.6574, 1.9552, 2.0781, 2.0093, 1.91, 1.5204, 0.6418, 0.8726, 1.5689, 1.2074, 1.1933, 0.3786, 0.754, 1.2462, -0.4413, 0.7169, 2.3022, 2.3019, 2.3016, 2.3015, 2.3014, 2.3014, 2.3013, 2.3013, 2.3013, 2.3011, 2.3009, 2.3009, 2.3005, 2.3002, 2.3002, 2.3002, 2.3001, 2.2998, 2.2996, 2.2995, 2.2995, 2.2994, 2.2994, 2.2993, 2.2993, 2.2993, 2.2993, 2.2992, 2.2992, 2.2992, 2.1134, 2.2043, 2.2681, 2.0904, 2.1182, 1.8793, 2.1356, 2.1393, 1.8882, 1.9448, 2.0861, 2.0773, 1.9911, 1.9269, 0.8779, 1.7217, 1.5643, 1.3281, 1.6552, 1.3958, 1.4033, 0.2726, 0.3205, 0.7757, 2.944, 2.9439, 2.9435, 2.9433, 2.9428, 2.9424, 2.9421, 2.9411, 2.9406, 2.9403, 2.94, 2.9393, 2.9392, 2.9391, 2.9386, 2.9385, 2.9383, 2.9381, 2.938, 2.9373, 2.9372, 2.9371, 2.9368, 2.9366, 2.9364, 2.9364, 2.9363, 2.9362, 2.9361, 2.9359, 2.8212, 2.7876, 2.7691, 2.8674, 2.6644, 2.6173, 2.6579, 2.6268, 2.5862, 2.5465, 2.8706, 2.4521, 2.4693, 2.4042, 2.4264, 2.7787, 2.1564, 2.1057, 2.5601, 1.1872, 1.5031, 2.9881, 2.9875, 2.9873, 2.9872, 2.9871, 2.9869, 2.9868, 2.9864, 2.9864, 2.9858, 2.9856, 2.9856, 2.9853, 2.9852, 2.9851, 2.9851, 2.9848, 2.9847, 2.9846, 2.9845, 2.9844, 2.9844, 2.9843, 2.9843, 2.9841, 2.984, 2.984, 2.9837, 2.9835, 2.9834, 2.9256, 2.944, 2.7554, 1.9349, 1.9794, 2.641, 2.2537, 2.333, 1.7363, 2.2873, 0.6711, 2.337, -0.4319, 3.0858, 3.0854, 3.0852, 3.0851, 3.0851, 3.0846, 3.0845, 3.0844, 3.0843, 3.0832, 3.0831, 3.0828, 3.0827, 3.0827, 3.0826, 3.0826, 3.0822, 3.082, 3.082, 3.0819, 3.0817, 3.0816, 3.0815, 3.0813, 3.0812, 3.0812, 3.0811, 3.081, 3.0809, 3.0808, 3.0806, 2.9246, 1.1949, 2.8412, 2.3586, 1.2672, 1.1194, 1.8671, 3.7699, 3.7695, 3.769, 3.7689, 3.7686, 3.7682, 3.7679, 3.7678, 3.7673, 3.7673, 3.7671, 3.767, 3.7659, 3.7658, 3.7658, 3.7657, 3.7657, 3.7656, 3.7645, 3.7643, 3.7638, 3.7636, 3.7632, 3.763, 3.763, 3.7624, 3.7623, 3.7622, 3.7621, 3.762, 3.7579, 3.6764, 3.6534, 3.5969, 3.7181, 3.451, 3.2713, 2.9777, 0.156, 2.7154, 2.3661]}, \"token.table\": {\"Topic\": [7, 1, 1, 7, 9, 1, 3, 8, 2, 3, 4, 4, 1, 2, 3, 4, 5, 6, 8, 3, 5, 4, 1, 2, 3, 4, 1, 1, 6, 1, 10, 2, 10, 10, 10, 5, 1, 2, 3, 4, 5, 8, 2, 2, 2, 2, 1, 4, 6, 9, 1, 2, 3, 5, 6, 7, 1, 2, 3, 4, 5, 8, 5, 3, 10, 8, 9, 4, 9, 2, 1, 2, 3, 8, 1, 2, 3, 4, 8, 9, 9, 2, 8, 4, 1, 2, 3, 4, 9, 7, 1, 10, 6, 3, 7, 1, 3, 4, 6, 7, 7, 8, 2, 5, 6, 10, 8, 1, 1, 8, 8, 8, 1, 3, 5, 6, 3, 1, 4, 2, 2, 2, 2, 2, 9, 5, 7, 7, 2, 4, 5, 4, 1, 3, 5, 10, 9, 4, 6, 6, 1, 4, 1, 2, 3, 4, 4, 10, 1, 3, 4, 4, 1, 4, 5, 8, 6, 1, 2, 3, 4, 5, 2, 5, 7, 1, 5, 1, 10, 3, 7, 3, 5, 1, 4, 6, 8, 8, 4, 4, 6, 4, 6, 9, 3, 5, 6, 1, 1, 3, 4, 5, 8, 9, 10, 3, 5, 6, 7, 8, 1, 1, 8, 5, 5, 5, 8, 9, 1, 2, 3, 4, 6, 7, 8, 9, 6, 1, 3, 6, 5, 7, 7, 9, 6, 9, 3, 7, 4, 4, 4, 8, 6, 6, 9, 4, 1, 7, 1, 2, 3, 4, 5, 8, 2, 4, 2, 2, 9, 1, 3, 5, 6, 7, 8, 9, 2, 3, 4, 5, 8, 2, 6, 3, 4, 6, 5, 8, 10, 4, 5, 9, 6, 6, 1, 2, 3, 4, 5, 6, 10, 4, 8, 2, 4, 5, 8, 6, 6, 8, 3, 4, 6, 7, 9, 3, 3, 3, 9, 10, 1, 2, 3, 4, 5, 6, 8, 8, 1, 2, 3, 5, 2, 1, 2, 3, 4, 5, 1, 2, 3, 4, 8, 4, 5, 9, 1, 6, 10, 2, 10, 10, 5, 8, 10, 5, 5, 9, 1, 3, 5, 6, 7, 8, 9, 10, 3, 1, 2, 3, 4, 5, 6, 1, 3, 4, 5, 8, 3, 3, 1, 3, 2, 5, 8, 2, 5, 1, 8, 6, 6, 6, 1, 2, 5, 6, 2, 1, 4, 5, 6, 1, 4, 6, 8, 2, 2, 5, 1, 2, 3, 5, 7, 2, 2, 2, 10, 3, 8, 1, 4, 7, 8, 4, 5, 8, 1, 2, 3, 4, 9, 1, 3, 5, 7, 3, 7, 10, 2, 3, 4, 5, 6, 10, 4, 2, 4, 5, 6, 2, 1, 2, 3, 5, 10, 8, 2, 3, 5, 8, 1, 2, 4, 8, 1, 2, 3, 4, 5, 8, 1, 2, 3, 4, 6, 9, 1, 3, 5, 6, 7, 1, 2, 3, 4, 5, 6, 10, 3, 8, 1, 3, 4, 5, 8, 7, 9, 1, 1, 4, 6, 1, 2, 3, 4, 5, 6, 6, 1, 7, 1, 2, 3, 4, 5, 6, 8, 1, 7, 8, 9, 9, 1, 4, 9, 2, 5, 1, 1, 2, 4, 6, 4, 7, 9, 5, 6, 7, 1, 6, 8, 1, 4, 1, 6, 10, 8, 1, 2, 5, 7, 9, 4, 7, 9, 7, 9, 10, 1, 5, 6, 7, 8, 9, 1, 2, 3, 4, 6, 8, 10, 1, 3, 4, 5, 6, 4, 2, 8, 1, 2, 3, 4, 6, 9, 1, 2, 3, 4, 5, 6, 8, 1, 1, 2, 3, 4, 5, 6, 3, 3, 8, 1, 3, 4, 1, 2, 3, 4, 5, 6, 8, 1, 1, 8, 1, 2, 3, 4, 5, 6, 8, 1, 2, 3, 4, 5, 6, 1, 2, 3, 4, 9, 5, 7, 1, 5, 6, 7, 8, 9, 10, 3, 3, 3, 1, 2, 3, 4, 5, 10, 4, 3, 6, 3, 9, 3, 1, 7, 9, 10, 3, 3, 3, 3, 1, 2, 3, 6, 5, 5, 1, 2, 3, 4, 1, 2, 3, 5, 8, 5, 1, 5, 6, 4, 5, 1, 2, 4, 5, 8, 4, 6, 5, 2, 2, 4, 5, 6, 4, 7, 6, 6, 4, 5, 5, 7, 9, 10, 7, 1, 3, 6, 7, 8, 9, 4, 1, 2, 3, 4, 10, 2, 2, 1, 2, 3, 4, 9, 10, 1, 4, 5, 6, 5, 1, 2, 3, 4, 5, 2, 5, 4, 10, 9, 9, 7, 10, 4, 10, 3, 4, 5, 2, 3, 5, 10, 1, 8, 1, 2, 3, 4, 3, 6, 1, 3, 4, 4, 8, 3, 5, 5, 4, 5, 1, 2, 3, 4, 6, 8, 6, 1, 4, 5, 6, 2, 10, 6, 1, 2, 5, 6, 6, 7, 10, 5, 6, 2, 5, 6, 10, 1, 1, 6, 2, 5, 10, 5, 10, 2, 4, 6, 10, 5, 10, 4, 6, 1, 8, 6, 10, 2, 3, 6, 7, 8, 4, 1, 2, 3, 5, 5, 5, 1, 2, 3, 4, 5, 8, 9, 1, 6, 4, 1, 4, 6, 1, 4, 6, 1, 5, 7, 3, 3, 1, 4, 2, 6, 1, 1, 2, 3, 4, 1, 2, 3, 4, 1, 2, 3, 4, 5, 6, 1, 3, 5, 1, 2, 3, 4, 6, 2, 7, 7, 10, 10, 10, 6, 1, 2, 3, 4, 5, 8, 10, 1, 4, 5, 7, 9, 3, 7, 5, 1, 2, 3, 5, 9, 6, 1, 2, 3, 4, 5, 7, 1, 3, 5, 8, 9, 1, 2, 4, 5, 6, 1, 2, 4, 5, 6, 8, 4, 1, 4, 5, 6, 9, 1, 7, 8, 9, 8, 1, 6, 1, 10, 10, 3, 8, 1, 7, 8, 2, 5, 10, 1, 2, 3, 4, 6, 8, 5, 5, 9, 1, 2, 3, 4, 5, 6, 8, 1, 6, 1, 6, 10, 3, 8, 1, 2, 3, 4, 5, 6, 8, 1, 2, 3, 4, 5, 8, 10, 1, 2, 3, 4, 5, 8, 1, 2, 3, 4, 8, 9, 7, 6, 7, 6, 6, 7, 3, 5, 6, 2, 3, 4, 5, 10, 10, 7, 9], \"Freq\": [0.9997803343129239, 0.9987316149183422, 0.9986405710298472, 0.9922596653821139, 0.9994600923634601, 0.9988040758771245, 0.20528362225866223, 0.7914223858130004, 0.8938195792201807, 0.08962418545026202, 0.01574478933585684, 0.9970674409730742, 0.2515138116057478, 0.26594687134982176, 0.12019662868835361, 0.15426811398583967, 0.051580443019805286, 0.1313171829173942, 0.02508039889953835, 0.04920051969244801, 0.9499484956003423, 0.9976011262793103, 0.8119909720877541, 0.11640101796402486, 0.06899576468028892, 0.0023467947170166302, 0.9982650238164072, 0.1484510832592742, 0.8493656915593917, 0.9967662682640512, 0.9931109663113444, 0.9972409049052983, 0.997737572782504, 0.9950968138460748, 0.9961831682944834, 0.9973022285826607, 0.3710155528758614, 0.2604082846688847, 0.3108998749474794, 0.0025106315608140997, 0.02245620451617056, 0.0326382102905833, 0.9989350988786765, 0.9973817264642901, 0.9977024770332842, 0.99637699432902, 0.05006140570176658, 0.28881580212557645, 0.6608105552633189, 0.9999757143973536, 0.2555314694225178, 0.04481059101467341, 0.07443742804916822, 0.006666038332761334, 0.035922539904324965, 0.5829080186536856, 0.19745244520995692, 0.13589652703898714, 0.5118611349447564, 0.048771227473922214, 0.035513029714021024, 0.07007904530233483, 0.998267942639399, 0.997927042352733, 0.9888142905548445, 0.9938403800339732, 0.9962449033510239, 0.2140903722965932, 0.7814298588825651, 0.9970209797349084, 0.017701496159919547, 0.919546142623189, 0.06242106540603208, 0.9966662752199733, 0.18252100892530984, 0.14523177054271966, 0.5488714211051432, 0.09943796902024048, 0.02355109792584643, 0.9986925930168833, 0.9983165906882997, 0.9985293399381113, 0.9988955827429014, 0.9943380356666134, 0.6256871688475543, 0.030405963928876827, 0.001351376174616748, 0.3425738602653456, 0.9973052395714054, 0.9919428141487612, 0.9984027065613509, 0.9952117643326014, 0.9953368280591602, 0.9981742773052367, 0.9979355745869403, 0.28215343770612217, 0.008151099311510196, 0.014212173158530598, 0.24056193096277528, 0.45478954107297914, 0.9988310401253931, 0.9973054347145403, 0.012528070491007752, 0.23302211113274418, 0.30067369178418607, 0.4510105376762791, 0.9989871288093546, 0.9996228275873394, 0.9986579408379537, 0.9974293389385236, 0.9981346458559531, 0.9974304758990159, 0.21355165788765573, 0.09392728521199795, 0.4829280230239517, 0.2100072320305992, 0.9974170453033732, 0.12529989026764407, 0.8740799574092278, 0.9979158472932533, 0.9989696274767884, 0.997939392758241, 0.9988456450748274, 0.9983728240945783, 0.9938131057146207, 0.9978403511189378, 0.9947118418129918, 0.993208017687172, 0.9989253073400403, 0.01874142528134538, 0.9796654124339631, 0.9989255915638718, 0.36971431270263166, 0.06671536469821925, 0.21404512840678677, 0.34747585780322526, 0.9946659681555275, 0.439881368056312, 0.5588236493955479, 0.9986160948288275, 0.966298075837847, 0.0333706542706764, 0.08790912554595175, 0.6805679984319045, 0.23112531683273405, 0.9974298546974435, 0.9972935241565056, 0.9900399949778467, 0.7880138514527094, 0.05141309884478044, 0.15952475529408508, 0.9953886787348489, 0.28573594997616475, 0.035716993747020594, 0.6786228811933912, 0.9953858865903092, 0.9960141481997902, 0.25421744446175576, 0.34754902372219054, 0.15644150428415737, 0.19555188035519672, 0.04622135353850104, 0.023707368980346196, 0.9739777422758895, 0.9918152082391343, 0.9989406165508949, 0.9978959389031715, 0.006736380795123031, 0.9835115960879625, 0.9968972321883185, 0.9981284550208733, 0.01863004768053961, 0.9794082209197967, 0.19105898711500466, 0.56189672594339, 0.2397050022845077, 0.007050147126014932, 0.9977558364842096, 0.9946889021567187, 0.9981322350617527, 0.9963341750552727, 0.8797101435620377, 0.11763565873213296, 0.998915208216952, 0.9964408934089316, 0.9951087713101252, 0.9963030561720257, 0.9983681347319433, 0.8025382187330292, 0.0949238753340142, 0.07666928392362686, 0.008297541550176066, 0.000995704986021128, 0.0016595083100352133, 0.014603673128309878, 0.8855547569257266, 0.004312766673339578, 0.10781916683348944, 0.998503588551452, 0.9961727694882342, 0.9979279527819449, 0.6511302553228634, 0.34873447277013225, 0.9973448509959308, 0.995936083429295, 0.9974217517787372, 0.9956166432886476, 0.9984011945987038, 0.29448056991077043, 0.06073798798606359, 0.008551557875294151, 0.14318377673248925, 0.05547549083203642, 0.4324018494892325, 0.0006578121442533963, 0.0043854142950226415, 0.9975505816333791, 0.927597321838003, 0.041859084920487497, 0.0304734138221149, 0.9970495899466862, 0.991545448106161, 0.9970508548712057, 0.9991434095588683, 0.14821477240943304, 0.8509746116568809, 0.3179102417513109, 0.6807019293969245, 0.9968660736816898, 0.9983179609295287, 0.9983360081599938, 0.9961648358459031, 0.9987012957454952, 0.9981877862107223, 0.9936755088540401, 0.9975044231093956, 0.9967467373778249, 0.9966445244566584, 0.03373833746596781, 0.5081619694616389, 0.27964560126431054, 0.1464313409605407, 0.019477803073136055, 0.012173626920710036, 0.9997737454307467, 0.9972965254724068, 0.9974691419767745, 0.9975637363187259, 0.9943679538406178, 0.1804789500412607, 0.0005055432774265005, 0.008088692438824008, 0.026288250426178026, 0.6218182312345956, 0.0005055432774265005, 0.16227939205390665, 0.7073145280459546, 0.03634422476125458, 0.12510800446662634, 0.13139835105992043, 0.9942609230291459, 0.9993393063568361, 0.9975056561304515, 0.9959928611861779, 0.2004617688764284, 0.7985875345483733, 0.14748891638590192, 0.010534922598992993, 0.8392821670531084, 0.01548151014460049, 0.9830758941821311, 0.9957283600417126, 0.9994185773670595, 0.9989720109077391, 0.01085768164919503, 0.1887835615779394, 0.4469161865926729, 0.16741844607468467, 0.08230823185680104, 0.07740476272490651, 0.026268584635149268, 0.9237439327818051, 0.07379019581393118, 0.05028195196274693, 0.07623392716932599, 0.8028892329535396, 0.06974593336768121, 0.9959901926045857, 0.9991601849000052, 0.995630856149595, 0.013259538929315093, 0.08097789846117431, 0.0023677748088062663, 0.8550034834599428, 0.048302606099647837, 0.9991729600837399, 0.9988773568294725, 0.9984964879852358, 0.9946750776520843, 0.9933235980654304, 0.40323668709354, 0.10205239480329806, 0.30658960981160305, 0.10875498852978585, 0.02875628921364119, 0.033296755931584536, 0.017080803367501157, 0.9990478954681722, 0.06806983020553756, 0.236499025457701, 0.6937886540179788, 0.0013090351962603375, 0.9997262224428402, 0.09516832405905132, 0.26728125054882496, 0.5036834172274258, 0.03897851570503698, 0.09466210956937551, 0.2275494587970143, 0.2469712119123304, 0.40365751745075895, 0.09500911659114092, 0.026770524564354626, 0.17621268971253318, 0.8229377349422122, 0.9958283937369509, 0.31212834987887433, 0.6871158813305774, 0.9961969542218256, 0.11048772009775949, 0.8892914056648935, 0.9923173619424571, 0.05811572638654021, 0.9390277895088339, 0.9944482723332021, 0.9989047803786351, 0.9978424567017449, 0.9991774272444682, 0.13771723712619016, 0.0447581020660118, 0.024100516497083276, 0.030986378353392786, 0.7279339676670051, 0.03442930928154754, 0.04686715732943039, 0.9451543394768462, 0.997442523183484, 0.7019086875212028, 0.12436051766137832, 0.06218025883068916, 0.03529149825525601, 0.03249058569531506, 0.04369423593507887, 0.20017737718878117, 0.1114713237678703, 0.3226388314689767, 0.07928594155320352, 0.2857433933204563, 0.995493662133429, 0.9990763583503979, 0.9194801259040998, 0.0803136099465271, 0.028989392866121868, 0.012424025514052228, 0.9566499645820216, 0.8804213010769669, 0.11729962204241366, 0.9965382022190998, 0.9982636235458898, 0.9975136663894163, 0.9984062882577898, 0.9979375898891738, 0.018406305039967867, 0.07178458965587468, 0.06074080663189397, 0.846690031838522, 0.998381861118877, 0.06974634638109221, 0.4746153814713348, 0.07825199837878638, 0.3770839052311083, 0.9987540314882045, 0.23536301697187503, 0.05753318192645834, 0.7060890509156251, 0.9991494924547496, 0.28906979916143116, 0.7105379796181743, 0.2595564356243008, 0.014944158414732471, 0.07826019801399373, 0.035787326730017235, 0.6111374256972174, 0.9993182634439381, 0.9971993951538042, 0.9621605315687785, 0.03563557524328809, 0.999040266558168, 0.9934610670411981, 0.23475115819575657, 0.020329757164011596, 0.6992669303772291, 0.04564605853806378, 0.9992528835001253, 0.9956280917914122, 0.0032430882468775643, 0.40403701631768096, 0.42891358992369516, 0.16066120453884183, 0.006219143401503555, 0.9923276727545005, 0.04246940300341249, 0.19753210699261622, 0.00888894481466773, 0.7511158368394232, 0.9234951889592474, 0.0072289251581937174, 0.06867478900284031, 0.012324319998910404, 0.7551446981150557, 0.06386238544889937, 0.10643730908149894, 0.044815709086946924, 0.017366087271191932, 0.995724704381371, 0.3501154647219161, 0.19008264751369497, 0.45983228700004153, 0.9986126936990581, 0.9988241351359364, 0.059692737162872114, 0.14038847443860664, 0.7196291091301805, 0.056376473987157, 0.024319263288577527, 0.9965092324669905, 0.9692726458970313, 0.006412957014441606, 0.005496820298092805, 0.018322734326976016, 0.10052888192244944, 0.3132760506420517, 0.06312278632339849, 0.5213474574117727, 0.37747138241138495, 0.26906264628631593, 0.27216470349471394, 0.06661259689612675, 0.005061251234754729, 0.009795970131783346, 0.6990731190938305, 0.12172701767176447, 0.1772756848909922, 0.0013715720301043885, 0.00017144650376304857, 0.00034289300752609713, 0.003477308403319284, 0.15560955104853794, 0.032165102730703374, 0.8084742037717335, 0.9948717514607883, 0.10386512567257468, 0.2606426738575931, 0.145019232071142, 0.2292871642205894, 0.007838877409250919, 0.007838877409250919, 0.24496491903909123, 0.9977623739312065, 0.996399989002318, 0.15388760053435646, 0.11849345241145448, 0.2046705087106941, 0.04462740415496337, 0.4785904376618486, 0.9962425324950247, 0.9986284545574988, 0.9993320723761323, 0.7111526009488607, 0.07214591603829022, 0.21643774811487065, 0.04082247936621673, 0.5275520410403393, 0.160847546904495, 0.15317152514332602, 0.06559509504998928, 0.051987601927917036, 0.9976276717729492, 0.9990674141867663, 0.9995245927160775, 0.0036327977217680903, 0.3824817029918689, 0.12040129592145671, 0.3256543672013538, 0.008044052098200772, 0.13778682787563257, 0.022056271882163404, 0.9732751747031704, 0.019083826954964123, 0.004490312224697441, 0.0022451561123487205, 0.9976756503098013, 0.24147073090978263, 0.2749593724228182, 0.48294146181956527, 0.026031269792069503, 0.9726228985945968, 0.9992144746665524, 0.30935919573156934, 0.11718151353468535, 0.4865376441960136, 0.08624559396152842, 0.9974810601869329, 0.9918017920436655, 0.9935454243885156, 0.9984654855364155, 0.9965547558101604, 0.9971526346422206, 0.47081545681851533, 0.030498167243304636, 0.49559521770370035, 0.9967471309694637, 0.997258786794576, 0.9978892408685165, 0.9989793764326271, 0.9881436844902834, 0.997406362163084, 0.9982071688750651, 0.09203166718469676, 0.6947169213145693, 0.1979088064237284, 0.014659911586942846, 0.9978382489772147, 0.9305343969637169, 0.0680878827046622, 0.9967765894656055, 0.996686582666465, 0.9960059773512074, 0.005079598097847392, 0.0317474881115462, 0.217152818682976, 0.596006176814094, 0.010159196195694784, 0.14011224753229057, 0.06362322766237274, 0.389404815090185, 0.08278685045224404, 0.03679415575655291, 0.4039691684104872, 0.0160974431434919, 0.007665449115948523, 0.041344711232519454, 0.02953193659465675, 0.09154900344343593, 0.6940005099744336, 0.14273769354084095, 0.9967188571966157, 0.9969219904036163, 0.9954814437379722, 0.6290271635216684, 0.10917694426944845, 0.03989157579076001, 0.21877379986301015, 0.00251946794467958, 0.9972467500613735, 0.34475423273635397, 0.05699258164792862, 0.2071069708098835, 0.11652947497656835, 0.14680678397703043, 0.029259584328177643, 0.09846486204351955, 0.9982882096552846, 0.14158981810166735, 0.0022008780015803217, 0.6786040504872658, 0.07189534805162384, 0.04695206403371353, 0.05869008004214191, 0.9980380797200694, 0.9976804597691296, 0.9954804096649624, 0.919054866540506, 0.08077350377358006, 0.997890367948238, 0.12324639179072149, 0.006138709169652794, 0.030221337450598372, 0.44387589380566356, 0.2139104041425166, 0.18227244149892144, 0.9954546902157023, 0.996714935066579, 0.9973428775362341, 0.9962032811476983, 0.22489220752121913, 0.4288727415861422, 0.1594667964152636, 0.15763243909453586, 0.009660948555832686, 0.00024458097609703, 0.019199606623616857, 0.21548413409649061, 0.24714710890250555, 0.01847006863684205, 0.4274501598812018, 0.04661493513107756, 0.04485588097518784, 0.696853132757494, 0.11228113780897084, 0.18932463790239903, 0.001153877305546736, 0.0003550391709374572, 0.9977843246292087, 0.9956896491839134, 0.05773085146505235, 0.027055951283621548, 0.011890832092801827, 0.7212048160634152, 0.004308272497391966, 0.1509618683086145, 0.02688362038372587, 0.9974840493817738, 0.9970204445167824, 0.9974743078830118, 0.9991926641094535, 0.768710587149689, 0.016111772902531907, 0.017722950192785098, 0.1910140187444616, 0.0062656894620957415, 0.9965180183936656, 0.8962888011880705, 0.10240403723981349, 0.9974218788649561, 0.9959133915758308, 0.9988314524639623, 0.6429739129628854, 0.06117848798714022, 0.2950962361732646, 0.9929717720180065, 0.9985290661461025, 0.9987153146240829, 0.998562374364214, 0.9986108094503195, 0.7967291099688169, 0.13110149904221294, 0.0004600052597972384, 0.07130081526857195, 0.9971238281244101, 0.9964680327956873, 0.8708132232523281, 0.041279274803799566, 0.08740437751934951, 0.0003589502156852136, 0.22795458910749464, 0.02524813486950099, 0.17890106993246416, 0.2034278295199794, 0.3642945174028, 0.9986298385652671, 0.006299960954451468, 0.8504947288509481, 0.14174912147515803, 0.7437103788085543, 0.2557067162005199, 0.7459216166954641, 0.19097236160406927, 0.008727231578680585, 0.04209605820304753, 0.012320797522843178, 0.09356348167212925, 0.9058375295645634, 0.9970298927314594, 0.9978075079214042, 0.17056855175110955, 0.7140751234326113, 0.05926534425250417, 0.05637435184994299, 0.9974650021133724, 0.9909996521975106, 0.9965940456213558, 0.995745750065911, 0.6678976421580733, 0.33114252846492714, 0.997714484952798, 0.999800656572341, 0.9990680382109237, 0.9946089974749458, 0.9899460794453246, 0.0026360428927039927, 0.015816257356223957, 0.06474780355204182, 0.8842276378213956, 0.020429332418455945, 0.012026945697961967, 0.9958158661873758, 0.03328645893011607, 0.8649724113411591, 0.060391146916067735, 0.04089479239985689, 0.988519794540218, 0.9990881360748336, 0.9975070971293689, 0.6910694350797139, 0.08749674640224948, 0.1947383338067765, 0.0015486149805707874, 0.0015486149805707874, 0.023616378453704505, 0.3579465367488159, 0.20880214643680928, 0.34962219868489, 0.08324338063925951, 0.995397348747064, 0.11300617160095178, 0.3810488803807532, 0.25852639959235285, 0.03330708215607, 0.21372044383478248, 0.0015111451673907711, 0.997355810477909, 0.997994173049774, 0.9941168866360542, 0.9975468845021114, 0.9980405031310877, 0.9926923135409874, 0.9917833185804773, 0.9986049227481637, 0.9901610877153592, 0.17380170474302406, 0.07594696341711975, 0.7492460044804314, 0.49891255397741063, 0.245618488111956, 0.20596133638554645, 0.049464834411435586, 0.9992845640774592, 0.9953012277556332, 0.0024586087356632015, 0.8027357521940354, 0.15448258222417116, 0.04015727601583229, 0.9363188928595445, 0.061576097402755346, 0.2406189383116979, 0.12667879399351153, 0.6319785644480771, 0.9973862891591959, 0.9984313878573704, 0.9982423227485006, 0.9978028413984328, 0.9970484568509085, 0.8021506847968611, 0.19678228409810636, 0.046159030364225466, 0.44371180596597015, 0.2730534190559816, 0.11052162199884971, 0.12644973811044863, 0.9955921001437602, 0.9982337495888064, 0.3980380836926984, 0.012808156158428414, 0.06502602357355965, 0.5231639169327298, 0.9990124736954431, 0.9954274974910187, 0.9989432272200606, 0.3674696432206174, 0.19848143419074565, 0.026304768386725325, 0.40652823870393684, 0.14999133144803398, 0.8481328014607012, 0.9930416950232391, 0.9974551457131368, 0.9968908168570033, 0.9970891625241022, 0.03251635336601706, 0.9646518165251728, 0.9921672766341634, 0.998829813102452, 0.7507949824611403, 0.24891585671892252, 0.05574329894811192, 0.032677106279927676, 0.9091924276709289, 0.3920359214926272, 0.606203693419155, 0.14239935030579845, 0.1251967442285879, 0.6986169468022729, 0.03153811114155268, 0.2704933249572868, 0.7263246688667887, 0.34484759819718286, 0.6548621056673776, 0.4792718117820552, 0.51817948653927, 0.999106444152077, 0.994770808910788, 0.008667104157003445, 0.43913327728817453, 0.11074633089504402, 0.23690084695809416, 0.20415845347608114, 0.995000279010996, 0.3619618014400534, 0.08000233886276113, 0.030732605782646045, 0.5273324896990536, 0.9987819211768366, 0.9975786591235009, 0.6784445930228626, 0.1460299537940615, 0.16973504244728302, 0.004790575407271248, 0.0004955767662694395, 8.259612771157324e-05, 0.000330384510846293, 0.16784590147474593, 0.8319318594835233, 0.9967519119832121, 0.5026357825889121, 0.4882431280213882, 0.008857018195399332, 0.4329369860153814, 0.4819487202812736, 0.08413681048978167, 0.9967290949318588, 0.9972442484657214, 0.993935655742369, 0.9995769867619493, 0.9976961994012254, 0.4177114076594468, 0.5818416267790723, 0.19337495450515663, 0.8049025884103528, 0.9997002341861151, 0.11816775025644943, 0.6696172514532135, 0.0987505142988169, 0.11317474672448678, 0.0918876859156629, 0.5764695121375668, 0.3165782213761023, 0.014628885319906531, 0.147680467308403, 0.3026569031891121, 0.36530159886167146, 0.1363591367651694, 0.028680704042858506, 0.01912046936190567, 0.9981548968398113, 0.998719882220662, 0.9981502794785121, 0.10885030138861487, 0.822515435304947, 0.02373427624263031, 0.01964215964907336, 0.0245526995613417, 0.9991914056422242, 0.9925380878805854, 0.9964382080431783, 0.9979532452672294, 0.9985062065605195, 0.9979666956010839, 0.9982779862792376, 0.15378561769640728, 0.13393066705485235, 0.2971022614181765, 0.2606413520582302, 0.07508781333533501, 0.06281384384782833, 0.01624495961581767, 0.03820217317940585, 0.10584249157353032, 0.07887625168218501, 0.7559535916207133, 0.02134827324731503, 0.07315317787209354, 0.9255467287295314, 0.9987939363005854, 0.7239068546788204, 0.07341240449957719, 0.1793684522309257, 0.02251566014291156, 0.0007568289123667752, 0.9973750146033545, 0.020722445812507578, 0.6006369521110151, 0.03328150388069399, 0.0885413593807142, 0.2405059620057698, 0.016326775488642333, 0.7420231127218925, 0.1020830613655858, 0.1366595821507036, 0.014818508907907616, 0.0038418356427908635, 0.3203338035158919, 0.025165724652129542, 0.5442381948133436, 0.02563611202880486, 0.08443453411321968, 0.35922343687760533, 0.09939902050023827, 0.41562660199867074, 0.04207121332800783, 0.008321778460485065, 0.07489600614436559, 0.9976029664439064, 0.4803933447502769, 0.3238416312257749, 0.001695505922648036, 0.19328767518187612, 0.9950281102295044, 0.2606179810906953, 0.672013394476474, 0.015401995772078415, 0.05147509113299891, 0.9973485349125665, 0.5216927462128792, 0.47748149653382166, 0.9991735789913971, 0.9955282810877705, 0.9975799870921958, 0.8361866111422454, 0.16276914949715462, 0.14700009196652317, 0.8394747950132742, 0.013493749749360958, 0.00933850789864883, 0.8933839223040714, 0.09649791495270457, 0.18289539782745745, 0.47376942475689454, 0.2124400390149698, 0.12204750585793794, 0.008089604134676001, 0.00105516575669687, 0.9958641804473453, 0.9971164583641533, 0.9977970166375308, 0.16303233924541707, 0.36350173416941145, 0.2886276228122569, 0.06521293569816683, 0.10325381485543082, 0.001509558696716825, 0.014491763488481519, 0.26675980731759175, 0.732306971049735, 0.8543528549981335, 0.1445410310679924, 0.9898120910365551, 0.9985910658332092, 0.9948017283206522, 0.12669068145516196, 0.39890444296017213, 0.06163330449170041, 0.2893341238638158, 0.035382082208198384, 0.021115113575860326, 0.06734009194463564, 0.5459546600351252, 0.10386006158917364, 0.023437447526760424, 0.23299580188367716, 0.031249930035680565, 0.03354771900889237, 0.0284925832678264, 0.2264457759036428, 0.40512745300840686, 0.17243649227391797, 0.1286045468870535, 0.06464922815635153, 0.002775637702598277, 0.32666321800971904, 0.3097438751519563, 0.3466466938259743, 0.004662811023792891, 0.012123308661861515, 0.9956430045180317, 0.9969970969348543, 0.8273359811943787, 0.1725951269750458, 0.9965543131708108, 0.9961398259815027, 0.995732183579628, 0.8419578073291839, 0.11653707848225829, 0.04110416334064149, 0.15732176604331682, 0.45230007737453587, 0.053377027764696786, 0.33599434319251237, 0.000561863450154703, 0.9916092458664509, 0.9996283527508684, 0.9950069593334601], \"Term\": [\"_\", \"__\", \"___\", \"_n\", \"_o\", \"advance\", \"advice\", \"advice\", \"agree\", \"agree\", \"agree\", \"algorithm\", \"also\", \"also\", \"also\", \"also\", \"also\", \"also\", \"also\", \"american\", \"american\", \"announcement\", \"anyone\", \"anyone\", \"anyone\", \"anyone\", \"apple\", \"application\", \"application\", \"appreciated\", \"argic\", \"argument\", \"armenia\", \"armenian\", \"armenians\", \"arms\", \"article\", \"article\", \"article\", \"article\", \"article\", \"article\", \"atheism\", \"atheist\", \"atheists\", \"authority\", \"available\", \"available\", \"available\", \"ax\", \"b\", \"b\", \"b\", \"b\", \"b\", \"b\", \"back\", \"back\", \"back\", \"back\", \"back\", \"back\", \"baker\", \"baseball\", \"basil\", \"bay\", \"bb\", \"bd\", \"bd\", \"belief\", \"believe\", \"believe\", \"believe\", \"belt\", \"better\", \"better\", \"better\", \"better\", \"better\", \"bf\", \"bhj\", \"bible\", \"bike\", \"billion\", \"bit\", \"bit\", \"bit\", \"bit\", \"bj\", \"bn\", \"board\", \"bombers\", \"bos\", \"boston\", \"brian\", \"c\", \"c\", \"c\", \"c\", \"c\", \"c_\", \"cable\", \"cambridge\", \"cambridge\", \"cambridge\", \"cambridge\", \"car\", \"card\", \"cards\", \"cars\", \"cd\", \"cdc\", \"center\", \"center\", \"center\", \"center\", \"chicago\", \"chip\", \"chip\", \"christ\", \"christian\", \"christianity\", \"christians\", \"church\", \"chz\", \"citizens\", \"cj\", \"ck\", \"claim\", \"clinton\", \"clinton\", \"clipper\", \"closed\", \"closed\", \"closed\", \"closed\", \"cluster\", \"code\", \"code\", \"color\", \"com\", \"com\", \"come\", \"come\", \"come\", \"commercial\", \"comp\", \"composer\", \"computer\", \"computer\", \"computer\", \"contains\", \"control\", \"control\", \"control\", \"cooler\", \"copies\", \"could\", \"could\", \"could\", \"could\", \"could\", \"country\", \"country\", \"cp\", \"cpu\", \"crime\", \"css\", \"css\", \"cup\", \"cx\", \"dangerous\", \"dangerous\", \"data\", \"data\", \"data\", \"data\", \"dealer\", \"denver\", \"des\", \"detroit\", \"development\", \"development\", \"di\", \"die\", \"died\", \"directory\", \"disk\", \"distribution\", \"distribution\", \"distribution\", \"distribution\", \"distribution\", \"distribution\", \"distribution\", \"division\", \"division\", \"division\", \"dn\", \"dod\", \"dos\", \"drive\", \"drive\", \"drives\", \"drug\", \"drugs\", \"drum\", \"dy\", \"e\", \"e\", \"e\", \"e\", \"e\", \"e\", \"e\", \"e\", \"echo\", \"edu\", \"edu\", \"edu\", \"education\", \"ee\", \"eeg\", \"ei\", \"el\", \"el\", \"em\", \"em\", \"encrypted\", \"encryption\", \"enforcement\", \"engine\", \"entries\", \"entry\", \"eq\", \"escrow\", \"ethernet\", \"eu\", \"even\", \"even\", \"even\", \"even\", \"even\", \"even\", \"evidence\", \"evil\", \"existence\", \"explaining\", \"ey\", \"f\", \"f\", \"f\", \"f\", \"f\", \"f\", \"f\", \"fact\", \"fact\", \"fact\", \"fact\", \"factory\", \"faith\", \"family\", \"fan\", \"faq\", \"faq\", \"father\", \"father\", \"father\", \"federal\", \"federal\", \"fij\", \"file\", \"files\", \"first\", \"first\", \"first\", \"first\", \"first\", \"first\", \"first\", \"food\", \"food\", \"force\", \"force\", \"force\", \"force\", \"format\", \"ftp\", \"fuel\", \"g\", \"g\", \"g\", \"g\", \"g\", \"game\", \"games\", \"gary\", \"ge\", \"genocide\", \"get\", \"get\", \"get\", \"get\", \"get\", \"get\", \"get\", \"gm\", \"go\", \"go\", \"go\", \"go\", \"god\", \"going\", \"going\", \"going\", \"going\", \"going\", \"good\", \"good\", \"good\", \"good\", \"good\", \"government\", \"government\", \"gp\", \"graphics\", \"graphics\", \"greece\", \"greek\", \"greek\", \"greeks\", \"ground\", \"ground\", \"guday\", \"gun\", \"guns\", \"gv\", \"h\", \"h\", \"h\", \"h\", \"h\", \"h\", \"ha\", \"ha\", \"health\", \"help\", \"help\", \"help\", \"help\", \"help\", \"help\", \"high\", \"high\", \"high\", \"high\", \"high\", \"hit\", \"hockey\", \"host\", \"host\", \"hot\", \"hot\", \"hot\", \"human\", \"human\", \"ibm\", \"ide\", \"image\", \"images\", \"imaging\", \"include\", \"include\", \"include\", \"include\", \"indeed\", \"information\", \"information\", \"information\", \"information\", \"installed\", \"internal\", \"internal\", \"internal\", \"israel\", \"israeli\", \"israeli\", \"j\", \"j\", \"j\", \"j\", \"j\", \"jesus\", \"jewish\", \"jews\", \"jews\", \"jim\", \"jumpers\", \"k\", \"k\", \"k\", \"k\", \"key\", \"kids\", \"kids\", \"know\", \"know\", \"know\", \"know\", \"kr\", \"l\", \"l\", \"l\", \"l\", \"la\", \"la\", \"la\", \"last\", \"last\", \"last\", \"last\", \"last\", \"last\", \"launch\", \"law\", \"law\", \"law\", \"league\", \"lebanese\", \"left\", \"left\", \"left\", \"left\", \"left\", \"lemon\", \"life\", \"life\", \"life\", \"life\", \"light\", \"light\", \"light\", \"light\", \"like\", \"like\", \"like\", \"like\", \"like\", \"like\", \"lines\", \"lines\", \"lines\", \"lines\", \"lines\", \"lines\", \"list\", \"list\", \"list\", \"list\", \"lk\", \"longer\", \"longer\", \"longer\", \"longer\", \"longer\", \"longer\", \"longer\", \"lots\", \"louis\", \"low\", \"low\", \"low\", \"low\", \"low\", \"lq\", \"m_\", \"mac\", \"mail\", \"mail\", \"mail\", \"many\", \"many\", \"many\", \"many\", \"many\", \"many\", \"mars\", \"master\", \"max\", \"may\", \"may\", \"may\", \"may\", \"may\", \"may\", \"may\", \"mb\", \"mb\", \"mb\", \"mb\", \"mcgill\", \"md\", \"md\", \"md\", \"members\", \"members\", \"memory\", \"message\", \"message\", \"message\", \"message\", \"messages\", \"mf\", \"mh\", \"military\", \"mit\", \"mk\", \"model\", \"model\", \"model\", \"monitor\", \"moon\", \"motherboard\", \"motif\", \"mountain\", \"mounting\", \"mouse\", \"mr\", \"mr\", \"mr\", \"mr\", \"msg\", \"mt\", \"mt\", \"mv\", \"mw\", \"mx\", \"n\", \"n\", \"n\", \"n\", \"n\", \"n\", \"name\", \"name\", \"name\", \"name\", \"name\", \"name\", \"name\", \"national\", \"national\", \"national\", \"national\", \"national\", \"natural\", \"nature\", \"nec\", \"need\", \"need\", \"need\", \"need\", \"need\", \"nei\", \"new\", \"new\", \"new\", \"new\", \"new\", \"new\", \"new\", \"newsreader\", \"next\", \"next\", \"next\", \"next\", \"next\", \"next\", \"nhl\", \"night\", \"nj\", \"nntp\", \"nntp\", \"nsa\", \"number\", \"number\", \"number\", \"number\", \"number\", \"number\", \"nye\", \"offer\", \"ohio\", \"oil\", \"one\", \"one\", \"one\", \"one\", \"one\", \"one\", \"one\", \"order\", \"order\", \"order\", \"order\", \"order\", \"order\", \"organization\", \"organization\", \"organization\", \"organization\", \"organization\", \"organizations\", \"ot\", \"p\", \"p\", \"p\", \"p\", \"p\", \"p\", \"p\", \"pain\", \"pat\", \"patient\", \"pc\", \"people\", \"people\", \"people\", \"people\", \"people\", \"pgp\", \"physical\", \"physical\", \"pin\", \"pit\", \"pittsburgh\", \"pl\", \"pl\", \"pl\", \"planes\", \"play\", \"player\", \"players\", \"playing\", \"please\", \"please\", \"please\", \"please\", \"police\", \"policy\", \"posting\", \"posting\", \"posting\", \"posting\", \"power\", \"power\", \"power\", \"power\", \"power\", \"president\", \"press\", \"press\", \"press\", \"private\", \"private\", \"problem\", \"problem\", \"problem\", \"problem\", \"problem\", \"program\", \"program\", \"proof\", \"prove\", \"provide\", \"provide\", \"provide\", \"provide\", \"provided\", \"pt\", \"pts\", \"pub\", \"public\", \"public\", \"published\", \"q\", \"ql\", \"qs\", \"qy\", \"r\", \"r\", \"r\", \"r\", \"r\", \"r\", \"ra\", \"reason\", \"reason\", \"reason\", \"reason\", \"regional\", \"religion\", \"religious\", \"reply\", \"reply\", \"reply\", \"reply\", \"reply\", \"reply\", \"research\", \"research\", \"research\", \"research\", \"resistance\", \"right\", \"right\", \"right\", \"right\", \"right\", \"rights\", \"rights\", \"ripem\", \"river\", \"rl\", \"rlk\", \"rm\", \"rockets\", \"rsa\", \"rz\", \"safety\", \"safety\", \"safety\", \"said\", \"said\", \"said\", \"said\", \"sale\", \"saturn\", \"say\", \"say\", \"say\", \"say\", \"school\", \"school\", \"science\", \"science\", \"science\", \"scientific\", \"scsi\", \"season\", \"secret\", \"secure\", \"security\", \"security\", \"see\", \"see\", \"see\", \"see\", \"see\", \"seller\", \"selling\", \"send\", \"send\", \"send\", \"send\", \"senses\", \"serdar\", \"server\", \"set\", \"set\", \"set\", \"set\", \"sg\", \"sg\", \"shai\", \"shall\", \"shuttle\", \"sin\", \"site\", \"site\", \"skies\", \"slave\", \"software\", \"software\", \"soldiers\", \"soldiers\", \"soldiers\", \"son\", \"son\", \"source\", \"source\", \"source\", \"source\", \"soviet\", \"soviet\", \"space\", \"space\", \"speed\", \"speed\", \"sphere\", \"ss\", \"st\", \"st\", \"st\", \"st\", \"st\", \"standards\", \"state\", \"state\", \"state\", \"state\", \"states\", \"stephanopoulos\", \"subject\", \"subject\", \"subject\", \"subject\", \"subject\", \"subject\", \"subject\", \"sun\", \"sun\", \"sys\", \"system\", \"system\", \"system\", \"systems\", \"systems\", \"systems\", \"tape\", \"tax\", \"te\", \"team\", \"teams\", \"technology\", \"technology\", \"test\", \"test\", \"thanks\", \"things\", \"things\", \"things\", \"things\", \"think\", \"think\", \"think\", \"think\", \"time\", \"time\", \"time\", \"time\", \"time\", \"time\", \"tin\", \"toronto\", \"trial\", \"true\", \"true\", \"true\", \"true\", \"true\", \"truth\", \"ts\", \"tt\", \"turkey\", \"turkish\", \"turks\", \"tv\", \"two\", \"two\", \"two\", \"two\", \"two\", \"two\", \"two\", \"u\", \"u\", \"u\", \"u\", \"u\", \"um\", \"um\", \"united\", \"university\", \"university\", \"university\", \"university\", \"university\", \"update\", \"us\", \"us\", \"us\", \"us\", \"us\", \"us\", \"usa\", \"usa\", \"usa\", \"usa\", \"usa\", \"use\", \"use\", \"use\", \"use\", \"use\", \"used\", \"used\", \"used\", \"used\", \"used\", \"used\", \"users\", \"using\", \"using\", \"using\", \"using\", \"uy\", \"v\", \"v\", \"v\", \"v\", \"vehicle\", \"version\", \"version\", \"video\", \"village\", \"villages\", \"vs\", \"vs\", \"w\", \"w\", \"w\", \"war\", \"war\", \"war\", \"way\", \"way\", \"way\", \"way\", \"way\", \"way\", \"weapon\", \"weapons\", \"weekly\", \"well\", \"well\", \"well\", \"well\", \"well\", \"well\", \"well\", \"window\", \"window\", \"windows\", \"windows\", \"winged\", \"wings\", \"wire\", \"without\", \"without\", \"without\", \"without\", \"without\", \"without\", \"without\", \"work\", \"work\", \"work\", \"work\", \"work\", \"work\", \"work\", \"would\", \"would\", \"would\", \"would\", \"would\", \"would\", \"writes\", \"writes\", \"writes\", \"writes\", \"writes\", \"wt\", \"ww\", \"x\", \"x\", \"xr\", \"xx\", \"y_\", \"year\", \"year\", \"year\", \"years\", \"years\", \"years\", \"years\", \"years\", \"youth\", \"z\", \"zei\"]}, \"R\": 30, \"lambda.step\": 0.01, \"plot.opts\": {\"xlab\": \"PC1\", \"ylab\": \"PC2\"}, \"topic.order\": [8, 6, 3, 5, 2, 9, 1, 7, 4, 10]};\n",
       "\n",
       "function LDAvis_load_lib(url, callback){\n",
       "  var s = document.createElement('script');\n",
       "  s.src = url;\n",
       "  s.async = true;\n",
       "  s.onreadystatechange = s.onload = callback;\n",
       "  s.onerror = function(){console.warn(\"failed to load library \" + url);};\n",
       "  document.getElementsByTagName(\"head\")[0].appendChild(s);\n",
       "}\n",
       "\n",
       "if(typeof(LDAvis) !== \"undefined\"){\n",
       "   // already loaded: just create the visualization\n",
       "   !function(LDAvis){\n",
       "       new LDAvis(\"#\" + \"ldavis_el1256022994687416805111418696\", ldavis_el1256022994687416805111418696_data);\n",
       "   }(LDAvis);\n",
       "}else if(typeof define === \"function\" && define.amd){\n",
       "   // require.js is available: use it to load d3/LDAvis\n",
       "   require.config({paths: {d3: \"https://d3js.org/d3.v5\"}});\n",
       "   require([\"d3\"], function(d3){\n",
       "      window.d3 = d3;\n",
       "      LDAvis_load_lib(\"https://cdn.jsdelivr.net/gh/bmabey/pyLDAvis@3.4.0/pyLDAvis/js/ldavis.v3.0.0.js\", function(){\n",
       "        new LDAvis(\"#\" + \"ldavis_el1256022994687416805111418696\", ldavis_el1256022994687416805111418696_data);\n",
       "      });\n",
       "    });\n",
       "}else{\n",
       "    // require.js not available: dynamically load d3 & LDAvis\n",
       "    LDAvis_load_lib(\"https://d3js.org/d3.v5.js\", function(){\n",
       "         LDAvis_load_lib(\"https://cdn.jsdelivr.net/gh/bmabey/pyLDAvis@3.4.0/pyLDAvis/js/ldavis.v3.0.0.js\", function(){\n",
       "                 new LDAvis(\"#\" + \"ldavis_el1256022994687416805111418696\", ldavis_el1256022994687416805111418696_data);\n",
       "            })\n",
       "         });\n",
       "}\n",
       "</script>"
      ],
      "text/plain": [
       "<IPython.core.display.HTML object>"
      ]
     },
     "execution_count": 23,
     "metadata": {},
     "output_type": "execute_result"
    }
   ],
   "source": [
    "import pyLDAvis\n",
    "import pyLDAvis.gensim_models\n",
    "pyLDAvis.enable_notebook()\n",
    "\n",
    "vis = pyLDAvis.gensim_models.prepare(lda_model, corpus, dictionary)\n",
    "pyLDAvis.display(vis)\n"
   ]
  },
  {
   "cell_type": "code",
   "execution_count": null,
   "metadata": {
    "id": "EoT4V0z25Mp-"
   },
   "outputs": [],
   "source": []
  }
 ],
 "metadata": {
  "accelerator": "GPU",
  "colab": {
   "gpuType": "T4",
   "provenance": []
  },
  "kernelspec": {
   "display_name": "Python 3 (ipykernel)",
   "language": "python",
   "name": "python3"
  },
  "language_info": {
   "codemirror_mode": {
    "name": "ipython",
    "version": 3
   },
   "file_extension": ".py",
   "mimetype": "text/x-python",
   "name": "python",
   "nbconvert_exporter": "python",
   "pygments_lexer": "ipython3",
   "version": "3.11.5"
  }
 },
 "nbformat": 4,
 "nbformat_minor": 1
}
