{
 "cells": [
  {
   "cell_type": "markdown",
   "metadata": {},
   "source": [
    "# Task 1: Create a Prescription Parser using CRF\n",
    "This task tests your ability to build a Doctor Prescription Parser with the help of CRF model\n",
    "\n",
    "Your job is to build a Prescription Parser that takes a prescription (sentence) as an input and find / label the words in that sentence with one of the already pre-defined labels\n",
    "\n",
    "### Problem: SEQUENCE PREDICTION - Label words in a sentence\n",
    "#### Input : Doctor Prescription in the form of a sentence split into tokens\n",
    "- Ex: Take 2 tablets once a day for 10 days\n",
    "\n",
    "#### Output : FHIR Labels\n",
    "- ('Take', 'Method')\n",
    "- ('2', 'Qty') \n",
    "- ('tablets', 'Form')\n",
    "- ('once', 'Frequency')\n",
    "- ('a', 'Period') \n",
    "- ('day', 'PeriodUnit')\n",
    "- ('for', 'FOR')\n",
    "- ('10', 'Duration')\n",
    "- ('days', 'DurationUnit') "
   ]
  },
  {
   "cell_type": "markdown",
   "metadata": {},
   "source": [
    "### Major Steps\n",
    "- Install necessary library\n",
    "- Import the libraries\n",
    "- Create training data with labels\n",
    "    - Split the sentence into tokens\n",
    "    - Compute POS tags\n",
    "    - Create triples\n",
    "- Extract features\n",
    "- Split the data into training and testing set\n",
    "- Create CRF model\n",
    "- Save the CRF model\n",
    "- Load the CRF model\n",
    "- Predict on test data\n",
    "- Accuracy"
   ]
  },
  {
   "cell_type": "markdown",
   "metadata": {},
   "source": [
    "#### Install necesaary library"
   ]
  },
  {
   "cell_type": "code",
   "execution_count": 1,
   "metadata": {},
   "outputs": [
    {
     "name": "stderr",
     "output_type": "stream",
     "text": [
      "[nltk_data] Downloading package averaged_perceptron_tagger to\n",
      "[nltk_data]     C:\\Users\\vidit\\AppData\\Roaming\\nltk_data...\n",
      "[nltk_data]   Unzipping taggers\\averaged_perceptron_tagger.zip.\n"
     ]
    },
    {
     "name": "stdout",
     "output_type": "stream",
     "text": [
      "Collecting sklearn-crfsuite\n",
      "  Obtaining dependency information for sklearn-crfsuite from https://files.pythonhosted.org/packages/25/74/5b7befa513482e6dee1f3dd68171a6c9dfc14c0eaa00f885ffeba54fe9b0/sklearn_crfsuite-0.3.6-py2.py3-none-any.whl.metadata\n",
      "  Downloading sklearn_crfsuite-0.3.6-py2.py3-none-any.whl.metadata (3.8 kB)\n",
      "Collecting python-crfsuite>=0.8.3 (from sklearn-crfsuite)\n",
      "  Obtaining dependency information for python-crfsuite>=0.8.3 from https://files.pythonhosted.org/packages/78/cd/8fe34205c01101b0e8dc1a18c92b3b932ab7b246daf0399072ddb551e109/python_crfsuite-0.9.10-cp311-cp311-win_amd64.whl.metadata\n",
      "  Downloading python_crfsuite-0.9.10-cp311-cp311-win_amd64.whl.metadata (4.3 kB)\n",
      "Requirement already satisfied: six in c:\\users\\vidit\\anaconda3\\lib\\site-packages (from sklearn-crfsuite) (1.16.0)\n",
      "Requirement already satisfied: tabulate in c:\\users\\vidit\\anaconda3\\lib\\site-packages (from sklearn-crfsuite) (0.8.10)\n",
      "Requirement already satisfied: tqdm>=2.0 in c:\\users\\vidit\\anaconda3\\lib\\site-packages (from sklearn-crfsuite) (4.65.0)\n",
      "Requirement already satisfied: colorama in c:\\users\\vidit\\anaconda3\\lib\\site-packages (from tqdm>=2.0->sklearn-crfsuite) (0.4.6)\n",
      "Downloading sklearn_crfsuite-0.3.6-py2.py3-none-any.whl (12 kB)\n",
      "Downloading python_crfsuite-0.9.10-cp311-cp311-win_amd64.whl (155 kB)\n",
      "   ---------------------------------------- 0.0/155.8 kB ? eta -:--:--\n",
      "   ------- ------------------------------- 30.7/155.8 kB 660.6 kB/s eta 0:00:01\n",
      "   ----------------- --------------------- 71.7/155.8 kB 787.7 kB/s eta 0:00:01\n",
      "   ---------------------------------------- 155.8/155.8 kB 1.5 MB/s eta 0:00:00\n",
      "Installing collected packages: python-crfsuite, sklearn-crfsuite\n",
      "Successfully installed python-crfsuite-0.9.10 sklearn-crfsuite-0.3.6\n"
     ]
    }
   ],
   "source": [
    "import nltk\n",
    "nltk.download('averaged_perceptron_tagger')\n",
    "!pip install sklearn-crfsuite"
   ]
  },
  {
   "cell_type": "markdown",
   "metadata": {},
   "source": [
    "#### Import the necessary libraries"
   ]
  },
  {
   "cell_type": "code",
   "execution_count": 4,
   "metadata": {},
   "outputs": [],
   "source": [
    "from sklearn.model_selection import train_test_split\n",
    "import sklearn_crfsuite\n",
    "from sklearn_crfsuite import metrics\n",
    "import joblib"
   ]
  },
  {
   "cell_type": "markdown",
   "metadata": {},
   "source": [
    "### Input data (GIVEN)\n",
    "#### Creating the inputs to the ML model in the following form:\n",
    "- sigs --> ['take 3 tabs for 10 days']       INPUT SIG\n",
    "- input_sigs --> [['take', '3', 'tabs', 'for', '10', 'days']]      TOKENS\n",
    "- output_labels --> [['Method','Qty', 'Form', 'FOR', 'Duration', 'DurationUnit']]       LABELS"
   ]
  },
  {
   "cell_type": "code",
   "execution_count": 72,
   "metadata": {},
   "outputs": [],
   "source": [
    "sigs = [\"for 5 to 6 days\", \"inject 2 units\", \"x 2 weeks\", \"x 3 days\", \"every day\", \"every 2 weeks\", \"every 3 days\", \"every 1 to 2 months\", \"every 2 to 6 weeks\", \"every 4 to 6 days\", \"take two to four tabs\", \"take 2 to 4 tabs\", \"take 3 tabs orally bid for 10 days at bedtime\", \"swallow three capsules tid orally\", \"take 2 capsules po every 6 hours\", \"take 2 tabs po for 10 days\", \"take 100 caps by mouth tid for 10 weeks\", \"take 2 tabs after an hour\", \"2 tabs every 4-6 hours\", \"every 4 to 6 hours\", \"q46h\", \"q4-6h\", \"2 hours before breakfast\", \"before 30 mins at bedtime\", \"30 mins before bed\", \"and 100 tabs twice a month\", \"100 tabs twice a month\", \"100 tabs once a month\", \"100 tabs thrice a month\", \"3 tabs daily for 3 days then 1 tab per day at bed\", \"30 tabs 10 days tid\", \"take 30 tabs for 10 days three times a day\", \"qid q6h\", \"bid\", \"qid\", \"30 tabs before dinner and bedtime\", \"30 tabs before dinner & bedtime\", \"take 3 tabs at bedtime\", \"30 tabs thrice daily for 10 days \", \"30 tabs for 10 days three times a day\", \"Take 2 tablets a day\", \"qid for 10 days\", \"every day\", \"take 2 caps at bedtime\", \"apply 3 drops before bedtime\", \"take three capsules daily\", \"swallow 3 pills once a day\", \"swallow three pills thrice a day\", \"apply daily\", \"apply three drops before bedtime\", \"every 6 hours\", \"before food\", \"after food\", \"for 20 days\", \"for twenty days\", \"with meals\"]\n",
    "input_sigs = [['for', '5', 'to', '6', 'days'], ['inject', '2', 'units'], ['x', '2', 'weeks'], ['x', '3', 'days'], ['every', 'day'], ['every', '2', 'weeks'], ['every', '3', 'days'], ['every', '1', 'to', '2', 'months'], ['every', '2', 'to', '6', 'weeks'], ['every', '4', 'to', '6', 'days'], ['take', 'two', 'to', 'four', 'tabs'], ['take', '2', 'to', '4', 'tabs'], ['take', '3', 'tabs', 'orally', 'bid', 'for', '10', 'days', 'at', 'bedtime'], ['swallow', 'three', 'capsules', 'tid', 'orally'], ['take', '2', 'capsules', 'po', 'every', '6', 'hours'], ['take', '2', 'tabs', 'po', 'for', '10', 'days'], ['take', '100', 'caps', 'by', 'mouth', 'tid', 'for', '10', 'weeks'], ['take', '2', 'tabs', 'after', 'an', 'hour'], ['2', 'tabs', 'every', '4-6', 'hours'], ['every', '4', 'to', '6', 'hours'], ['q46h'], ['q4-6h'], ['2', 'hours', 'before', 'breakfast'], ['before', '30', 'mins', 'at', 'bedtime'], ['30', 'mins', 'before', 'bed'], ['and', '100', 'tabs', 'twice', 'a', 'month'], ['100', 'tabs', 'twice', 'a', 'month'], ['100', 'tabs', 'once', 'a', 'month'], ['100', 'tabs', 'thrice', 'a', 'month'], ['3', 'tabs', 'daily', 'for', '3', 'days', 'then', '1', 'tab', 'per', 'day', 'at', 'bed'], ['30', 'tabs', '10', 'days', 'tid'], ['take', '30', 'tabs', 'for', '10', 'days', 'three', 'times', 'a', 'day'], ['qid', 'q6h'], ['bid'], ['qid'], ['30', 'tabs', 'before', 'dinner', 'and', 'bedtime'], ['30', 'tabs', 'before', 'dinner', '&', 'bedtime'], ['take', '3', 'tabs', 'at', 'bedtime'], ['30', 'tabs', 'thrice', 'daily', 'for', '10', 'days'], ['30', 'tabs', 'for', '10', 'days', 'three', 'times', 'a', 'day'], ['take', '2', 'tablets', 'a', 'day'], ['qid', 'for', '10', 'days'], ['every', 'day'], ['take', '2', 'caps', 'at', 'bedtime'], ['apply', '3', 'drops', 'before', 'bedtime'], ['take', 'three', 'capsules', 'daily'], ['swallow', '3', 'pills', 'once', 'a', 'day'], ['swallow', 'three', 'pills', 'thrice', 'a', 'day'], ['apply', 'daily'], ['apply', 'three', 'drops', 'before', 'bedtime'], ['every', '6', 'hours'], ['before', 'food'], ['after', 'food'], ['for', '20', 'days'], ['for', 'twenty', 'days'], ['with', 'meals']]\n",
    "output_labels = [['FOR', 'Duration', 'TO', 'DurationMax', 'DurationUnit'], ['Method', 'Qty', 'Form'], ['FOR', 'Duration', 'DurationUnit'], ['FOR', 'Duration', 'DurationUnit'], ['EVERY', 'Period'], ['EVERY', 'Period', 'PeriodUnit'], ['EVERY', 'Period', 'PeriodUnit'], ['EVERY', 'Period', 'TO', 'PeriodMax', 'PeriodUnit'], ['EVERY', 'Period', 'TO', 'PeriodMax', 'PeriodUnit'], ['EVERY', 'Period', 'TO', 'PeriodMax', 'PeriodUnit'], ['Method', 'Qty', 'TO', 'Qty', 'Form'], ['Method', 'Qty', 'TO', 'Qty', 'Form'], ['Method', 'Qty', 'Form', 'PO', 'BID', 'FOR', 'Duration', 'DurationUnit', 'AT', 'WHEN'], ['Method', 'Qty', 'Form', 'TID', 'PO'], ['Method', 'Qty', 'Form', 'PO', 'EVERY', 'Period', 'PeriodUnit'], ['Method', 'Qty', 'Form', 'PO', 'FOR', 'Duration', 'DurationUnit'], ['Method', 'Qty', 'Form', 'BY', 'PO', 'TID', 'FOR', 'Duration', 'DurationUnit'], ['Method', 'Qty', 'Form', 'AFTER', 'Period', 'PeriodUnit'], ['Qty', 'Form', 'EVERY', 'Period', 'PeriodUnit'], ['EVERY', 'Period', 'TO', 'PeriodMax', 'PeriodUnit'], ['Q46H'], ['Q4-6H'], ['Qty', 'PeriodUnit', 'BEFORE', 'WHEN'], ['BEFORE', 'Qty', 'M', 'AT', 'WHEN'], ['Qty', 'M', 'BEFORE', 'WHEN'], ['AND', 'Qty', 'Form', 'Frequency', 'Period', 'PeriodUnit'], ['Qty', 'Form', 'Frequency', 'Period', 'PeriodUnit'], ['Qty', 'Form', 'Frequency', 'Period', 'PeriodUnit'], ['Qty', 'Form', 'Frequency', 'Period', 'PeriodUnit'], ['Qty', 'Form', 'Frequency', 'FOR', 'Duration', 'DurationUnit', 'THEN', 'Qty', 'Form', 'Frequency', 'PeriodUnit', 'AT', 'WHEN'], ['Qty', 'Form', 'Duration', 'DurationUnit', 'TID'], ['Method', 'Qty', 'Form', 'FOR', 'Duration', 'DurationUnit', 'Qty', 'TIMES', 'Period', 'PeriodUnit'], ['QID', 'Q6H'], ['BID'], ['QID'],['Qty', 'Form', 'BEFORE', 'WHEN', 'AND', 'WHEN'], ['Qty', 'Form', 'BEFORE', 'WHEN', 'AND', 'WHEN'], ['Method', 'Qty', 'Form', 'AT', 'WHEN'], ['Qty', 'Form', 'Frequency', 'DAILY', 'FOR', 'Duration', 'DurationUnit'], ['Qty', 'Form', 'FOR', 'Duration', 'DurationUnit', 'Frequency', 'TIMES', 'Period', 'PeriodUnit'], ['Method', 'Qty', 'Form', 'Period', 'PeriodUnit'], ['QID', 'FOR', 'Duration', 'DurationUnit'], ['EVERY', 'PeriodUnit'], ['Method', 'Qty', 'Form', 'AT', 'WHEN'], ['Method', 'Qty', 'Form', 'BEFORE', 'WHEN'], ['Method', 'Qty', 'Form', 'DAILY'], ['Method', 'Qty', 'Form', 'Frequency', 'Period', 'PeriodUnit'], ['Method', 'Qty', 'Form', 'Frequency', 'Period', 'PeriodUnit'], ['Method', 'DAILY'], ['Method', 'Qty', 'Form', 'BEFORE', 'WHEN'], ['EVERY', 'Period', 'PeriodUnit'], ['BEFORE', 'FOOD'], ['AFTER', 'FOOD'], ['FOR', 'Duration', 'DurationUnit'], ['FOR', 'Duration', 'DurationUnit'], ['WITH', 'FOOD']]"
   ]
  },
  {
   "cell_type": "code",
   "execution_count": 74,
   "metadata": {},
   "outputs": [
    {
     "data": {
      "text/plain": [
       "(56, 56, 56)"
      ]
     },
     "execution_count": 74,
     "metadata": {},
     "output_type": "execute_result"
    }
   ],
   "source": [
    "len(sigs), len(input_sigs) , len(output_labels)"
   ]
  },
  {
   "cell_type": "markdown",
   "metadata": {},
   "source": [
    "### Creating a Tuples Maker method\n",
    "Create the tuples as given below by writing a function **tuples_maker(input_sigs, output_labels)** and returns **output** as given below\n",
    "\n",
    "Input(s): \n",
    "- input_sigs\n",
    "- output_lables\n",
    "\n",
    "Output:\n",
    "\n",
    "[[('for', 'FOR'),\n",
    "  ('5', 'Duration'),\n",
    "  ('to', 'TO'),\n",
    "  ('6', 'DurationMax'),\n",
    "  ('days', 'DurationUnit')], [second sentence], ...]"
   ]
  },
  {
   "cell_type": "code",
   "execution_count": 76,
   "metadata": {},
   "outputs": [],
   "source": [
    "def tuples_maker(inp, out):\n",
    "    sample_data = []\n",
    "    for input_sig, output_label in zip(inp, out):\n",
    "        sample_data.append(list(zip(input_sig, output_label)))\n",
    "    return sample_data"
   ]
  },
  {
   "cell_type": "code",
   "execution_count": 77,
   "metadata": {},
   "outputs": [
    {
     "name": "stdout",
     "output_type": "stream",
     "text": [
      "[('for', 'FOR'), ('5', 'Duration'), ('to', 'TO'), ('6', 'DurationMax'), ('days', 'DurationUnit')]\n",
      "[('inject', 'Method'), ('2', 'Qty'), ('units', 'Form')]\n",
      "[('x', 'FOR'), ('2', 'Duration'), ('weeks', 'DurationUnit')]\n",
      "[('x', 'FOR'), ('3', 'Duration'), ('days', 'DurationUnit')]\n",
      "[('every', 'EVERY'), ('day', 'Period')]\n",
      "[('every', 'EVERY'), ('2', 'Period'), ('weeks', 'PeriodUnit')]\n",
      "[('every', 'EVERY'), ('3', 'Period'), ('days', 'PeriodUnit')]\n",
      "[('every', 'EVERY'), ('1', 'Period'), ('to', 'TO'), ('2', 'PeriodMax'), ('months', 'PeriodUnit')]\n",
      "[('every', 'EVERY'), ('2', 'Period'), ('to', 'TO'), ('6', 'PeriodMax'), ('weeks', 'PeriodUnit')]\n",
      "[('every', 'EVERY'), ('4', 'Period'), ('to', 'TO'), ('6', 'PeriodMax'), ('days', 'PeriodUnit')]\n",
      "[('take', 'Method'), ('two', 'Qty'), ('to', 'TO'), ('four', 'Qty'), ('tabs', 'Form')]\n",
      "[('take', 'Method'), ('2', 'Qty'), ('to', 'TO'), ('4', 'Qty'), ('tabs', 'Form')]\n",
      "[('take', 'Method'), ('3', 'Qty'), ('tabs', 'Form'), ('orally', 'PO'), ('bid', 'BID'), ('for', 'FOR'), ('10', 'Duration'), ('days', 'DurationUnit'), ('at', 'AT'), ('bedtime', 'WHEN')]\n",
      "[('swallow', 'Method'), ('three', 'Qty'), ('capsules', 'Form'), ('tid', 'TID'), ('orally', 'PO')]\n",
      "[('take', 'Method'), ('2', 'Qty'), ('capsules', 'Form'), ('po', 'PO'), ('every', 'EVERY'), ('6', 'Period'), ('hours', 'PeriodUnit')]\n",
      "[('take', 'Method'), ('2', 'Qty'), ('tabs', 'Form'), ('po', 'PO'), ('for', 'FOR'), ('10', 'Duration'), ('days', 'DurationUnit')]\n",
      "[('take', 'Method'), ('100', 'Qty'), ('caps', 'Form'), ('by', 'BY'), ('mouth', 'PO'), ('tid', 'TID'), ('for', 'FOR'), ('10', 'Duration'), ('weeks', 'DurationUnit')]\n",
      "[('take', 'Method'), ('2', 'Qty'), ('tabs', 'Form'), ('after', 'AFTER'), ('an', 'Period'), ('hour', 'PeriodUnit')]\n",
      "[('2', 'Qty'), ('tabs', 'Form'), ('every', 'EVERY'), ('4-6', 'Period'), ('hours', 'PeriodUnit')]\n",
      "[('every', 'EVERY'), ('4', 'Period'), ('to', 'TO'), ('6', 'PeriodMax'), ('hours', 'PeriodUnit')]\n",
      "[('q46h', 'Q46H')]\n",
      "[('q4-6h', 'Q4-6H')]\n",
      "[('2', 'Qty'), ('hours', 'PeriodUnit'), ('before', 'BEFORE'), ('breakfast', 'WHEN')]\n",
      "[('before', 'BEFORE'), ('30', 'Qty'), ('mins', 'M'), ('at', 'AT'), ('bedtime', 'WHEN')]\n",
      "[('30', 'Qty'), ('mins', 'M'), ('before', 'BEFORE'), ('bed', 'WHEN')]\n",
      "[('and', 'AND'), ('100', 'Qty'), ('tabs', 'Form'), ('twice', 'Frequency'), ('a', 'Period'), ('month', 'PeriodUnit')]\n",
      "[('100', 'Qty'), ('tabs', 'Form'), ('twice', 'Frequency'), ('a', 'Period'), ('month', 'PeriodUnit')]\n",
      "[('100', 'Qty'), ('tabs', 'Form'), ('once', 'Frequency'), ('a', 'Period'), ('month', 'PeriodUnit')]\n",
      "[('100', 'Qty'), ('tabs', 'Form'), ('thrice', 'Frequency'), ('a', 'Period'), ('month', 'PeriodUnit')]\n",
      "[('3', 'Qty'), ('tabs', 'Form'), ('daily', 'Frequency'), ('for', 'FOR'), ('3', 'Duration'), ('days', 'DurationUnit'), ('then', 'THEN'), ('1', 'Qty'), ('tab', 'Form'), ('per', 'Frequency'), ('day', 'PeriodUnit'), ('at', 'AT'), ('bed', 'WHEN')]\n",
      "[('30', 'Qty'), ('tabs', 'Form'), ('10', 'Duration'), ('days', 'DurationUnit'), ('tid', 'TID')]\n",
      "[('take', 'Method'), ('30', 'Qty'), ('tabs', 'Form'), ('for', 'FOR'), ('10', 'Duration'), ('days', 'DurationUnit'), ('three', 'Qty'), ('times', 'TIMES'), ('a', 'Period'), ('day', 'PeriodUnit')]\n",
      "[('qid', 'QID'), ('q6h', 'Q6H')]\n",
      "[('bid', 'BID')]\n",
      "[('qid', 'QID')]\n",
      "[('30', 'Qty'), ('tabs', 'Form'), ('before', 'BEFORE'), ('dinner', 'WHEN'), ('and', 'AND'), ('bedtime', 'WHEN')]\n",
      "[('30', 'Qty'), ('tabs', 'Form'), ('before', 'BEFORE'), ('dinner', 'WHEN'), ('&', 'AND'), ('bedtime', 'WHEN')]\n",
      "[('take', 'Method'), ('3', 'Qty'), ('tabs', 'Form'), ('at', 'AT'), ('bedtime', 'WHEN')]\n",
      "[('30', 'Qty'), ('tabs', 'Form'), ('thrice', 'Frequency'), ('daily', 'DAILY'), ('for', 'FOR'), ('10', 'Duration'), ('days', 'DurationUnit')]\n",
      "[('30', 'Qty'), ('tabs', 'Form'), ('for', 'FOR'), ('10', 'Duration'), ('days', 'DurationUnit'), ('three', 'Frequency'), ('times', 'TIMES'), ('a', 'Period'), ('day', 'PeriodUnit')]\n",
      "[('take', 'Method'), ('2', 'Qty'), ('tablets', 'Form'), ('a', 'Period'), ('day', 'PeriodUnit')]\n",
      "[('qid', 'QID'), ('for', 'FOR'), ('10', 'Duration'), ('days', 'DurationUnit')]\n",
      "[('every', 'EVERY'), ('day', 'PeriodUnit')]\n",
      "[('take', 'Method'), ('2', 'Qty'), ('caps', 'Form'), ('at', 'AT'), ('bedtime', 'WHEN')]\n",
      "[('apply', 'Method'), ('3', 'Qty'), ('drops', 'Form'), ('before', 'BEFORE'), ('bedtime', 'WHEN')]\n",
      "[('take', 'Method'), ('three', 'Qty'), ('capsules', 'Form'), ('daily', 'DAILY')]\n",
      "[('swallow', 'Method'), ('3', 'Qty'), ('pills', 'Form'), ('once', 'Frequency'), ('a', 'Period'), ('day', 'PeriodUnit')]\n",
      "[('swallow', 'Method'), ('three', 'Qty'), ('pills', 'Form'), ('thrice', 'Frequency'), ('a', 'Period'), ('day', 'PeriodUnit')]\n",
      "[('apply', 'Method'), ('daily', 'DAILY')]\n",
      "[('apply', 'Method'), ('three', 'Qty'), ('drops', 'Form'), ('before', 'BEFORE'), ('bedtime', 'WHEN')]\n",
      "[('every', 'EVERY'), ('6', 'Period'), ('hours', 'PeriodUnit')]\n",
      "[('before', 'BEFORE'), ('food', 'FOOD')]\n",
      "[('after', 'AFTER'), ('food', 'FOOD')]\n",
      "[('for', 'FOR'), ('20', 'Duration'), ('days', 'DurationUnit')]\n",
      "[('for', 'FOR'), ('twenty', 'Duration'), ('days', 'DurationUnit')]\n",
      "[('with', 'WITH'), ('meals', 'FOOD')]\n"
     ]
    }
   ],
   "source": [
    "result = tuples_maker(input_sigs, output_labels)\n",
    "\n",
    "for res in result:\n",
    "    print(res)"
   ]
  },
  {
   "cell_type": "markdown",
   "metadata": {},
   "source": [
    "### Creating the triples_maker( ) for feature extraction\n",
    "- input: tuples_maker_output\n",
    "- output: \n",
    "[[('for', 'IN', 'FOR'),\n",
    "  ('5', 'CD', 'Duration'),\n",
    "  ('to', 'TO', 'TO'),\n",
    "  ('6', 'CD', 'DurationMax'),\n",
    "  ('days', 'NNS', 'DurationUnit')], [second sentence], ... ]"
   ]
  },
  {
   "cell_type": "code",
   "execution_count": 80,
   "metadata": {},
   "outputs": [],
   "source": [
    "def triples_maker(whole_data):\n",
    "    sample_data = []\n",
    "    for sentence in whole_data:\n",
    "        triple_sentence = []\n",
    "        for word, label in sentence:\n",
    "            pos_tag = nltk.pos_tag([word])[0][1]\n",
    "            triple_word = (word, pos_tag, label)\n",
    "            triple_sentence.append(triple_word)\n",
    "        sample_data.append(triple_sentence)\n",
    "    return sample_data"
   ]
  },
  {
   "cell_type": "code",
   "execution_count": 81,
   "metadata": {},
   "outputs": [
    {
     "name": "stdout",
     "output_type": "stream",
     "text": [
      "[('for', 'IN', 'FOR'), ('5', 'CD', 'Duration'), ('to', 'TO', 'TO'), ('6', 'CD', 'DurationMax'), ('days', 'NNS', 'DurationUnit')]\n",
      "[('inject', 'NN', 'Method'), ('2', 'CD', 'Qty'), ('units', 'NNS', 'Form')]\n",
      "[('x', 'NN', 'FOR'), ('2', 'CD', 'Duration'), ('weeks', 'NNS', 'DurationUnit')]\n",
      "[('x', 'NN', 'FOR'), ('3', 'CD', 'Duration'), ('days', 'NNS', 'DurationUnit')]\n",
      "[('every', 'DT', 'EVERY'), ('day', 'NN', 'Period')]\n",
      "[('every', 'DT', 'EVERY'), ('2', 'CD', 'Period'), ('weeks', 'NNS', 'PeriodUnit')]\n",
      "[('every', 'DT', 'EVERY'), ('3', 'CD', 'Period'), ('days', 'NNS', 'PeriodUnit')]\n",
      "[('every', 'DT', 'EVERY'), ('1', 'CD', 'Period'), ('to', 'TO', 'TO'), ('2', 'CD', 'PeriodMax'), ('months', 'NNS', 'PeriodUnit')]\n",
      "[('every', 'DT', 'EVERY'), ('2', 'CD', 'Period'), ('to', 'TO', 'TO'), ('6', 'CD', 'PeriodMax'), ('weeks', 'NNS', 'PeriodUnit')]\n",
      "[('every', 'DT', 'EVERY'), ('4', 'CD', 'Period'), ('to', 'TO', 'TO'), ('6', 'CD', 'PeriodMax'), ('days', 'NNS', 'PeriodUnit')]\n",
      "[('take', 'VB', 'Method'), ('two', 'CD', 'Qty'), ('to', 'TO', 'TO'), ('four', 'CD', 'Qty'), ('tabs', 'NNS', 'Form')]\n",
      "[('take', 'VB', 'Method'), ('2', 'CD', 'Qty'), ('to', 'TO', 'TO'), ('4', 'CD', 'Qty'), ('tabs', 'NNS', 'Form')]\n",
      "[('take', 'VB', 'Method'), ('3', 'CD', 'Qty'), ('tabs', 'NNS', 'Form'), ('orally', 'RB', 'PO'), ('bid', 'NN', 'BID'), ('for', 'IN', 'FOR'), ('10', 'CD', 'Duration'), ('days', 'NNS', 'DurationUnit'), ('at', 'IN', 'AT'), ('bedtime', 'NN', 'WHEN')]\n",
      "[('swallow', 'NN', 'Method'), ('three', 'CD', 'Qty'), ('capsules', 'NNS', 'Form'), ('tid', 'NN', 'TID'), ('orally', 'RB', 'PO')]\n",
      "[('take', 'VB', 'Method'), ('2', 'CD', 'Qty'), ('capsules', 'NNS', 'Form'), ('po', 'NN', 'PO'), ('every', 'DT', 'EVERY'), ('6', 'CD', 'Period'), ('hours', 'NNS', 'PeriodUnit')]\n",
      "[('take', 'VB', 'Method'), ('2', 'CD', 'Qty'), ('tabs', 'NNS', 'Form'), ('po', 'NN', 'PO'), ('for', 'IN', 'FOR'), ('10', 'CD', 'Duration'), ('days', 'NNS', 'DurationUnit')]\n",
      "[('take', 'VB', 'Method'), ('100', 'CD', 'Qty'), ('caps', 'NNS', 'Form'), ('by', 'IN', 'BY'), ('mouth', 'NN', 'PO'), ('tid', 'NN', 'TID'), ('for', 'IN', 'FOR'), ('10', 'CD', 'Duration'), ('weeks', 'NNS', 'DurationUnit')]\n",
      "[('take', 'VB', 'Method'), ('2', 'CD', 'Qty'), ('tabs', 'NNS', 'Form'), ('after', 'IN', 'AFTER'), ('an', 'DT', 'Period'), ('hour', 'NN', 'PeriodUnit')]\n",
      "[('2', 'CD', 'Qty'), ('tabs', 'NNS', 'Form'), ('every', 'DT', 'EVERY'), ('4-6', 'JJ', 'Period'), ('hours', 'NNS', 'PeriodUnit')]\n",
      "[('every', 'DT', 'EVERY'), ('4', 'CD', 'Period'), ('to', 'TO', 'TO'), ('6', 'CD', 'PeriodMax'), ('hours', 'NNS', 'PeriodUnit')]\n",
      "[('q46h', 'NN', 'Q46H')]\n",
      "[('q4-6h', 'NN', 'Q4-6H')]\n",
      "[('2', 'CD', 'Qty'), ('hours', 'NNS', 'PeriodUnit'), ('before', 'IN', 'BEFORE'), ('breakfast', 'NN', 'WHEN')]\n",
      "[('before', 'IN', 'BEFORE'), ('30', 'CD', 'Qty'), ('mins', 'NNS', 'M'), ('at', 'IN', 'AT'), ('bedtime', 'NN', 'WHEN')]\n",
      "[('30', 'CD', 'Qty'), ('mins', 'NNS', 'M'), ('before', 'IN', 'BEFORE'), ('bed', 'NN', 'WHEN')]\n",
      "[('and', 'CC', 'AND'), ('100', 'CD', 'Qty'), ('tabs', 'NNS', 'Form'), ('twice', 'RB', 'Frequency'), ('a', 'DT', 'Period'), ('month', 'NN', 'PeriodUnit')]\n",
      "[('100', 'CD', 'Qty'), ('tabs', 'NNS', 'Form'), ('twice', 'RB', 'Frequency'), ('a', 'DT', 'Period'), ('month', 'NN', 'PeriodUnit')]\n",
      "[('100', 'CD', 'Qty'), ('tabs', 'NNS', 'Form'), ('once', 'RB', 'Frequency'), ('a', 'DT', 'Period'), ('month', 'NN', 'PeriodUnit')]\n",
      "[('100', 'CD', 'Qty'), ('tabs', 'NNS', 'Form'), ('thrice', 'NN', 'Frequency'), ('a', 'DT', 'Period'), ('month', 'NN', 'PeriodUnit')]\n",
      "[('3', 'CD', 'Qty'), ('tabs', 'NNS', 'Form'), ('daily', 'JJ', 'Frequency'), ('for', 'IN', 'FOR'), ('3', 'CD', 'Duration'), ('days', 'NNS', 'DurationUnit'), ('then', 'RB', 'THEN'), ('1', 'CD', 'Qty'), ('tab', 'NN', 'Form'), ('per', 'IN', 'Frequency'), ('day', 'NN', 'PeriodUnit'), ('at', 'IN', 'AT'), ('bed', 'NN', 'WHEN')]\n",
      "[('30', 'CD', 'Qty'), ('tabs', 'NNS', 'Form'), ('10', 'CD', 'Duration'), ('days', 'NNS', 'DurationUnit'), ('tid', 'NN', 'TID')]\n",
      "[('take', 'VB', 'Method'), ('30', 'CD', 'Qty'), ('tabs', 'NNS', 'Form'), ('for', 'IN', 'FOR'), ('10', 'CD', 'Duration'), ('days', 'NNS', 'DurationUnit'), ('three', 'CD', 'Qty'), ('times', 'NNS', 'TIMES'), ('a', 'DT', 'Period'), ('day', 'NN', 'PeriodUnit')]\n",
      "[('qid', 'NN', 'QID'), ('q6h', 'NN', 'Q6H')]\n",
      "[('bid', 'NN', 'BID')]\n",
      "[('qid', 'NN', 'QID')]\n",
      "[('30', 'CD', 'Qty'), ('tabs', 'NNS', 'Form'), ('before', 'IN', 'BEFORE'), ('dinner', 'NN', 'WHEN'), ('and', 'CC', 'AND'), ('bedtime', 'NN', 'WHEN')]\n",
      "[('30', 'CD', 'Qty'), ('tabs', 'NNS', 'Form'), ('before', 'IN', 'BEFORE'), ('dinner', 'NN', 'WHEN'), ('&', 'CC', 'AND'), ('bedtime', 'NN', 'WHEN')]\n",
      "[('take', 'VB', 'Method'), ('3', 'CD', 'Qty'), ('tabs', 'NNS', 'Form'), ('at', 'IN', 'AT'), ('bedtime', 'NN', 'WHEN')]\n",
      "[('30', 'CD', 'Qty'), ('tabs', 'NNS', 'Form'), ('thrice', 'NN', 'Frequency'), ('daily', 'JJ', 'DAILY'), ('for', 'IN', 'FOR'), ('10', 'CD', 'Duration'), ('days', 'NNS', 'DurationUnit')]\n",
      "[('30', 'CD', 'Qty'), ('tabs', 'NNS', 'Form'), ('for', 'IN', 'FOR'), ('10', 'CD', 'Duration'), ('days', 'NNS', 'DurationUnit'), ('three', 'CD', 'Frequency'), ('times', 'NNS', 'TIMES'), ('a', 'DT', 'Period'), ('day', 'NN', 'PeriodUnit')]\n",
      "[('take', 'VB', 'Method'), ('2', 'CD', 'Qty'), ('tablets', 'NNS', 'Form'), ('a', 'DT', 'Period'), ('day', 'NN', 'PeriodUnit')]\n",
      "[('qid', 'NN', 'QID'), ('for', 'IN', 'FOR'), ('10', 'CD', 'Duration'), ('days', 'NNS', 'DurationUnit')]\n",
      "[('every', 'DT', 'EVERY'), ('day', 'NN', 'PeriodUnit')]\n",
      "[('take', 'VB', 'Method'), ('2', 'CD', 'Qty'), ('caps', 'NNS', 'Form'), ('at', 'IN', 'AT'), ('bedtime', 'NN', 'WHEN')]\n",
      "[('apply', 'VB', 'Method'), ('3', 'CD', 'Qty'), ('drops', 'NNS', 'Form'), ('before', 'IN', 'BEFORE'), ('bedtime', 'NN', 'WHEN')]\n",
      "[('take', 'VB', 'Method'), ('three', 'CD', 'Qty'), ('capsules', 'NNS', 'Form'), ('daily', 'JJ', 'DAILY')]\n",
      "[('swallow', 'NN', 'Method'), ('3', 'CD', 'Qty'), ('pills', 'NNS', 'Form'), ('once', 'RB', 'Frequency'), ('a', 'DT', 'Period'), ('day', 'NN', 'PeriodUnit')]\n",
      "[('swallow', 'NN', 'Method'), ('three', 'CD', 'Qty'), ('pills', 'NNS', 'Form'), ('thrice', 'NN', 'Frequency'), ('a', 'DT', 'Period'), ('day', 'NN', 'PeriodUnit')]\n",
      "[('apply', 'VB', 'Method'), ('daily', 'JJ', 'DAILY')]\n",
      "[('apply', 'VB', 'Method'), ('three', 'CD', 'Qty'), ('drops', 'NNS', 'Form'), ('before', 'IN', 'BEFORE'), ('bedtime', 'NN', 'WHEN')]\n",
      "[('every', 'DT', 'EVERY'), ('6', 'CD', 'Period'), ('hours', 'NNS', 'PeriodUnit')]\n",
      "[('before', 'IN', 'BEFORE'), ('food', 'NN', 'FOOD')]\n",
      "[('after', 'IN', 'AFTER'), ('food', 'NN', 'FOOD')]\n",
      "[('for', 'IN', 'FOR'), ('20', 'CD', 'Duration'), ('days', 'NNS', 'DurationUnit')]\n",
      "[('for', 'IN', 'FOR'), ('twenty', 'NN', 'Duration'), ('days', 'NNS', 'DurationUnit')]\n",
      "[('with', 'IN', 'WITH'), ('meals', 'NNS', 'FOOD')]\n"
     ]
    }
   ],
   "source": [
    "whole_data = result  # Assuming result is the output of tuples_maker\n",
    "sample_data = triples_maker(whole_data)\n",
    "\n",
    "for res in sample_data:\n",
    "    print(res)"
   ]
  },
  {
   "cell_type": "markdown",
   "metadata": {},
   "source": [
    "### Creating the features extractor method (GIVEN as a BASELINE)\n",
    "#### The features used are:\n",
    "- SOS, EOS, lowercase, uppercase, title, digit, postag, previous_tag, next_tag\n",
    "#### Feel free to include more features"
   ]
  },
  {
   "cell_type": "code",
   "execution_count": 84,
   "metadata": {},
   "outputs": [],
   "source": [
    "def token_to_features(doc, i):\n",
    "    word = doc[i][0]\n",
    "    postag = doc[i][1]\n",
    "\n",
    "    # Common features for all words\n",
    "    features = [\n",
    "        'bias',\n",
    "        'word.lower=' + word.lower(),\n",
    "        'word[-3:]=' + word[-3:],\n",
    "        'word[-2:]=' + word[-2:],\n",
    "        'word.isupper=%s' % word.isupper(),\n",
    "        'word.istitle=%s' % word.istitle(),\n",
    "        'word.isdigit=%s' % word.isdigit(),\n",
    "        'postag=' + postag\n",
    "    ]\n",
    "\n",
    "    # Features for words that are not\n",
    "    # at the beginning of a document\n",
    "    if i > 0:\n",
    "        word1 = doc[i-1][0]\n",
    "        postag1 = doc[i-1][1]\n",
    "        features.extend([\n",
    "            '-1:word.lower=' + word1.lower(),\n",
    "            '-1:word.istitle=%s' % word1.istitle(),\n",
    "            '-1:word.isupper=%s' % word1.isupper(),\n",
    "            '-1:word.isdigit=%s' % word1.isdigit(),\n",
    "            '-1:postag=' + postag1\n",
    "        ])\n",
    "    else:\n",
    "        # Indicate that it is the 'beginning of a document'\n",
    "        features.append('BOS')\n",
    "\n",
    "    # Features for words that are not\n",
    "    # at the end of a document\n",
    "    if i < len(doc)-1:\n",
    "        word1 = doc[i+1][0]\n",
    "        postag1 = doc[i+1][1]\n",
    "        features.extend([\n",
    "            '+1:word.lower=' + word1.lower(),\n",
    "            '+1:word.istitle=%s' % word1.istitle(),\n",
    "            '+1:word.isupper=%s' % word1.isupper(),\n",
    "            '+1:word.isdigit=%s' % word1.isdigit(),\n",
    "            '+1:postag=' + postag1\n",
    "        ])\n",
    "    else:\n",
    "        # Indicate that it is the 'end of a document'\n",
    "        features.append('EOS')\n",
    "\n",
    "    return features"
   ]
  },
  {
   "cell_type": "markdown",
   "metadata": {},
   "source": [
    "### Running the feature extractor on the training data \n",
    "- Feature extraction\n",
    "- Train-test-split"
   ]
  },
  {
   "cell_type": "code",
   "execution_count": 88,
   "metadata": {},
   "outputs": [],
   "source": [
    "def extract_features(doc):\n",
    "    return [token_to_features(doc, i) for i in range(len(doc))]\n",
    "\n",
    "X = [extract_features(doc) for doc in sample_data]"
   ]
  },
  {
   "cell_type": "code",
   "execution_count": 89,
   "metadata": {},
   "outputs": [],
   "source": [
    "y = [[label for _, _, label in sentence] for sentence in sample_data]"
   ]
  },
  {
   "cell_type": "code",
   "execution_count": 93,
   "metadata": {},
   "outputs": [],
   "source": [
    "X_train, X_test, y_train, y_test = train_test_split(X, y, test_size=0.2, random_state=1)"
   ]
  },
  {
   "cell_type": "markdown",
   "metadata": {},
   "source": [
    "### Training the CRF model with the features extracted using the feature extractor method"
   ]
  },
  {
   "cell_type": "code",
   "execution_count": 96,
   "metadata": {},
   "outputs": [],
   "source": [
    "crf = sklearn_crfsuite.CRF(\n",
    "    algorithm='lbfgs',\n",
    "    c1=0.1,\n",
    "    c2=0.1,\n",
    "    max_iterations=100,\n",
    "    all_possible_transitions=True,\n",
    "    verbose=True\n",
    ")"
   ]
  },
  {
   "cell_type": "code",
   "execution_count": 97,
   "metadata": {},
   "outputs": [
    {
     "name": "stderr",
     "output_type": "stream",
     "text": [
      "loading training data to CRFsuite: 100%|██████████| 44/44 [00:00<00:00, 21988.49it/s]"
     ]
    },
    {
     "name": "stdout",
     "output_type": "stream",
     "text": [
      "\n",
      "Feature generation\n",
      "type: CRF1d\n",
      "feature.minfreq: 0.000000\n",
      "feature.possible_states: 0\n",
      "feature.possible_transitions: 1\n",
      "0....1....2....3....4....5....6....7....8....9....10\n",
      "Number of features: 1778\n",
      "Seconds required: 0.003\n",
      "\n",
      "L-BFGS optimization\n",
      "c1: 0.100000\n",
      "c2: 0.100000\n",
      "num_memories: 6\n",
      "max_iterations: 100\n",
      "epsilon: 0.000010\n",
      "stop: 10\n",
      "delta: 0.000010\n",
      "linesearch: MoreThuente\n",
      "linesearch.max_iterations: 20\n",
      "\n",
      "Iter 1   time=0.00  loss=586.68   active=1761  feature_norm=1.00\n",
      "Iter 2   time=0.00  loss=368.69   active=1556  feature_norm=5.28\n",
      "Iter 3   time=0.00  loss=272.81   active=1552  feature_norm=6.59\n",
      "Iter 4   time=0.00  loss=234.69   active=1360  feature_norm=7.03\n",
      "Iter 5   time=0.00  loss=169.91   active=1174  feature_norm=8.62\n",
      "Iter 6   time=0.00  loss=126.56   active=1104  feature_norm=10.33\n",
      "Iter 7   time=0.00  loss=101.59   active=1017  feature_norm=14.28\n",
      "Iter 8   time=0.00  loss=83.29    active=1082  feature_norm=14.77\n",
      "Iter 9   time=0.00  loss=80.35    active=1075  feature_norm=14.67\n",
      "Iter 10  time=0.00  loss=76.21    active=1011  feature_norm=14.77\n",
      "Iter 11  time=0.00  loss=74.24    active=966   feature_norm=14.85\n",
      "Iter 12  time=0.00  loss=71.35    active=826   feature_norm=14.87\n",
      "Iter 13  time=0.00  loss=70.39    active=795   feature_norm=14.83\n",
      "Iter 14  time=0.00  loss=69.68    active=793   feature_norm=14.82\n",
      "Iter 15  time=0.00  loss=69.16    active=769   feature_norm=14.83\n",
      "Iter 16  time=0.00  loss=68.76    active=744   feature_norm=14.84\n",
      "Iter 17  time=0.00  loss=68.24    active=681   feature_norm=14.97\n",
      "Iter 18  time=0.00  loss=68.14    active=656   feature_norm=15.10\n",
      "Iter 19  time=0.00  loss=67.86    active=660   feature_norm=15.12\n",
      "Iter 20  time=0.00  loss=67.76    active=641   feature_norm=15.16\n",
      "Iter 21  time=0.00  loss=67.60    active=617   feature_norm=15.22\n",
      "Iter 22  time=0.00  loss=67.56    active=592   feature_norm=15.29\n",
      "Iter 23  time=0.00  loss=67.45    active=590   feature_norm=15.28\n",
      "Iter 24  time=0.00  loss=67.43    active=592   feature_norm=15.28\n",
      "Iter 25  time=0.00  loss=67.37    active=582   feature_norm=15.28\n",
      "Iter 26  time=0.00  loss=67.34    active=569   feature_norm=15.27\n",
      "Iter 27  time=0.00  loss=67.31    active=563   feature_norm=15.28\n",
      "Iter 28  time=0.00  loss=67.30    active=562   feature_norm=15.28\n",
      "Iter 29  time=0.00  loss=67.28    active=556   feature_norm=15.28\n",
      "Iter 30  time=0.00  loss=67.27    active=554   feature_norm=15.29\n",
      "Iter 31  time=0.00  loss=67.26    active=560   feature_norm=15.30\n",
      "Iter 32  time=0.00  loss=67.26    active=560   feature_norm=15.30\n",
      "Iter 33  time=0.00  loss=67.24    active=555   feature_norm=15.34\n",
      "Iter 34  time=0.00  loss=67.24    active=555   feature_norm=15.34\n",
      "Iter 35  time=0.00  loss=67.24    active=555   feature_norm=15.35\n",
      "Iter 36  time=0.00  loss=67.24    active=555   feature_norm=15.35\n",
      "Iter 37  time=0.00  loss=67.23    active=553   feature_norm=15.35\n",
      "Iter 38  time=0.00  loss=67.23    active=549   feature_norm=15.35\n",
      "Iter 39  time=0.00  loss=67.23    active=546   feature_norm=15.35\n",
      "Iter 40  time=0.00  loss=67.23    active=543   feature_norm=15.35\n",
      "Iter 41  time=0.00  loss=67.23    active=543   feature_norm=15.35\n",
      "Iter 42  time=0.00  loss=67.23    active=543   feature_norm=15.35\n",
      "Iter 43  time=0.00  loss=67.23    active=544   feature_norm=15.35\n",
      "Iter 44  time=0.00  loss=67.23    active=540   feature_norm=15.35\n",
      "Iter 45  time=0.00  loss=67.23    active=540   feature_norm=15.35\n",
      "Iter 46  time=0.00  loss=67.23    active=540   feature_norm=15.35\n",
      "Iter 47  time=0.00  loss=67.23    active=540   feature_norm=15.35\n",
      "Iter 48  time=0.00  loss=67.22    active=539   feature_norm=15.35\n",
      "Iter 49  time=0.00  loss=67.22    active=539   feature_norm=15.35\n",
      "Iter 50  time=0.00  loss=67.22    active=539   feature_norm=15.35\n",
      "Iter 51  time=0.00  loss=67.22    active=539   feature_norm=15.35\n",
      "Iter 52  time=0.00  loss=67.22    active=539   feature_norm=15.35\n",
      "Iter 53  time=0.00  loss=67.22    active=539   feature_norm=15.34\n",
      "Iter 54  time=0.00  loss=67.22    active=539   feature_norm=15.34\n",
      "Iter 55  time=0.00  loss=67.22    active=539   feature_norm=15.34\n",
      "Iter 56  time=0.00  loss=67.22    active=540   feature_norm=15.34\n",
      "Iter 57  time=0.00  loss=67.22    active=540   feature_norm=15.34\n",
      "Iter 58  time=0.00  loss=67.22    active=538   feature_norm=15.34\n",
      "Iter 59  time=0.00  loss=67.22    active=538   feature_norm=15.34\n",
      "Iter 60  time=0.00  loss=67.22    active=537   feature_norm=15.34\n",
      "Iter 61  time=0.00  loss=67.22    active=537   feature_norm=15.34\n",
      "Iter 62  time=0.00  loss=67.22    active=538   feature_norm=15.34\n",
      "Iter 63  time=0.00  loss=67.22    active=538   feature_norm=15.34\n",
      "Iter 64  time=0.00  loss=67.22    active=538   feature_norm=15.34\n",
      "Iter 65  time=0.00  loss=67.22    active=540   feature_norm=15.34\n",
      "Iter 66  time=0.00  loss=67.22    active=540   feature_norm=15.34\n",
      "L-BFGS terminated with the stopping criteria\n",
      "Total seconds required for training: 0.034\n",
      "\n",
      "Storing the model\n",
      "Number of active features: 540 (1778)\n",
      "Number of active attributes: 270 (336)\n",
      "Number of active labels: 30 (30)\n",
      "Writing labels\n",
      "Writing attributes\n",
      "Writing feature references for transitions\n",
      "Writing feature references for attributes\n",
      "Seconds required: 0.001\n",
      "\n"
     ]
    },
    {
     "name": "stderr",
     "output_type": "stream",
     "text": [
      "\n"
     ]
    },
    {
     "data": {
      "text/plain": [
       "['crf_model.pkl']"
      ]
     },
     "execution_count": 97,
     "metadata": {},
     "output_type": "execute_result"
    }
   ],
   "source": [
    "crf.fit(X_train, y_train)\n",
    "joblib.dump(crf, 'crf_model.pkl')"
   ]
  },
  {
   "cell_type": "markdown",
   "metadata": {},
   "source": [
    "### Predicting the test data with the built model"
   ]
  },
  {
   "cell_type": "code",
   "execution_count": 98,
   "metadata": {
    "scrolled": true
   },
   "outputs": [],
   "source": [
    "y_pred = crf.predict(X_test)"
   ]
  },
  {
   "cell_type": "code",
   "execution_count": 99,
   "metadata": {},
   "outputs": [
    {
     "data": {
      "text/plain": [
       "[['Method', 'Qty', 'Form', 'BEFORE', 'WHEN'],\n",
       " ['Method', 'Qty', 'Form'],\n",
       " ['Method', 'Qty', 'Form', 'Frequency', 'Period', 'PeriodUnit'],\n",
       " ['EVERY', 'Period', 'TO', 'PeriodMax', 'PeriodUnit'],\n",
       " ['QID', 'PeriodUnit'],\n",
       " ['QID'],\n",
       " ['Qty', 'Form', 'BEFORE', 'WHEN', 'AND', 'WHEN'],\n",
       " ['Qty',\n",
       "  'Form',\n",
       "  'FOR',\n",
       "  'Duration',\n",
       "  'DurationUnit',\n",
       "  'Qty',\n",
       "  'TIMES',\n",
       "  'Period',\n",
       "  'PeriodUnit'],\n",
       " ['Method', 'Qty', 'Form', 'BEFORE', 'WHEN'],\n",
       " ['EVERY', 'Period'],\n",
       " ['Method', 'DAILY'],\n",
       " ['Q46H']]"
      ]
     },
     "execution_count": 99,
     "metadata": {},
     "output_type": "execute_result"
    }
   ],
   "source": [
    "y_pred"
   ]
  },
  {
   "cell_type": "markdown",
   "metadata": {},
   "source": [
    "### Putting all the prediction logic inside a predict method"
   ]
  },
  {
   "cell_type": "code",
   "execution_count": 101,
   "metadata": {},
   "outputs": [],
   "source": [
    "def predict(sig):\n",
    "    words = nltk.word_tokenize(sig)\n",
    "    doc = nltk.pos_tag(words)\n",
    "    doc_features = extract_features(doc)\n",
    "    predicted_labels = crf.predict([doc_features])[0]\n",
    "    return predicted_labels"
   ]
  },
  {
   "cell_type": "markdown",
   "metadata": {},
   "source": [
    "### Sample predictions"
   ]
  },
  {
   "cell_type": "code",
   "execution_count": 103,
   "metadata": {},
   "outputs": [
    {
     "data": {
      "text/plain": [
       "['Method',\n",
       " 'Qty',\n",
       " 'Form',\n",
       " 'EVERY',\n",
       " 'Period',\n",
       " 'PeriodUnit',\n",
       " 'FOR',\n",
       " 'Duration',\n",
       " 'DurationUnit']"
      ]
     },
     "execution_count": 103,
     "metadata": {},
     "output_type": "execute_result"
    }
   ],
   "source": [
    "predictions = predict(\"take 2 tabs every 6 hours x 10 days\")\n",
    "predictions"
   ]
  },
  {
   "cell_type": "code",
   "execution_count": 104,
   "metadata": {},
   "outputs": [
    {
     "data": {
      "text/plain": [
       "['Qty', 'Form', 'FOR', 'Duration', 'DurationUnit', 'AT', 'WHEN']"
      ]
     },
     "execution_count": 104,
     "metadata": {},
     "output_type": "execute_result"
    }
   ],
   "source": [
    "predictions = predict(\"2 capsu for 10 day at bed\")\n",
    "predictions"
   ]
  },
  {
   "cell_type": "code",
   "execution_count": 105,
   "metadata": {},
   "outputs": [
    {
     "data": {
      "text/plain": [
       "['Duration', 'DurationUnit', 'Qty', 'Form', 'AT', 'WHEN']"
      ]
     },
     "execution_count": 105,
     "metadata": {},
     "output_type": "execute_result"
    }
   ],
   "source": [
    "predictions = predict(\"5 days 2 tabs at bed\")\n",
    "predictions"
   ]
  },
  {
   "cell_type": "code",
   "execution_count": 106,
   "metadata": {},
   "outputs": [
    {
     "data": {
      "text/plain": [
       "['Qty', 'Form', 'QID', 'FOR', 'Duration', 'DurationUnit']"
      ]
     },
     "execution_count": 106,
     "metadata": {},
     "output_type": "execute_result"
    }
   ],
   "source": [
    "predictions = predict(\"3 tabs qid x 10 weeks\")\n",
    "predictions"
   ]
  },
  {
   "cell_type": "code",
   "execution_count": 107,
   "metadata": {},
   "outputs": [
    {
     "data": {
      "text/plain": [
       "['FOR', 'Duration', 'DurationUnit']"
      ]
     },
     "execution_count": 107,
     "metadata": {},
     "output_type": "execute_result"
    }
   ],
   "source": [
    "predictions = predict(\"x 30 days\")\n",
    "predictions"
   ]
  },
  {
   "cell_type": "code",
   "execution_count": 108,
   "metadata": {},
   "outputs": [
    {
     "data": {
      "text/plain": [
       "['FOR', 'Duration', 'DurationUnit']"
      ]
     },
     "execution_count": 108,
     "metadata": {},
     "output_type": "execute_result"
    }
   ],
   "source": [
    "predictions = predict(\"x 20 months\")\n",
    "predictions"
   ]
  },
  {
   "cell_type": "code",
   "execution_count": 109,
   "metadata": {},
   "outputs": [
    {
     "data": {
      "text/plain": [
       "['Method', 'Qty', 'Form', 'PO', 'TID', 'FOR', 'Duration', 'DurationUnit']"
      ]
     },
     "execution_count": 109,
     "metadata": {},
     "output_type": "execute_result"
    }
   ],
   "source": [
    "predictions = predict(\"take 2 tabs po tid for 10 days\")\n",
    "predictions"
   ]
  },
  {
   "cell_type": "code",
   "execution_count": 110,
   "metadata": {},
   "outputs": [
    {
     "data": {
      "text/plain": [
       "['Method', 'Qty', 'Form', 'PO', 'EVERY', 'Period', 'PeriodUnit']"
      ]
     },
     "execution_count": 110,
     "metadata": {},
     "output_type": "execute_result"
    }
   ],
   "source": [
    "predictions = predict(\"take 2 capsules po every 6 hours\")\n",
    "predictions"
   ]
  },
  {
   "cell_type": "code",
   "execution_count": 111,
   "metadata": {},
   "outputs": [
    {
     "data": {
      "text/plain": [
       "['Method', 'Qty', 'Form', 'PO', 'TID']"
      ]
     },
     "execution_count": 111,
     "metadata": {},
     "output_type": "execute_result"
    }
   ],
   "source": [
    "predictions = predict(\"inject 2 units pu tid\")\n",
    "predictions"
   ]
  },
  {
   "cell_type": "code",
   "execution_count": 112,
   "metadata": {},
   "outputs": [
    {
     "data": {
      "text/plain": [
       "['Method', 'Qty', 'Form', 'TID', 'BY', 'PO']"
      ]
     },
     "execution_count": 112,
     "metadata": {},
     "output_type": "execute_result"
    }
   ],
   "source": [
    "predictions = predict(\"swallow 3 caps tid by mouth\")\n",
    "predictions"
   ]
  },
  {
   "cell_type": "code",
   "execution_count": 113,
   "metadata": {},
   "outputs": [
    {
     "data": {
      "text/plain": [
       "['Method', 'Qty', 'Form', 'PO']"
      ]
     },
     "execution_count": 113,
     "metadata": {},
     "output_type": "execute_result"
    }
   ],
   "source": [
    "predictions = predict(\"inject 3 units orally\")\n",
    "predictions"
   ]
  },
  {
   "cell_type": "code",
   "execution_count": 114,
   "metadata": {},
   "outputs": [
    {
     "data": {
      "text/plain": [
       "['PO', 'Method', 'Qty', 'Form', 'TID']"
      ]
     },
     "execution_count": 114,
     "metadata": {},
     "output_type": "execute_result"
    }
   ],
   "source": [
    "predictions = predict(\"orally take 3 tabs tid\")\n",
    "predictions"
   ]
  },
  {
   "cell_type": "code",
   "execution_count": 115,
   "metadata": {},
   "outputs": [
    {
     "data": {
      "text/plain": [
       "['BY', 'PO', 'Method', 'Qty', 'Form']"
      ]
     },
     "execution_count": 115,
     "metadata": {},
     "output_type": "execute_result"
    }
   ],
   "source": [
    "predictions = predict(\"by mouth take three caps\")\n",
    "predictions"
   ]
  },
  {
   "cell_type": "code",
   "execution_count": 116,
   "metadata": {},
   "outputs": [
    {
     "data": {
      "text/plain": [
       "['Method',\n",
       " 'Qty',\n",
       " 'Form',\n",
       " 'PO',\n",
       " 'Qty',\n",
       " 'TIMES',\n",
       " 'Period',\n",
       " 'PeriodUnit',\n",
       " 'FOR',\n",
       " 'Duration',\n",
       " 'DurationUnit',\n",
       " 'AT',\n",
       " 'WHEN']"
      ]
     },
     "execution_count": 116,
     "metadata": {},
     "output_type": "execute_result"
    }
   ],
   "source": [
    "predictions = predict(\"take 3 tabs orally three times a day for 10 days at bedtime\")\n",
    "predictions"
   ]
  },
  {
   "cell_type": "code",
   "execution_count": 117,
   "metadata": {},
   "outputs": [
    {
     "data": {
      "text/plain": [
       "['Method',\n",
       " 'Qty',\n",
       " 'Form',\n",
       " 'PO',\n",
       " 'BID',\n",
       " 'FOR',\n",
       " 'Duration',\n",
       " 'DurationUnit',\n",
       " 'AT',\n",
       " 'WHEN']"
      ]
     },
     "execution_count": 117,
     "metadata": {},
     "output_type": "execute_result"
    }
   ],
   "source": [
    "predictions = predict(\"take 3 tabs orally bid for 10 days at bedtime\")\n",
    "predictions"
   ]
  },
  {
   "cell_type": "code",
   "execution_count": 118,
   "metadata": {},
   "outputs": [
    {
     "data": {
      "text/plain": [
       "['Method', 'Qty', 'Form', 'Frequency', 'PO', 'AT', 'WHEN']"
      ]
     },
     "execution_count": 118,
     "metadata": {},
     "output_type": "execute_result"
    }
   ],
   "source": [
    "predictions = predict(\"take 3 tabs bid orally at bed\")\n",
    "predictions"
   ]
  },
  {
   "cell_type": "code",
   "execution_count": 119,
   "metadata": {},
   "outputs": [
    {
     "data": {
      "text/plain": [
       "['Method', 'Qty', 'Form', 'BY', 'PO', 'QID']"
      ]
     },
     "execution_count": 119,
     "metadata": {},
     "output_type": "execute_result"
    }
   ],
   "source": [
    "predictions = predict(\"take 10 capsules by mouth qid\")\n",
    "predictions"
   ]
  },
  {
   "cell_type": "code",
   "execution_count": 120,
   "metadata": {},
   "outputs": [
    {
     "data": {
      "text/plain": [
       "['Method', 'Qty', 'Form', 'PO', 'QID', 'FOR', 'Duration', 'DurationUnit']"
      ]
     },
     "execution_count": 120,
     "metadata": {},
     "output_type": "execute_result"
    }
   ],
   "source": [
    "predictions = predict(\"inject 10 units orally qid x 3 months\")\n",
    "predictions"
   ]
  },
  {
   "cell_type": "code",
   "execution_count": 121,
   "metadata": {},
   "outputs": [
    {
     "data": {
      "text/plain": [
       "['Method',\n",
       " 'Method',\n",
       " 'Qty',\n",
       " 'Form',\n",
       " 'Frequency',\n",
       " 'PeriodUnit',\n",
       " 'FOR',\n",
       " 'Period',\n",
       " 'PeriodUnit',\n",
       " 'EVERY',\n",
       " 'Period',\n",
       " 'PeriodUnit',\n",
       " 'AND',\n",
       " 'EVERY',\n",
       " 'Period',\n",
       " 'PeriodUnit']"
      ]
     },
     "execution_count": 121,
     "metadata": {},
     "output_type": "execute_result"
    }
   ],
   "source": [
    "predictions = predict(\"please take 2 tablets per day for a month in the morning and evening each day\")\n",
    "predictions"
   ]
  },
  {
   "cell_type": "code",
   "execution_count": 122,
   "metadata": {},
   "outputs": [
    {
     "data": {
      "text/plain": [
       "['Qty', 'Method', 'Qty', 'Form']"
      ]
     },
     "execution_count": 122,
     "metadata": {},
     "output_type": "execute_result"
    }
   ],
   "source": [
    "prediction = predict(\"Amoxcicillin QID 30 tablets\")\n",
    "prediction"
   ]
  },
  {
   "cell_type": "code",
   "execution_count": 123,
   "metadata": {},
   "outputs": [
    {
     "data": {
      "text/plain": [
       "['Method',\n",
       " 'Qty',\n",
       " 'Form',\n",
       " 'Frequency',\n",
       " 'FOR',\n",
       " 'Duration',\n",
       " 'DurationUnit',\n",
       " 'WITH',\n",
       " 'FOOD']"
      ]
     },
     "execution_count": 123,
     "metadata": {},
     "output_type": "execute_result"
    }
   ],
   "source": [
    "prediction = predict(\"take 3 tabs TID for 90 days with food\")\n",
    "prediction"
   ]
  },
  {
   "cell_type": "code",
   "execution_count": 124,
   "metadata": {},
   "outputs": [
    {
     "data": {
      "text/plain": [
       "['WITH',\n",
       " 'FOOD',\n",
       " 'Method',\n",
       " 'Qty',\n",
       " 'Form',\n",
       " 'Frequency',\n",
       " 'PeriodUnit',\n",
       " 'FOR',\n",
       " 'Duration',\n",
       " 'DurationUnit']"
      ]
     },
     "execution_count": 124,
     "metadata": {},
     "output_type": "execute_result"
    }
   ],
   "source": [
    "prediction = predict(\"with food take 3 tablets per day for 90 days\")\n",
    "prediction"
   ]
  },
  {
   "cell_type": "code",
   "execution_count": 125,
   "metadata": {},
   "outputs": [
    {
     "data": {
      "text/plain": [
       "['WITH',\n",
       " 'FOOD',\n",
       " 'Method',\n",
       " 'Qty',\n",
       " 'Form',\n",
       " 'Frequency',\n",
       " 'PeriodUnit',\n",
       " 'FOR',\n",
       " 'Duration',\n",
       " 'DurationUnit']"
      ]
     },
     "execution_count": 125,
     "metadata": {},
     "output_type": "execute_result"
    }
   ],
   "source": [
    "prediction = predict(\"with food take 3 tablets per week for 90 weeks\")\n",
    "prediction"
   ]
  },
  {
   "cell_type": "code",
   "execution_count": 126,
   "metadata": {},
   "outputs": [
    {
     "data": {
      "text/plain": [
       "['Method', 'Qty', 'Form']"
      ]
     },
     "execution_count": 126,
     "metadata": {},
     "output_type": "execute_result"
    }
   ],
   "source": [
    "prediction = predict(\"take 2-4 tabs\")\n",
    "prediction"
   ]
  },
  {
   "cell_type": "code",
   "execution_count": 127,
   "metadata": {},
   "outputs": [
    {
     "data": {
      "text/plain": [
       "['Method', 'Qty', 'TO', 'Qty', 'Form']"
      ]
     },
     "execution_count": 127,
     "metadata": {},
     "output_type": "execute_result"
    }
   ],
   "source": [
    "prediction = predict(\"take 2 to 4 tabs\")\n",
    "prediction"
   ]
  },
  {
   "cell_type": "code",
   "execution_count": 128,
   "metadata": {},
   "outputs": [
    {
     "data": {
      "text/plain": [
       "['Method', 'Qty', 'TO', 'Qty', 'Form']"
      ]
     },
     "execution_count": 128,
     "metadata": {},
     "output_type": "execute_result"
    }
   ],
   "source": [
    "prediction = predict(\"take two to four tabs\")\n",
    "prediction"
   ]
  },
  {
   "cell_type": "code",
   "execution_count": 129,
   "metadata": {},
   "outputs": [
    {
     "data": {
      "text/plain": [
       "['Method', 'Qty', 'Form', 'FOR', 'Duration', 'TO', 'PeriodMax', 'PeriodUnit']"
      ]
     },
     "execution_count": 129,
     "metadata": {},
     "output_type": "execute_result"
    }
   ],
   "source": [
    "prediction = predict(\"take 2-4 tabs for 8 to 9 days\")\n",
    "prediction"
   ]
  },
  {
   "cell_type": "code",
   "execution_count": 130,
   "metadata": {},
   "outputs": [
    {
     "data": {
      "text/plain": [
       "['Method', 'Qty', 'Form', 'EVERY', 'Period', 'TO', 'PeriodMax', 'PeriodUnit']"
      ]
     },
     "execution_count": 130,
     "metadata": {},
     "output_type": "execute_result"
    }
   ],
   "source": [
    "prediction = predict(\"take 20 tabs every 6 to 8 days\")\n",
    "prediction"
   ]
  },
  {
   "cell_type": "code",
   "execution_count": 138,
   "metadata": {},
   "outputs": [
    {
     "data": {
      "text/plain": [
       "['Method', 'Qty', 'Form', 'EVERY', 'Period', 'TO', 'PeriodMax', 'PeriodUnit']"
      ]
     },
     "execution_count": 138,
     "metadata": {},
     "output_type": "execute_result"
    }
   ],
   "source": [
    "prediction = predict(\"take 2 tabs every 4 to 6 days\")\n",
    "prediction"
   ]
  },
  {
   "cell_type": "code",
   "execution_count": 139,
   "metadata": {},
   "outputs": [
    {
     "data": {
      "text/plain": [
       "['Method', 'Qty', 'Form', 'EVERY', 'Period', 'TO', 'PeriodMax', 'PeriodUnit']"
      ]
     },
     "execution_count": 139,
     "metadata": {},
     "output_type": "execute_result"
    }
   ],
   "source": [
    "prediction = predict(\"take 2 tabs every 2 to 10 weeks\")\n",
    "prediction"
   ]
  },
  {
   "cell_type": "code",
   "execution_count": 140,
   "metadata": {},
   "outputs": [
    {
     "data": {
      "text/plain": [
       "['Method', 'Qty', 'Form', 'EVERY', 'Period', 'TO', 'PeriodMax', 'PeriodUnit']"
      ]
     },
     "execution_count": 140,
     "metadata": {},
     "output_type": "execute_result"
    }
   ],
   "source": [
    "prediction = predict(\"take 2 tabs every 4 to 6 days\")\n",
    "prediction"
   ]
  },
  {
   "cell_type": "code",
   "execution_count": 141,
   "metadata": {},
   "outputs": [
    {
     "data": {
      "text/plain": [
       "['Method', 'Qty', 'Form', 'EVERY', 'Period', 'TO', 'PeriodMax', 'PeriodUnit']"
      ]
     },
     "execution_count": 141,
     "metadata": {},
     "output_type": "execute_result"
    }
   ],
   "source": [
    "prediction = predict(\"take 2 tabs every 2 to 10 months\")\n",
    "prediction"
   ]
  },
  {
   "cell_type": "code",
   "execution_count": 142,
   "metadata": {},
   "outputs": [
    {
     "data": {
      "text/plain": [
       "['EVERY', 'Period', 'PeriodUnit']"
      ]
     },
     "execution_count": 142,
     "metadata": {},
     "output_type": "execute_result"
    }
   ],
   "source": [
    "prediction = predict(\"every 60 mins\")\n",
    "prediction"
   ]
  },
  {
   "cell_type": "code",
   "execution_count": 143,
   "metadata": {},
   "outputs": [
    {
     "data": {
      "text/plain": [
       "['EVERY', 'Period', 'PeriodUnit']"
      ]
     },
     "execution_count": 143,
     "metadata": {},
     "output_type": "execute_result"
    }
   ],
   "source": [
    "prediction = predict(\"every 10 mins\")\n",
    "prediction"
   ]
  },
  {
   "cell_type": "code",
   "execution_count": 144,
   "metadata": {},
   "outputs": [
    {
     "data": {
      "text/plain": [
       "['EVERY', 'Period', 'TO', 'PeriodMax', 'PeriodUnit']"
      ]
     },
     "execution_count": 144,
     "metadata": {},
     "output_type": "execute_result"
    }
   ],
   "source": [
    "prediction = predict(\"every two to four months\")\n",
    "prediction"
   ]
  },
  {
   "cell_type": "code",
   "execution_count": 145,
   "metadata": {},
   "outputs": [
    {
     "data": {
      "text/plain": [
       "['Method', 'Qty', 'Form', 'EVERY', 'Period', 'TO', 'PeriodMax', 'PeriodUnit']"
      ]
     },
     "execution_count": 145,
     "metadata": {},
     "output_type": "execute_result"
    }
   ],
   "source": [
    "prediction = predict(\"take 2 tabs every 3 to 4 days\")\n",
    "prediction"
   ]
  },
  {
   "cell_type": "code",
   "execution_count": 146,
   "metadata": {},
   "outputs": [
    {
     "data": {
      "text/plain": [
       "['EVERY', 'Period', 'TO', 'Duration', 'DurationUnit', 'Method', 'Qty', 'Form']"
      ]
     },
     "execution_count": 146,
     "metadata": {},
     "output_type": "execute_result"
    }
   ],
   "source": [
    "prediction = predict(\"every 3 to 4 days take 20 tabs\")\n",
    "prediction"
   ]
  },
  {
   "cell_type": "code",
   "execution_count": 147,
   "metadata": {},
   "outputs": [
    {
     "data": {
      "text/plain": [
       "['Qty', 'Form', 'EVERY', 'Period', 'PeriodUnit', 'Method', 'Qty', 'Form']"
      ]
     },
     "execution_count": 147,
     "metadata": {},
     "output_type": "execute_result"
    }
   ],
   "source": [
    "prediction = predict(\"once in every 3 days take 3 tabs\")\n",
    "prediction"
   ]
  },
  {
   "cell_type": "code",
   "execution_count": 148,
   "metadata": {},
   "outputs": [
    {
     "data": {
      "text/plain": [
       "['Method',\n",
       " 'Qty',\n",
       " 'Form',\n",
       " 'Frequency',\n",
       " 'Period',\n",
       " 'EVERY',\n",
       " 'Period',\n",
       " 'PeriodUnit']"
      ]
     },
     "execution_count": 148,
     "metadata": {},
     "output_type": "execute_result"
    }
   ],
   "source": [
    "prediction = predict(\"take 3 tabs once in every 3 days\")\n",
    "prediction"
   ]
  },
  {
   "cell_type": "code",
   "execution_count": 154,
   "metadata": {},
   "outputs": [
    {
     "data": {
      "text/plain": [
       "['PO', 'Method', 'Qty', 'Form', 'EVERY', 'Period', 'PeriodUnit']"
      ]
     },
     "execution_count": 154,
     "metadata": {},
     "output_type": "execute_result"
    }
   ],
   "source": [
    "prediction = predict(\"orally take 20 tabs every 4-6 weeks\")\n",
    "prediction"
   ]
  },
  {
   "cell_type": "code",
   "execution_count": 150,
   "metadata": {},
   "outputs": [
    {
     "data": {
      "text/plain": [
       "['Qty', 'Form', 'FOR', 'Duration', 'DurationUnit']"
      ]
     },
     "execution_count": 150,
     "metadata": {},
     "output_type": "execute_result"
    }
   ],
   "source": [
    "prediction = predict(\"10 tabs x 2 days\")\n",
    "prediction"
   ]
  },
  {
   "cell_type": "code",
   "execution_count": 151,
   "metadata": {},
   "outputs": [
    {
     "data": {
      "text/plain": [
       "['Qty', 'Form', 'FOR', 'Duration', 'DurationUnit']"
      ]
     },
     "execution_count": 151,
     "metadata": {},
     "output_type": "execute_result"
    }
   ],
   "source": [
    "prediction = predict(\"3 capsule x 15 days\")\n",
    "prediction"
   ]
  },
  {
   "cell_type": "code",
   "execution_count": 152,
   "metadata": {},
   "outputs": [
    {
     "data": {
      "text/plain": [
       "['Qty', 'Form']"
      ]
     },
     "execution_count": 152,
     "metadata": {},
     "output_type": "execute_result"
    }
   ],
   "source": [
    "prediction = predict(\"10 tabs\")\n",
    "prediction"
   ]
  },
  {
   "cell_type": "code",
   "execution_count": null,
   "metadata": {},
   "outputs": [],
   "source": []
  }
 ],
 "metadata": {
  "kernelspec": {
   "display_name": "Python 3 (ipykernel)",
   "language": "python",
   "name": "python3"
  },
  "language_info": {
   "codemirror_mode": {
    "name": "ipython",
    "version": 3
   },
   "file_extension": ".py",
   "mimetype": "text/x-python",
   "name": "python",
   "nbconvert_exporter": "python",
   "pygments_lexer": "ipython3",
   "version": "3.11.5"
  }
 },
 "nbformat": 4,
 "nbformat_minor": 2
}
